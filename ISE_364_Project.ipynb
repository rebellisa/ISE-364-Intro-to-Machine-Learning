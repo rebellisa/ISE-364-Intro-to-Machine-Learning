{
  "nbformat": 4,
  "nbformat_minor": 0,
  "metadata": {
    "kernelspec": {
      "name": "python3",
      "display_name": "Python 3"
    },
    "language_info": {
      "codemirror_mode": {
        "name": "ipython",
        "version": 3
      },
      "file_extension": ".py",
      "mimetype": "text/x-python",
      "name": "python",
      "nbconvert_exporter": "python",
      "pygments_lexer": "ipython3",
      "version": "3.7.5"
    },
    "colab": {
      "name": "ISE_364_Project.ipynb",
      "provenance": [],
      "collapsed_sections": [
        "WTMz5dgmHEER",
        "9NLJhx8KNAYe",
        "1SYvPWFwd56v",
        "nxkbD0WId561",
        "g13ReTnx39wu",
        "MKTM6TkG4Fus",
        "pS4WN2-VlOhu",
        "Ly-AbHdylVd3",
        "C3X_gwD_7g_F",
        "hK6BWraXTER8",
        "tGQK9bWvh_Wq",
        "gBN7SuQreDMA",
        "hL3kpDU0eMYi",
        "2tS9eJyIxghS",
        "IgK7EY_B0Jma",
        "gXSAQRVcBiEL",
        "ksAQsTAWEmva",
        "xdJNiMhCJKN7",
        "mA7NArHs28dB",
        "jD6JYxp43HQs",
        "k1JvhL9e3Tjt",
        "FIsXa3cU3dI8",
        "8TFBMsCe3nuL"
      ],
      "toc_visible": true,
      "machine_shape": "hm"
    },
    "accelerator": "GPU"
  },
  "cells": [
    {
      "cell_type": "code",
      "metadata": {
        "id": "qYXHGNvrd554",
        "colab_type": "code",
        "outputId": "23431b9d-b07f-4ae5-abfb-19ba5820f8c5",
        "colab": {
          "base_uri": "https://localhost:8080/",
          "height": 80
        }
      },
      "source": [
        "import pandas as pd\n",
        "import matplotlib.pyplot as plt\n",
        "%matplotlib inline\n",
        "from sklearn.ensemble import ExtraTreesClassifier\n",
        "import numpy as np\n",
        "import seaborn as sb\n",
        "from sklearn.linear_model import LogisticRegression\n",
        "from sklearn.model_selection import train_test_split\n",
        "from sklearn.metrics import confusion_matrix\n",
        "from sklearn.metrics import classification_report\n",
        "import tensorflow\n",
        "from tensorflow.contrib.keras import models, layers\n",
        "from tensorflow.contrib.keras import activations, optimizers, losses\n",
        "from sklearn.preprocessing import StandardScaler\n",
        "from sklearn.metrics import confusion_matrix,classification_report\n",
        "import tensorflow.compat.v1 as tf"
      ],
      "execution_count": 1,
      "outputs": [
        {
          "output_type": "display_data",
          "data": {
            "text/html": [
              "<p style=\"color: red;\">\n",
              "The default version of TensorFlow in Colab will soon switch to TensorFlow 2.x.<br>\n",
              "We recommend you <a href=\"https://www.tensorflow.org/guide/migrate\" target=\"_blank\">upgrade</a> now \n",
              "or ensure your notebook will continue to use TensorFlow 1.x via the <code>%tensorflow_version 1.x</code> magic:\n",
              "<a href=\"https://colab.research.google.com/notebooks/tensorflow_version.ipynb\" target=\"_blank\">more info</a>.</p>\n"
            ],
            "text/plain": [
              "<IPython.core.display.HTML object>"
            ]
          },
          "metadata": {
            "tags": []
          }
        }
      ]
    },
    {
      "cell_type": "code",
      "metadata": {
        "id": "h3Tlzs2YeuhN",
        "colab_type": "code",
        "outputId": "12c83cda-3b83-44ed-fba9-5caba45060b7",
        "colab": {
          "resources": {
            "http://localhost:8080/nbextensions/google.colab/files.js": {
              "data": "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",
              "ok": true,
              "headers": [
                [
                  "content-type",
                  "application/javascript"
                ]
              ],
              "status": 200,
              "status_text": ""
            }
          },
          "base_uri": "https://localhost:8080/",
          "height": 40
        }
      },
      "source": [
        "from google.colab import files\n",
        "uploaded = files.upload()"
      ],
      "execution_count": 0,
      "outputs": [
        {
          "output_type": "display_data",
          "data": {
            "text/html": [
              "\n",
              "     <input type=\"file\" id=\"files-2ed32492-872a-4bd5-b657-5a4d53e9e551\" name=\"files[]\" multiple disabled />\n",
              "     <output id=\"result-2ed32492-872a-4bd5-b657-5a4d53e9e551\">\n",
              "      Upload widget is only available when the cell has been executed in the\n",
              "      current browser session. Please rerun this cell to enable.\n",
              "      </output>\n",
              "      <script src=\"/nbextensions/google.colab/files.js\"></script> "
            ],
            "text/plain": [
              "<IPython.core.display.HTML object>"
            ]
          },
          "metadata": {
            "tags": []
          }
        }
      ]
    },
    {
      "cell_type": "code",
      "metadata": {
        "id": "DMvx2nTNeR_k",
        "colab_type": "code",
        "outputId": "5feac9a8-df42-4f6d-8fcc-5370f51124b4",
        "colab": {
          "base_uri": "https://localhost:8080/",
          "height": 469
        }
      },
      "source": [
        "import os\n",
        "from google.colab import drive\n",
        "drive.mount('/content/gdrive', force_remount=True)\n",
        "!pwd\n",
        "os.chdir('gdrive/Shared drives/ISE 364 Project')\n",
        "!pwd\n",
        "!ls"
      ],
      "execution_count": 2,
      "outputs": [
        {
          "output_type": "stream",
          "text": [
            "Go to this URL in a browser: https://accounts.google.com/o/oauth2/auth?client_id=947318989803-6bn6qk8qdgf4n4g3pfee6491hc0brc4i.apps.googleusercontent.com&redirect_uri=urn%3aietf%3awg%3aoauth%3a2.0%3aoob&response_type=code&scope=email%20https%3a%2f%2fwww.googleapis.com%2fauth%2fdocs.test%20https%3a%2f%2fwww.googleapis.com%2fauth%2fdrive%20https%3a%2f%2fwww.googleapis.com%2fauth%2fdrive.photos.readonly%20https%3a%2f%2fwww.googleapis.com%2fauth%2fpeopleapi.readonly\n",
            "\n",
            "Enter your authorization code:\n",
            "··········\n",
            "Mounted at /content/gdrive\n",
            "/content\n",
            "/content/gdrive/Shared drives/ISE 364 Project\n",
            "'data (1).csv'\t\t     'ISE 364 Project.ipynb'\n",
            " data.csv\t\t     'ISE 364 Report.gdoc'\n",
            " data_pre_temp3.csv\t      myTreeName.dot\n",
            " data_pre_temp3.gsheet\t      Project5.ipynb\n",
            " df_replace.csv\t\t      Project.pdf\n",
            " df_replace_prediction1.csv   spark-2.4.4-bin-hadoop2.7\n",
            " df_replace_prediction.csv    spark-2.4.4-bin-hadoop2.7.tgz\n",
            " df_upsampled.csv\t      spark-2.4.4-bin-hadoop2.7.tgz.1\n",
            "'futures (1).csv'\t      spark-2.4.4-bin-hadoop2.7.tgz.2\n",
            " futures.csv\t\t      spark-2.4.4-bin-hadoop2.7.tgz.3\n"
          ],
          "name": "stdout"
        }
      ]
    },
    {
      "cell_type": "code",
      "metadata": {
        "id": "0eI8AgPsd56C",
        "colab_type": "code",
        "colab": {}
      },
      "source": [
        "missing_values = [\"?\"]"
      ],
      "execution_count": 0,
      "outputs": []
    },
    {
      "cell_type": "code",
      "metadata": {
        "id": "YYwx9Lz_d56I",
        "colab_type": "code",
        "colab": {}
      },
      "source": [
        "df = pd.read_csv('/content/gdrive/Shared drives/ISE 364 Project/data.csv',header = None,na_values = missing_values)"
      ],
      "execution_count": 0,
      "outputs": []
    },
    {
      "cell_type": "code",
      "metadata": {
        "scrolled": true,
        "id": "qHSuPqCnd56N",
        "colab_type": "code",
        "outputId": "fa8d2441-2605-465d-e322-419b4946c1d1",
        "colab": {
          "base_uri": "https://localhost:8080/",
          "height": 204
        }
      },
      "source": [
        "df.head()"
      ],
      "execution_count": 5,
      "outputs": [
        {
          "output_type": "execute_result",
          "data": {
            "text/html": [
              "<div>\n",
              "<style scoped>\n",
              "    .dataframe tbody tr th:only-of-type {\n",
              "        vertical-align: middle;\n",
              "    }\n",
              "\n",
              "    .dataframe tbody tr th {\n",
              "        vertical-align: top;\n",
              "    }\n",
              "\n",
              "    .dataframe thead th {\n",
              "        text-align: right;\n",
              "    }\n",
              "</style>\n",
              "<table border=\"1\" class=\"dataframe\">\n",
              "  <thead>\n",
              "    <tr style=\"text-align: right;\">\n",
              "      <th></th>\n",
              "      <th>0</th>\n",
              "      <th>1</th>\n",
              "      <th>2</th>\n",
              "      <th>3</th>\n",
              "      <th>4</th>\n",
              "      <th>5</th>\n",
              "      <th>6</th>\n",
              "      <th>7</th>\n",
              "      <th>8</th>\n",
              "      <th>9</th>\n",
              "      <th>10</th>\n",
              "      <th>11</th>\n",
              "      <th>12</th>\n",
              "      <th>13</th>\n",
              "      <th>14</th>\n",
              "    </tr>\n",
              "  </thead>\n",
              "  <tbody>\n",
              "    <tr>\n",
              "      <th>0</th>\n",
              "      <td>39</td>\n",
              "      <td>A0</td>\n",
              "      <td>77516</td>\n",
              "      <td>B0</td>\n",
              "      <td>13</td>\n",
              "      <td>C0</td>\n",
              "      <td>D0</td>\n",
              "      <td>E0</td>\n",
              "      <td>F0</td>\n",
              "      <td>G0</td>\n",
              "      <td>2174</td>\n",
              "      <td>0</td>\n",
              "      <td>40</td>\n",
              "      <td>H0</td>\n",
              "      <td>SMALL</td>\n",
              "    </tr>\n",
              "    <tr>\n",
              "      <th>1</th>\n",
              "      <td>50</td>\n",
              "      <td>A1</td>\n",
              "      <td>83311</td>\n",
              "      <td>B0</td>\n",
              "      <td>13</td>\n",
              "      <td>C1</td>\n",
              "      <td>D1</td>\n",
              "      <td>E1</td>\n",
              "      <td>F0</td>\n",
              "      <td>G0</td>\n",
              "      <td>0</td>\n",
              "      <td>0</td>\n",
              "      <td>13</td>\n",
              "      <td>H0</td>\n",
              "      <td>SMALL</td>\n",
              "    </tr>\n",
              "    <tr>\n",
              "      <th>2</th>\n",
              "      <td>38</td>\n",
              "      <td>A2</td>\n",
              "      <td>215646</td>\n",
              "      <td>B1</td>\n",
              "      <td>9</td>\n",
              "      <td>C2</td>\n",
              "      <td>D2</td>\n",
              "      <td>E0</td>\n",
              "      <td>F0</td>\n",
              "      <td>G0</td>\n",
              "      <td>0</td>\n",
              "      <td>0</td>\n",
              "      <td>40</td>\n",
              "      <td>H0</td>\n",
              "      <td>SMALL</td>\n",
              "    </tr>\n",
              "    <tr>\n",
              "      <th>3</th>\n",
              "      <td>53</td>\n",
              "      <td>A2</td>\n",
              "      <td>234721</td>\n",
              "      <td>B2</td>\n",
              "      <td>7</td>\n",
              "      <td>C1</td>\n",
              "      <td>D2</td>\n",
              "      <td>E1</td>\n",
              "      <td>F1</td>\n",
              "      <td>G0</td>\n",
              "      <td>0</td>\n",
              "      <td>0</td>\n",
              "      <td>40</td>\n",
              "      <td>H0</td>\n",
              "      <td>SMALL</td>\n",
              "    </tr>\n",
              "    <tr>\n",
              "      <th>4</th>\n",
              "      <td>28</td>\n",
              "      <td>A2</td>\n",
              "      <td>338409</td>\n",
              "      <td>B0</td>\n",
              "      <td>13</td>\n",
              "      <td>C1</td>\n",
              "      <td>D3</td>\n",
              "      <td>E2</td>\n",
              "      <td>F1</td>\n",
              "      <td>G1</td>\n",
              "      <td>0</td>\n",
              "      <td>0</td>\n",
              "      <td>40</td>\n",
              "      <td>H1</td>\n",
              "      <td>SMALL</td>\n",
              "    </tr>\n",
              "  </tbody>\n",
              "</table>\n",
              "</div>"
            ],
            "text/plain": [
              "   0   1       2   3   4   5   6   7   8   9     10  11  12  13     14\n",
              "0  39  A0   77516  B0  13  C0  D0  E0  F0  G0  2174   0  40  H0  SMALL\n",
              "1  50  A1   83311  B0  13  C1  D1  E1  F0  G0     0   0  13  H0  SMALL\n",
              "2  38  A2  215646  B1   9  C2  D2  E0  F0  G0     0   0  40  H0  SMALL\n",
              "3  53  A2  234721  B2   7  C1  D2  E1  F1  G0     0   0  40  H0  SMALL\n",
              "4  28  A2  338409  B0  13  C1  D3  E2  F1  G1     0   0  40  H1  SMALL"
            ]
          },
          "metadata": {
            "tags": []
          },
          "execution_count": 5
        }
      ]
    },
    {
      "cell_type": "code",
      "metadata": {
        "scrolled": true,
        "id": "JoZsqMGdd56V",
        "colab_type": "code",
        "outputId": "7ebaf83e-bba2-42fa-c591-6de650b718d4",
        "colab": {
          "base_uri": "https://localhost:8080/",
          "height": 357
        }
      },
      "source": [
        "df.info()"
      ],
      "execution_count": 6,
      "outputs": [
        {
          "output_type": "stream",
          "text": [
            "<class 'pandas.core.frame.DataFrame'>\n",
            "RangeIndex: 32561 entries, 0 to 32560\n",
            "Data columns (total 15 columns):\n",
            "0     32561 non-null int64\n",
            "1     30725 non-null object\n",
            "2     32561 non-null int64\n",
            "3     32561 non-null object\n",
            "4     32561 non-null int64\n",
            "5     32561 non-null object\n",
            "6     30718 non-null object\n",
            "7     32561 non-null object\n",
            "8     32561 non-null object\n",
            "9     32561 non-null object\n",
            "10    32561 non-null int64\n",
            "11    32561 non-null int64\n",
            "12    32561 non-null int64\n",
            "13    31978 non-null object\n",
            "14    32561 non-null object\n",
            "dtypes: int64(6), object(9)\n",
            "memory usage: 3.7+ MB\n"
          ],
          "name": "stdout"
        }
      ]
    },
    {
      "cell_type": "code",
      "metadata": {
        "scrolled": false,
        "id": "Zf6K-bW6d56Z",
        "colab_type": "code",
        "outputId": "e69e5481-eb07-46a0-d81e-3f3341e8fff5",
        "colab": {
          "base_uri": "https://localhost:8080/",
          "height": 289
        }
      },
      "source": [
        "print (df.isnull().sum())"
      ],
      "execution_count": 7,
      "outputs": [
        {
          "output_type": "stream",
          "text": [
            "0        0\n",
            "1     1836\n",
            "2        0\n",
            "3        0\n",
            "4        0\n",
            "5        0\n",
            "6     1843\n",
            "7        0\n",
            "8        0\n",
            "9        0\n",
            "10       0\n",
            "11       0\n",
            "12       0\n",
            "13     583\n",
            "14       0\n",
            "dtype: int64\n"
          ],
          "name": "stdout"
        }
      ]
    },
    {
      "cell_type": "code",
      "metadata": {
        "id": "9AWjuP2Jd56d",
        "colab_type": "code",
        "colab": {}
      },
      "source": [
        "df_prediction=pd.read_csv('/content/gdrive/Shared drives/ISE 364 Project/futures.csv',header = None,na_values = missing_values)"
      ],
      "execution_count": 0,
      "outputs": []
    },
    {
      "cell_type": "code",
      "metadata": {
        "id": "V576MomMd56g",
        "colab_type": "code",
        "outputId": "77d4078a-cf39-49af-f67b-3bb43d31ef72",
        "colab": {
          "base_uri": "https://localhost:8080/",
          "height": 204
        }
      },
      "source": [
        "df_prediction.head()"
      ],
      "execution_count": 9,
      "outputs": [
        {
          "output_type": "execute_result",
          "data": {
            "text/html": [
              "<div>\n",
              "<style scoped>\n",
              "    .dataframe tbody tr th:only-of-type {\n",
              "        vertical-align: middle;\n",
              "    }\n",
              "\n",
              "    .dataframe tbody tr th {\n",
              "        vertical-align: top;\n",
              "    }\n",
              "\n",
              "    .dataframe thead th {\n",
              "        text-align: right;\n",
              "    }\n",
              "</style>\n",
              "<table border=\"1\" class=\"dataframe\">\n",
              "  <thead>\n",
              "    <tr style=\"text-align: right;\">\n",
              "      <th></th>\n",
              "      <th>0</th>\n",
              "      <th>1</th>\n",
              "      <th>2</th>\n",
              "      <th>3</th>\n",
              "      <th>4</th>\n",
              "      <th>5</th>\n",
              "      <th>6</th>\n",
              "      <th>7</th>\n",
              "      <th>8</th>\n",
              "      <th>9</th>\n",
              "      <th>10</th>\n",
              "      <th>11</th>\n",
              "      <th>12</th>\n",
              "      <th>13</th>\n",
              "    </tr>\n",
              "  </thead>\n",
              "  <tbody>\n",
              "    <tr>\n",
              "      <th>0</th>\n",
              "      <td>38</td>\n",
              "      <td>A0</td>\n",
              "      <td>89814</td>\n",
              "      <td>B1</td>\n",
              "      <td>9</td>\n",
              "      <td>C1</td>\n",
              "      <td>D1</td>\n",
              "      <td>E1</td>\n",
              "      <td>F1</td>\n",
              "      <td>G0</td>\n",
              "      <td>0</td>\n",
              "      <td>0</td>\n",
              "      <td>50</td>\n",
              "      <td>H0</td>\n",
              "    </tr>\n",
              "    <tr>\n",
              "      <th>1</th>\n",
              "      <td>28</td>\n",
              "      <td>A1</td>\n",
              "      <td>336951</td>\n",
              "      <td>B2</td>\n",
              "      <td>12</td>\n",
              "      <td>C1</td>\n",
              "      <td>D2</td>\n",
              "      <td>E1</td>\n",
              "      <td>F1</td>\n",
              "      <td>G0</td>\n",
              "      <td>0</td>\n",
              "      <td>0</td>\n",
              "      <td>40</td>\n",
              "      <td>H0</td>\n",
              "    </tr>\n",
              "    <tr>\n",
              "      <th>2</th>\n",
              "      <td>44</td>\n",
              "      <td>A0</td>\n",
              "      <td>160323</td>\n",
              "      <td>B3</td>\n",
              "      <td>10</td>\n",
              "      <td>C1</td>\n",
              "      <td>D0</td>\n",
              "      <td>E1</td>\n",
              "      <td>F0</td>\n",
              "      <td>G0</td>\n",
              "      <td>7688</td>\n",
              "      <td>0</td>\n",
              "      <td>40</td>\n",
              "      <td>H0</td>\n",
              "    </tr>\n",
              "    <tr>\n",
              "      <th>3</th>\n",
              "      <td>18</td>\n",
              "      <td>NaN</td>\n",
              "      <td>103497</td>\n",
              "      <td>B3</td>\n",
              "      <td>10</td>\n",
              "      <td>C0</td>\n",
              "      <td>NaN</td>\n",
              "      <td>E0</td>\n",
              "      <td>F1</td>\n",
              "      <td>G1</td>\n",
              "      <td>0</td>\n",
              "      <td>0</td>\n",
              "      <td>30</td>\n",
              "      <td>H0</td>\n",
              "    </tr>\n",
              "    <tr>\n",
              "      <th>4</th>\n",
              "      <td>63</td>\n",
              "      <td>A3</td>\n",
              "      <td>104626</td>\n",
              "      <td>B5</td>\n",
              "      <td>15</td>\n",
              "      <td>C1</td>\n",
              "      <td>D5</td>\n",
              "      <td>E1</td>\n",
              "      <td>F1</td>\n",
              "      <td>G0</td>\n",
              "      <td>3103</td>\n",
              "      <td>0</td>\n",
              "      <td>32</td>\n",
              "      <td>H0</td>\n",
              "    </tr>\n",
              "  </tbody>\n",
              "</table>\n",
              "</div>"
            ],
            "text/plain": [
              "   0    1       2   3   4   5    6   7   8   9     10  11  12  13\n",
              "0  38   A0   89814  B1   9  C1   D1  E1  F1  G0     0   0  50  H0\n",
              "1  28   A1  336951  B2  12  C1   D2  E1  F1  G0     0   0  40  H0\n",
              "2  44   A0  160323  B3  10  C1   D0  E1  F0  G0  7688   0  40  H0\n",
              "3  18  NaN  103497  B3  10  C0  NaN  E0  F1  G1     0   0  30  H0\n",
              "4  63   A3  104626  B5  15  C1   D5  E1  F1  G0  3103   0  32  H0"
            ]
          },
          "metadata": {
            "tags": []
          },
          "execution_count": 9
        }
      ]
    },
    {
      "cell_type": "code",
      "metadata": {
        "id": "ym6zp12ad56k",
        "colab_type": "code",
        "colab": {}
      },
      "source": [
        "df_replace = df.copy()"
      ],
      "execution_count": 0,
      "outputs": []
    },
    {
      "cell_type": "code",
      "metadata": {
        "id": "0HF14OB7d56o",
        "colab_type": "code",
        "colab": {}
      },
      "source": [
        "df_replace_prediction = df_prediction.copy()"
      ],
      "execution_count": 0,
      "outputs": []
    },
    {
      "cell_type": "markdown",
      "metadata": {
        "id": "-wPqDuaOA2bK",
        "colab_type": "text"
      },
      "source": [
        "# 1 Data Preparation"
      ]
    },
    {
      "cell_type": "markdown",
      "metadata": {
        "id": "zjAOXngmCIHD",
        "colab_type": "text"
      },
      "source": [
        "### 1.1 Data Visualization"
      ]
    },
    {
      "cell_type": "markdown",
      "metadata": {
        "id": "WTMz5dgmHEER",
        "colab_type": "text"
      },
      "source": [
        "### 1.1.1 Visualizing the Target Column "
      ]
    },
    {
      "cell_type": "code",
      "metadata": {
        "id": "OAl-oqO6Nzkf",
        "colab_type": "code",
        "colab": {}
      },
      "source": [
        "# converting the integer column name to string\n",
        "df.columns = df.columns.map(str)\n",
        "df_replace.columns = df_replace.columns.map(str)"
      ],
      "execution_count": 0,
      "outputs": []
    },
    {
      "cell_type": "code",
      "metadata": {
        "id": "GjqTNv38G2AS",
        "colab_type": "code",
        "outputId": "eeead20c-9ebe-4a2b-ea58-fa9ca1ab8889",
        "colab": {
          "base_uri": "https://localhost:8080/"
        }
      },
      "source": [
        "df_replace['14'].value_counts()"
      ],
      "execution_count": 0,
      "outputs": [
        {
          "output_type": "execute_result",
          "data": {
            "text/plain": [
              "SMALL    24720\n",
              "LARGE     7841\n",
              "Name: 14, dtype: int64"
            ]
          },
          "metadata": {
            "tags": []
          },
          "execution_count": 14
        }
      ]
    },
    {
      "cell_type": "code",
      "metadata": {
        "id": "cpZzof6mCsUd",
        "colab_type": "code",
        "outputId": "6cf6db1c-d3b2-4484-c1f9-bdf50208f71f",
        "colab": {
          "base_uri": "https://localhost:8080/"
        }
      },
      "source": [
        "# The percentage of \"SMALL\"/\"2\" in our dataset is 75.11% while the percentage of \"LARGE\"/\"2\" is only 24.89%.\n",
        "# Therefore, imbalanced issue may be considered later in our models\n",
        "df_replace['14'].value_counts().plot(x=None,y=None, kind='pie',autopct='%1.2f%%',title =\"Taget Percentage\")"
      ],
      "execution_count": 0,
      "outputs": [
        {
          "output_type": "execute_result",
          "data": {
            "text/plain": [
              "<matplotlib.axes._subplots.AxesSubplot at 0x7f51ac435a90>"
            ]
          },
          "metadata": {
            "tags": []
          },
          "execution_count": 15
        },
        {
          "output_type": "display_data",
          "data": {
            "image/png": "[encoded data removed]",
            "text/plain": [
              "<Figure size 432x288 with 1 Axes>"
            ]
          },
          "metadata": {
            "tags": []
          }
        }
      ]
    },
    {
      "cell_type": "markdown",
      "metadata": {
        "id": "9NLJhx8KNAYe",
        "colab_type": "text"
      },
      "source": [
        "## 1.2.2 Visualizing the categorical Column"
      ]
    },
    {
      "cell_type": "code",
      "metadata": {
        "id": "sRoW0dFRWY-F",
        "colab_type": "code",
        "colab": {}
      },
      "source": [
        "import seaborn as sns\n",
        "df_replace.dropna(inplace=True)\n",
        "df_replace_prediction.dropna(inplace=True)"
      ],
      "execution_count": 0,
      "outputs": []
    },
    {
      "cell_type": "code",
      "metadata": {
        "id": "iouw0pCsQPqp",
        "colab_type": "code",
        "outputId": "409f4bd1-ec0a-453d-d141-bc273a044bad",
        "colab": {
          "base_uri": "https://localhost:8080/"
        }
      },
      "source": [
        "fig, ax =plt.subplots(4,2,figsize=[25,8])\n",
        "ax = ax.flatten()\n",
        "plt.subplots_adjust(wspace=0.5, hspace=0.5)\n",
        "sns.countplot(df_replace[\"1\"], ax=ax[0])\n",
        "sns.countplot(df_replace[\"3\"], ax=ax[1])\n",
        "sns.countplot(df_replace[\"5\"],ax=ax[2])\n",
        "sns.countplot(df_replace[\"6\"],ax=ax[3])\n",
        "sns.countplot(df_replace[\"7\"],ax=ax[4])\n",
        "sns.countplot(df_replace[\"8\"],ax=ax[5])\n",
        "sns.countplot(df_replace[\"9\"],ax=ax[6])\n",
        "sns.countplot(df_replace[\"13\"],ax=ax[7])\n",
        "plt.tight_layout()\n",
        "fig.show()"
      ],
      "execution_count": 0,
      "outputs": [
        {
          "output_type": "display_data",
          "data": {
            "image/png": "[encoded data removed]",
            "text/plain": [
              "<Figure size 1800x576 with 8 Axes>"
            ]
          },
          "metadata": {
            "tags": []
          }
        }
      ]
    },
    {
      "cell_type": "markdown",
      "metadata": {
        "id": "sx0oq64GJ_gJ",
        "colab_type": "text"
      },
      "source": [
        "## 1.3 Preparing the Features for Machine Learning"
      ]
    },
    {
      "cell_type": "markdown",
      "metadata": {
        "id": "1SYvPWFwd56v",
        "colab_type": "text"
      },
      "source": [
        "### 1.3.1 Drop Missing Values"
      ]
    },
    {
      "cell_type": "code",
      "metadata": {
        "id": "EK1DWvRLaL2N",
        "colab_type": "code",
        "colab": {}
      },
      "source": [
        "df_replace=df_replace.dropna()"
      ],
      "execution_count": 0,
      "outputs": []
    },
    {
      "cell_type": "markdown",
      "metadata": {
        "id": "nxkbD0WId561",
        "colab_type": "text"
      },
      "source": [
        "### 1.3.2 Transform Categorical value to Numerical value"
      ]
    },
    {
      "cell_type": "code",
      "metadata": {
        "id": "ZfbEryPzd562",
        "colab_type": "code",
        "colab": {}
      },
      "source": [
        "from sklearn.preprocessing import OneHotEncoder\n",
        "from sklearn.preprocessing import LabelEncoder\n",
        "le = LabelEncoder()\n",
        "ohe = OneHotEncoder(sparse=False)\n",
        "df_replace_le = ohe.fit_transform(df_replace)"
      ],
      "execution_count": 0,
      "outputs": []
    },
    {
      "cell_type": "code",
      "metadata": {
        "id": "iWvNEtRbd564",
        "colab_type": "code",
        "colab": {}
      },
      "source": [
        "class MultiColumnLabelEncoder:\n",
        "    \n",
        "    def __init__(self, columns = None):\n",
        "        self.columns = columns \n",
        "    def fit(self, X, y=None):\n",
        "        return self\n",
        "    def transform(self, X):\n",
        "        \n",
        "        output = X.copy()\n",
        "        \n",
        "        if self.columns is not None:\n",
        "            for col in self.columns:\n",
        "                output[col] = LabelEncoder().fit_transform(output[col])\n",
        "        else:\n",
        "            for colname, col in output.iteritems():\n",
        "                output[colname] = LabelEncoder().fit_transform(col)\n",
        "        \n",
        "        return output\n",
        "    def fit_transform(self, X, y=None):\n",
        "        return self.fit(X, y).transform(X)"
      ],
      "execution_count": 0,
      "outputs": []
    },
    {
      "cell_type": "code",
      "metadata": {
        "scrolled": false,
        "id": "j237GjWNd566",
        "colab_type": "code",
        "outputId": "cebffff1-243d-47dc-c5d3-9fdf2e8c457a",
        "colab": {
          "base_uri": "https://localhost:8080/",
          "height": 1000
        }
      },
      "source": [
        "le = MultiColumnLabelEncoder()\n",
        "df_replace_le = le.fit_transform(df_replace)\n",
        "df_replace_le.head(50)"
      ],
      "execution_count": 15,
      "outputs": [
        {
          "output_type": "execute_result",
          "data": {
            "text/html": [
              "<div>\n",
              "<style scoped>\n",
              "    .dataframe tbody tr th:only-of-type {\n",
              "        vertical-align: middle;\n",
              "    }\n",
              "\n",
              "    .dataframe tbody tr th {\n",
              "        vertical-align: top;\n",
              "    }\n",
              "\n",
              "    .dataframe thead th {\n",
              "        text-align: right;\n",
              "    }\n",
              "</style>\n",
              "<table border=\"1\" class=\"dataframe\">\n",
              "  <thead>\n",
              "    <tr style=\"text-align: right;\">\n",
              "      <th></th>\n",
              "      <th>0</th>\n",
              "      <th>1</th>\n",
              "      <th>2</th>\n",
              "      <th>3</th>\n",
              "      <th>4</th>\n",
              "      <th>5</th>\n",
              "      <th>6</th>\n",
              "      <th>7</th>\n",
              "      <th>8</th>\n",
              "      <th>9</th>\n",
              "      <th>10</th>\n",
              "      <th>11</th>\n",
              "      <th>12</th>\n",
              "      <th>13</th>\n",
              "      <th>14</th>\n",
              "    </tr>\n",
              "  </thead>\n",
              "  <tbody>\n",
              "    <tr>\n",
              "      <th>0</th>\n",
              "      <td>22</td>\n",
              "      <td>0</td>\n",
              "      <td>2491</td>\n",
              "      <td>0</td>\n",
              "      <td>12</td>\n",
              "      <td>0</td>\n",
              "      <td>0</td>\n",
              "      <td>0</td>\n",
              "      <td>0</td>\n",
              "      <td>0</td>\n",
              "      <td>24</td>\n",
              "      <td>0</td>\n",
              "      <td>39</td>\n",
              "      <td>0</td>\n",
              "      <td>1</td>\n",
              "    </tr>\n",
              "    <tr>\n",
              "      <th>1</th>\n",
              "      <td>33</td>\n",
              "      <td>1</td>\n",
              "      <td>2727</td>\n",
              "      <td>0</td>\n",
              "      <td>12</td>\n",
              "      <td>1</td>\n",
              "      <td>1</td>\n",
              "      <td>1</td>\n",
              "      <td>0</td>\n",
              "      <td>0</td>\n",
              "      <td>0</td>\n",
              "      <td>0</td>\n",
              "      <td>12</td>\n",
              "      <td>0</td>\n",
              "      <td>1</td>\n",
              "    </tr>\n",
              "    <tr>\n",
              "      <th>2</th>\n",
              "      <td>21</td>\n",
              "      <td>2</td>\n",
              "      <td>13188</td>\n",
              "      <td>1</td>\n",
              "      <td>8</td>\n",
              "      <td>2</td>\n",
              "      <td>6</td>\n",
              "      <td>0</td>\n",
              "      <td>0</td>\n",
              "      <td>0</td>\n",
              "      <td>0</td>\n",
              "      <td>0</td>\n",
              "      <td>39</td>\n",
              "      <td>0</td>\n",
              "      <td>1</td>\n",
              "    </tr>\n",
              "    <tr>\n",
              "      <th>3</th>\n",
              "      <td>36</td>\n",
              "      <td>2</td>\n",
              "      <td>14354</td>\n",
              "      <td>8</td>\n",
              "      <td>6</td>\n",
              "      <td>1</td>\n",
              "      <td>6</td>\n",
              "      <td>1</td>\n",
              "      <td>1</td>\n",
              "      <td>0</td>\n",
              "      <td>0</td>\n",
              "      <td>0</td>\n",
              "      <td>39</td>\n",
              "      <td>0</td>\n",
              "      <td>1</td>\n",
              "    </tr>\n",
              "    <tr>\n",
              "      <th>4</th>\n",
              "      <td>11</td>\n",
              "      <td>2</td>\n",
              "      <td>18120</td>\n",
              "      <td>0</td>\n",
              "      <td>12</td>\n",
              "      <td>1</td>\n",
              "      <td>7</td>\n",
              "      <td>2</td>\n",
              "      <td>1</td>\n",
              "      <td>1</td>\n",
              "      <td>0</td>\n",
              "      <td>0</td>\n",
              "      <td>39</td>\n",
              "      <td>1</td>\n",
              "      <td>1</td>\n",
              "    </tr>\n",
              "    <tr>\n",
              "      <th>5</th>\n",
              "      <td>20</td>\n",
              "      <td>2</td>\n",
              "      <td>16567</td>\n",
              "      <td>9</td>\n",
              "      <td>13</td>\n",
              "      <td>1</td>\n",
              "      <td>1</td>\n",
              "      <td>2</td>\n",
              "      <td>0</td>\n",
              "      <td>1</td>\n",
              "      <td>0</td>\n",
              "      <td>0</td>\n",
              "      <td>39</td>\n",
              "      <td>0</td>\n",
              "      <td>1</td>\n",
              "    </tr>\n",
              "    <tr>\n",
              "      <th>6</th>\n",
              "      <td>32</td>\n",
              "      <td>2</td>\n",
              "      <td>7982</td>\n",
              "      <td>10</td>\n",
              "      <td>4</td>\n",
              "      <td>3</td>\n",
              "      <td>8</td>\n",
              "      <td>0</td>\n",
              "      <td>1</td>\n",
              "      <td>1</td>\n",
              "      <td>0</td>\n",
              "      <td>0</td>\n",
              "      <td>15</td>\n",
              "      <td>12</td>\n",
              "      <td>1</td>\n",
              "    </tr>\n",
              "    <tr>\n",
              "      <th>7</th>\n",
              "      <td>35</td>\n",
              "      <td>1</td>\n",
              "      <td>12746</td>\n",
              "      <td>1</td>\n",
              "      <td>8</td>\n",
              "      <td>1</td>\n",
              "      <td>1</td>\n",
              "      <td>1</td>\n",
              "      <td>0</td>\n",
              "      <td>0</td>\n",
              "      <td>0</td>\n",
              "      <td>0</td>\n",
              "      <td>44</td>\n",
              "      <td>0</td>\n",
              "      <td>0</td>\n",
              "    </tr>\n",
              "    <tr>\n",
              "      <th>8</th>\n",
              "      <td>14</td>\n",
              "      <td>2</td>\n",
              "      <td>1225</td>\n",
              "      <td>9</td>\n",
              "      <td>13</td>\n",
              "      <td>0</td>\n",
              "      <td>7</td>\n",
              "      <td>0</td>\n",
              "      <td>0</td>\n",
              "      <td>1</td>\n",
              "      <td>104</td>\n",
              "      <td>0</td>\n",
              "      <td>49</td>\n",
              "      <td>0</td>\n",
              "      <td>0</td>\n",
              "    </tr>\n",
              "    <tr>\n",
              "      <th>9</th>\n",
              "      <td>25</td>\n",
              "      <td>2</td>\n",
              "      <td>7908</td>\n",
              "      <td>0</td>\n",
              "      <td>12</td>\n",
              "      <td>1</td>\n",
              "      <td>1</td>\n",
              "      <td>1</td>\n",
              "      <td>0</td>\n",
              "      <td>0</td>\n",
              "      <td>78</td>\n",
              "      <td>0</td>\n",
              "      <td>39</td>\n",
              "      <td>0</td>\n",
              "      <td>0</td>\n",
              "    </tr>\n",
              "    <tr>\n",
              "      <th>10</th>\n",
              "      <td>20</td>\n",
              "      <td>2</td>\n",
              "      <td>16411</td>\n",
              "      <td>11</td>\n",
              "      <td>9</td>\n",
              "      <td>1</td>\n",
              "      <td>1</td>\n",
              "      <td>1</td>\n",
              "      <td>1</td>\n",
              "      <td>0</td>\n",
              "      <td>0</td>\n",
              "      <td>0</td>\n",
              "      <td>76</td>\n",
              "      <td>0</td>\n",
              "      <td>0</td>\n",
              "    </tr>\n",
              "    <tr>\n",
              "      <th>11</th>\n",
              "      <td>13</td>\n",
              "      <td>0</td>\n",
              "      <td>6629</td>\n",
              "      <td>0</td>\n",
              "      <td>12</td>\n",
              "      <td>1</td>\n",
              "      <td>7</td>\n",
              "      <td>1</td>\n",
              "      <td>2</td>\n",
              "      <td>0</td>\n",
              "      <td>0</td>\n",
              "      <td>0</td>\n",
              "      <td>39</td>\n",
              "      <td>23</td>\n",
              "      <td>0</td>\n",
              "    </tr>\n",
              "    <tr>\n",
              "      <th>12</th>\n",
              "      <td>6</td>\n",
              "      <td>2</td>\n",
              "      <td>5399</td>\n",
              "      <td>0</td>\n",
              "      <td>12</td>\n",
              "      <td>0</td>\n",
              "      <td>0</td>\n",
              "      <td>3</td>\n",
              "      <td>0</td>\n",
              "      <td>1</td>\n",
              "      <td>0</td>\n",
              "      <td>0</td>\n",
              "      <td>29</td>\n",
              "      <td>0</td>\n",
              "      <td>1</td>\n",
              "    </tr>\n",
              "    <tr>\n",
              "      <th>13</th>\n",
              "      <td>15</td>\n",
              "      <td>2</td>\n",
              "      <td>12364</td>\n",
              "      <td>12</td>\n",
              "      <td>11</td>\n",
              "      <td>0</td>\n",
              "      <td>9</td>\n",
              "      <td>0</td>\n",
              "      <td>1</td>\n",
              "      <td>0</td>\n",
              "      <td>0</td>\n",
              "      <td>0</td>\n",
              "      <td>49</td>\n",
              "      <td>0</td>\n",
              "      <td>1</td>\n",
              "    </tr>\n",
              "    <tr>\n",
              "      <th>15</th>\n",
              "      <td>17</td>\n",
              "      <td>2</td>\n",
              "      <td>14951</td>\n",
              "      <td>14</td>\n",
              "      <td>3</td>\n",
              "      <td>1</td>\n",
              "      <td>11</td>\n",
              "      <td>1</td>\n",
              "      <td>3</td>\n",
              "      <td>0</td>\n",
              "      <td>0</td>\n",
              "      <td>0</td>\n",
              "      <td>44</td>\n",
              "      <td>36</td>\n",
              "      <td>1</td>\n",
              "    </tr>\n",
              "    <tr>\n",
              "      <th>16</th>\n",
              "      <td>8</td>\n",
              "      <td>1</td>\n",
              "      <td>9507</td>\n",
              "      <td>1</td>\n",
              "      <td>8</td>\n",
              "      <td>0</td>\n",
              "      <td>12</td>\n",
              "      <td>3</td>\n",
              "      <td>0</td>\n",
              "      <td>0</td>\n",
              "      <td>0</td>\n",
              "      <td>0</td>\n",
              "      <td>34</td>\n",
              "      <td>0</td>\n",
              "      <td>1</td>\n",
              "    </tr>\n",
              "    <tr>\n",
              "      <th>17</th>\n",
              "      <td>15</td>\n",
              "      <td>2</td>\n",
              "      <td>10533</td>\n",
              "      <td>1</td>\n",
              "      <td>8</td>\n",
              "      <td>0</td>\n",
              "      <td>13</td>\n",
              "      <td>4</td>\n",
              "      <td>0</td>\n",
              "      <td>0</td>\n",
              "      <td>0</td>\n",
              "      <td>0</td>\n",
              "      <td>39</td>\n",
              "      <td>0</td>\n",
              "      <td>1</td>\n",
              "    </tr>\n",
              "    <tr>\n",
              "      <th>18</th>\n",
              "      <td>21</td>\n",
              "      <td>2</td>\n",
              "      <td>292</td>\n",
              "      <td>8</td>\n",
              "      <td>6</td>\n",
              "      <td>1</td>\n",
              "      <td>9</td>\n",
              "      <td>1</td>\n",
              "      <td>0</td>\n",
              "      <td>0</td>\n",
              "      <td>0</td>\n",
              "      <td>0</td>\n",
              "      <td>49</td>\n",
              "      <td>0</td>\n",
              "      <td>1</td>\n",
              "    </tr>\n",
              "    <tr>\n",
              "      <th>19</th>\n",
              "      <td>26</td>\n",
              "      <td>1</td>\n",
              "      <td>16831</td>\n",
              "      <td>9</td>\n",
              "      <td>13</td>\n",
              "      <td>2</td>\n",
              "      <td>1</td>\n",
              "      <td>4</td>\n",
              "      <td>0</td>\n",
              "      <td>1</td>\n",
              "      <td>0</td>\n",
              "      <td>0</td>\n",
              "      <td>44</td>\n",
              "      <td>0</td>\n",
              "      <td>0</td>\n",
              "    </tr>\n",
              "    <tr>\n",
              "      <th>20</th>\n",
              "      <td>23</td>\n",
              "      <td>2</td>\n",
              "      <td>11280</td>\n",
              "      <td>15</td>\n",
              "      <td>15</td>\n",
              "      <td>1</td>\n",
              "      <td>7</td>\n",
              "      <td>1</td>\n",
              "      <td>0</td>\n",
              "      <td>0</td>\n",
              "      <td>0</td>\n",
              "      <td>0</td>\n",
              "      <td>59</td>\n",
              "      <td>0</td>\n",
              "      <td>0</td>\n",
              "    </tr>\n",
              "    <tr>\n",
              "      <th>21</th>\n",
              "      <td>37</td>\n",
              "      <td>2</td>\n",
              "      <td>17134</td>\n",
              "      <td>1</td>\n",
              "      <td>8</td>\n",
              "      <td>4</td>\n",
              "      <td>8</td>\n",
              "      <td>4</td>\n",
              "      <td>1</td>\n",
              "      <td>1</td>\n",
              "      <td>0</td>\n",
              "      <td>0</td>\n",
              "      <td>19</td>\n",
              "      <td>0</td>\n",
              "      <td>1</td>\n",
              "    </tr>\n",
              "    <tr>\n",
              "      <th>22</th>\n",
              "      <td>18</td>\n",
              "      <td>3</td>\n",
              "      <td>2457</td>\n",
              "      <td>10</td>\n",
              "      <td>4</td>\n",
              "      <td>1</td>\n",
              "      <td>12</td>\n",
              "      <td>1</td>\n",
              "      <td>1</td>\n",
              "      <td>0</td>\n",
              "      <td>0</td>\n",
              "      <td>0</td>\n",
              "      <td>39</td>\n",
              "      <td>0</td>\n",
              "      <td>1</td>\n",
              "    </tr>\n",
              "    <tr>\n",
              "      <th>23</th>\n",
              "      <td>26</td>\n",
              "      <td>2</td>\n",
              "      <td>4963</td>\n",
              "      <td>8</td>\n",
              "      <td>6</td>\n",
              "      <td>1</td>\n",
              "      <td>11</td>\n",
              "      <td>1</td>\n",
              "      <td>0</td>\n",
              "      <td>0</td>\n",
              "      <td>0</td>\n",
              "      <td>54</td>\n",
              "      <td>39</td>\n",
              "      <td>0</td>\n",
              "      <td>1</td>\n",
              "    </tr>\n",
              "    <tr>\n",
              "      <th>24</th>\n",
              "      <td>42</td>\n",
              "      <td>2</td>\n",
              "      <td>4309</td>\n",
              "      <td>1</td>\n",
              "      <td>8</td>\n",
              "      <td>2</td>\n",
              "      <td>2</td>\n",
              "      <td>4</td>\n",
              "      <td>0</td>\n",
              "      <td>1</td>\n",
              "      <td>0</td>\n",
              "      <td>0</td>\n",
              "      <td>39</td>\n",
              "      <td>0</td>\n",
              "      <td>1</td>\n",
              "    </tr>\n",
              "    <tr>\n",
              "      <th>25</th>\n",
              "      <td>39</td>\n",
              "      <td>4</td>\n",
              "      <td>13274</td>\n",
              "      <td>0</td>\n",
              "      <td>12</td>\n",
              "      <td>1</td>\n",
              "      <td>2</td>\n",
              "      <td>1</td>\n",
              "      <td>0</td>\n",
              "      <td>0</td>\n",
              "      <td>0</td>\n",
              "      <td>0</td>\n",
              "      <td>39</td>\n",
              "      <td>0</td>\n",
              "      <td>0</td>\n",
              "    </tr>\n",
              "    <tr>\n",
              "      <th>26</th>\n",
              "      <td>2</td>\n",
              "      <td>2</td>\n",
              "      <td>8667</td>\n",
              "      <td>1</td>\n",
              "      <td>8</td>\n",
              "      <td>0</td>\n",
              "      <td>10</td>\n",
              "      <td>3</td>\n",
              "      <td>0</td>\n",
              "      <td>0</td>\n",
              "      <td>0</td>\n",
              "      <td>0</td>\n",
              "      <td>39</td>\n",
              "      <td>0</td>\n",
              "      <td>1</td>\n",
              "    </tr>\n",
              "    <tr>\n",
              "      <th>28</th>\n",
              "      <td>22</td>\n",
              "      <td>2</td>\n",
              "      <td>18795</td>\n",
              "      <td>1</td>\n",
              "      <td>8</td>\n",
              "      <td>2</td>\n",
              "      <td>1</td>\n",
              "      <td>0</td>\n",
              "      <td>0</td>\n",
              "      <td>0</td>\n",
              "      <td>0</td>\n",
              "      <td>0</td>\n",
              "      <td>76</td>\n",
              "      <td>0</td>\n",
              "      <td>1</td>\n",
              "    </tr>\n",
              "    <tr>\n",
              "      <th>29</th>\n",
              "      <td>32</td>\n",
              "      <td>2</td>\n",
              "      <td>11265</td>\n",
              "      <td>1</td>\n",
              "      <td>8</td>\n",
              "      <td>1</td>\n",
              "      <td>10</td>\n",
              "      <td>1</td>\n",
              "      <td>0</td>\n",
              "      <td>0</td>\n",
              "      <td>0</td>\n",
              "      <td>0</td>\n",
              "      <td>39</td>\n",
              "      <td>0</td>\n",
              "      <td>1</td>\n",
              "    </tr>\n",
              "    <tr>\n",
              "      <th>30</th>\n",
              "      <td>6</td>\n",
              "      <td>4</td>\n",
              "      <td>10970</td>\n",
              "      <td>12</td>\n",
              "      <td>11</td>\n",
              "      <td>0</td>\n",
              "      <td>3</td>\n",
              "      <td>0</td>\n",
              "      <td>0</td>\n",
              "      <td>0</td>\n",
              "      <td>0</td>\n",
              "      <td>0</td>\n",
              "      <td>51</td>\n",
              "      <td>0</td>\n",
              "      <td>1</td>\n",
              "    </tr>\n",
              "    <tr>\n",
              "      <th>31</th>\n",
              "      <td>3</td>\n",
              "      <td>2</td>\n",
              "      <td>15818</td>\n",
              "      <td>11</td>\n",
              "      <td>9</td>\n",
              "      <td>0</td>\n",
              "      <td>9</td>\n",
              "      <td>3</td>\n",
              "      <td>1</td>\n",
              "      <td>0</td>\n",
              "      <td>0</td>\n",
              "      <td>0</td>\n",
              "      <td>43</td>\n",
              "      <td>0</td>\n",
              "      <td>1</td>\n",
              "    </tr>\n",
              "    <tr>\n",
              "      <th>32</th>\n",
              "      <td>28</td>\n",
              "      <td>2</td>\n",
              "      <td>19113</td>\n",
              "      <td>0</td>\n",
              "      <td>12</td>\n",
              "      <td>2</td>\n",
              "      <td>1</td>\n",
              "      <td>3</td>\n",
              "      <td>0</td>\n",
              "      <td>0</td>\n",
              "      <td>0</td>\n",
              "      <td>15</td>\n",
              "      <td>39</td>\n",
              "      <td>0</td>\n",
              "      <td>1</td>\n",
              "    </tr>\n",
              "    <tr>\n",
              "      <th>33</th>\n",
              "      <td>13</td>\n",
              "      <td>3</td>\n",
              "      <td>1847</td>\n",
              "      <td>11</td>\n",
              "      <td>9</td>\n",
              "      <td>1</td>\n",
              "      <td>0</td>\n",
              "      <td>3</td>\n",
              "      <td>0</td>\n",
              "      <td>0</td>\n",
              "      <td>0</td>\n",
              "      <td>0</td>\n",
              "      <td>39</td>\n",
              "      <td>0</td>\n",
              "      <td>1</td>\n",
              "    </tr>\n",
              "    <tr>\n",
              "      <th>34</th>\n",
              "      <td>5</td>\n",
              "      <td>0</td>\n",
              "      <td>17406</td>\n",
              "      <td>11</td>\n",
              "      <td>9</td>\n",
              "      <td>1</td>\n",
              "      <td>8</td>\n",
              "      <td>1</td>\n",
              "      <td>1</td>\n",
              "      <td>0</td>\n",
              "      <td>0</td>\n",
              "      <td>0</td>\n",
              "      <td>14</td>\n",
              "      <td>0</td>\n",
              "      <td>1</td>\n",
              "    </tr>\n",
              "    <tr>\n",
              "      <th>35</th>\n",
              "      <td>31</td>\n",
              "      <td>2</td>\n",
              "      <td>14788</td>\n",
              "      <td>8</td>\n",
              "      <td>6</td>\n",
              "      <td>0</td>\n",
              "      <td>13</td>\n",
              "      <td>4</td>\n",
              "      <td>0</td>\n",
              "      <td>0</td>\n",
              "      <td>0</td>\n",
              "      <td>0</td>\n",
              "      <td>39</td>\n",
              "      <td>38</td>\n",
              "      <td>1</td>\n",
              "    </tr>\n",
              "    <tr>\n",
              "      <th>36</th>\n",
              "      <td>4</td>\n",
              "      <td>2</td>\n",
              "      <td>11626</td>\n",
              "      <td>11</td>\n",
              "      <td>9</td>\n",
              "      <td>0</td>\n",
              "      <td>13</td>\n",
              "      <td>3</td>\n",
              "      <td>0</td>\n",
              "      <td>0</td>\n",
              "      <td>0</td>\n",
              "      <td>0</td>\n",
              "      <td>39</td>\n",
              "      <td>0</td>\n",
              "      <td>1</td>\n",
              "    </tr>\n",
              "    <tr>\n",
              "      <th>37</th>\n",
              "      <td>2</td>\n",
              "      <td>2</td>\n",
              "      <td>20060</td>\n",
              "      <td>1</td>\n",
              "      <td>8</td>\n",
              "      <td>5</td>\n",
              "      <td>0</td>\n",
              "      <td>2</td>\n",
              "      <td>0</td>\n",
              "      <td>1</td>\n",
              "      <td>0</td>\n",
              "      <td>0</td>\n",
              "      <td>24</td>\n",
              "      <td>0</td>\n",
              "      <td>1</td>\n",
              "    </tr>\n",
              "    <tr>\n",
              "      <th>39</th>\n",
              "      <td>31</td>\n",
              "      <td>1</td>\n",
              "      <td>15799</td>\n",
              "      <td>12</td>\n",
              "      <td>11</td>\n",
              "      <td>1</td>\n",
              "      <td>7</td>\n",
              "      <td>1</td>\n",
              "      <td>0</td>\n",
              "      <td>0</td>\n",
              "      <td>0</td>\n",
              "      <td>0</td>\n",
              "      <td>39</td>\n",
              "      <td>0</td>\n",
              "      <td>1</td>\n",
              "    </tr>\n",
              "    <tr>\n",
              "      <th>40</th>\n",
              "      <td>14</td>\n",
              "      <td>2</td>\n",
              "      <td>19976</td>\n",
              "      <td>10</td>\n",
              "      <td>4</td>\n",
              "      <td>1</td>\n",
              "      <td>13</td>\n",
              "      <td>1</td>\n",
              "      <td>0</td>\n",
              "      <td>0</td>\n",
              "      <td>0</td>\n",
              "      <td>0</td>\n",
              "      <td>42</td>\n",
              "      <td>0</td>\n",
              "      <td>1</td>\n",
              "    </tr>\n",
              "    <tr>\n",
              "      <th>41</th>\n",
              "      <td>36</td>\n",
              "      <td>1</td>\n",
              "      <td>2958</td>\n",
              "      <td>0</td>\n",
              "      <td>12</td>\n",
              "      <td>1</td>\n",
              "      <td>7</td>\n",
              "      <td>1</td>\n",
              "      <td>0</td>\n",
              "      <td>0</td>\n",
              "      <td>0</td>\n",
              "      <td>0</td>\n",
              "      <td>39</td>\n",
              "      <td>0</td>\n",
              "      <td>1</td>\n",
              "    </tr>\n",
              "    <tr>\n",
              "      <th>42</th>\n",
              "      <td>7</td>\n",
              "      <td>2</td>\n",
              "      <td>9091</td>\n",
              "      <td>0</td>\n",
              "      <td>12</td>\n",
              "      <td>1</td>\n",
              "      <td>2</td>\n",
              "      <td>1</td>\n",
              "      <td>0</td>\n",
              "      <td>0</td>\n",
              "      <td>0</td>\n",
              "      <td>0</td>\n",
              "      <td>49</td>\n",
              "      <td>0</td>\n",
              "      <td>1</td>\n",
              "    </tr>\n",
              "    <tr>\n",
              "      <th>43</th>\n",
              "      <td>32</td>\n",
              "      <td>2</td>\n",
              "      <td>3244</td>\n",
              "      <td>1</td>\n",
              "      <td>8</td>\n",
              "      <td>4</td>\n",
              "      <td>0</td>\n",
              "      <td>4</td>\n",
              "      <td>0</td>\n",
              "      <td>1</td>\n",
              "      <td>0</td>\n",
              "      <td>0</td>\n",
              "      <td>39</td>\n",
              "      <td>0</td>\n",
              "      <td>1</td>\n",
              "    </tr>\n",
              "    <tr>\n",
              "      <th>44</th>\n",
              "      <td>8</td>\n",
              "      <td>2</td>\n",
              "      <td>16763</td>\n",
              "      <td>1</td>\n",
              "      <td>8</td>\n",
              "      <td>0</td>\n",
              "      <td>6</td>\n",
              "      <td>0</td>\n",
              "      <td>0</td>\n",
              "      <td>0</td>\n",
              "      <td>0</td>\n",
              "      <td>0</td>\n",
              "      <td>34</td>\n",
              "      <td>0</td>\n",
              "      <td>1</td>\n",
              "    </tr>\n",
              "    <tr>\n",
              "      <th>45</th>\n",
              "      <td>40</td>\n",
              "      <td>3</td>\n",
              "      <td>18104</td>\n",
              "      <td>0</td>\n",
              "      <td>12</td>\n",
              "      <td>1</td>\n",
              "      <td>7</td>\n",
              "      <td>1</td>\n",
              "      <td>1</td>\n",
              "      <td>0</td>\n",
              "      <td>0</td>\n",
              "      <td>0</td>\n",
              "      <td>39</td>\n",
              "      <td>0</td>\n",
              "      <td>0</td>\n",
              "    </tr>\n",
              "    <tr>\n",
              "      <th>46</th>\n",
              "      <td>36</td>\n",
              "      <td>2</td>\n",
              "      <td>6863</td>\n",
              "      <td>1</td>\n",
              "      <td>8</td>\n",
              "      <td>1</td>\n",
              "      <td>13</td>\n",
              "      <td>1</td>\n",
              "      <td>0</td>\n",
              "      <td>0</td>\n",
              "      <td>0</td>\n",
              "      <td>0</td>\n",
              "      <td>37</td>\n",
              "      <td>0</td>\n",
              "      <td>1</td>\n",
              "    </tr>\n",
              "    <tr>\n",
              "      <th>47</th>\n",
              "      <td>27</td>\n",
              "      <td>2</td>\n",
              "      <td>5814</td>\n",
              "      <td>9</td>\n",
              "      <td>13</td>\n",
              "      <td>2</td>\n",
              "      <td>1</td>\n",
              "      <td>4</td>\n",
              "      <td>0</td>\n",
              "      <td>1</td>\n",
              "      <td>0</td>\n",
              "      <td>0</td>\n",
              "      <td>39</td>\n",
              "      <td>0</td>\n",
              "      <td>1</td>\n",
              "    </tr>\n",
              "    <tr>\n",
              "      <th>48</th>\n",
              "      <td>24</td>\n",
              "      <td>0</td>\n",
              "      <td>3722</td>\n",
              "      <td>13</td>\n",
              "      <td>10</td>\n",
              "      <td>1</td>\n",
              "      <td>10</td>\n",
              "      <td>1</td>\n",
              "      <td>0</td>\n",
              "      <td>0</td>\n",
              "      <td>0</td>\n",
              "      <td>0</td>\n",
              "      <td>39</td>\n",
              "      <td>0</td>\n",
              "      <td>1</td>\n",
              "    </tr>\n",
              "    <tr>\n",
              "      <th>49</th>\n",
              "      <td>12</td>\n",
              "      <td>2</td>\n",
              "      <td>16051</td>\n",
              "      <td>13</td>\n",
              "      <td>10</td>\n",
              "      <td>0</td>\n",
              "      <td>7</td>\n",
              "      <td>0</td>\n",
              "      <td>0</td>\n",
              "      <td>0</td>\n",
              "      <td>0</td>\n",
              "      <td>0</td>\n",
              "      <td>42</td>\n",
              "      <td>0</td>\n",
              "      <td>1</td>\n",
              "    </tr>\n",
              "    <tr>\n",
              "      <th>50</th>\n",
              "      <td>8</td>\n",
              "      <td>2</td>\n",
              "      <td>513</td>\n",
              "      <td>11</td>\n",
              "      <td>9</td>\n",
              "      <td>1</td>\n",
              "      <td>1</td>\n",
              "      <td>2</td>\n",
              "      <td>4</td>\n",
              "      <td>1</td>\n",
              "      <td>0</td>\n",
              "      <td>0</td>\n",
              "      <td>39</td>\n",
              "      <td>0</td>\n",
              "      <td>1</td>\n",
              "    </tr>\n",
              "    <tr>\n",
              "      <th>52</th>\n",
              "      <td>30</td>\n",
              "      <td>2</td>\n",
              "      <td>1494</td>\n",
              "      <td>2</td>\n",
              "      <td>14</td>\n",
              "      <td>1</td>\n",
              "      <td>7</td>\n",
              "      <td>2</td>\n",
              "      <td>0</td>\n",
              "      <td>1</td>\n",
              "      <td>0</td>\n",
              "      <td>47</td>\n",
              "      <td>59</td>\n",
              "      <td>39</td>\n",
              "      <td>0</td>\n",
              "    </tr>\n",
              "    <tr>\n",
              "      <th>53</th>\n",
              "      <td>33</td>\n",
              "      <td>3</td>\n",
              "      <td>15228</td>\n",
              "      <td>0</td>\n",
              "      <td>12</td>\n",
              "      <td>2</td>\n",
              "      <td>1</td>\n",
              "      <td>0</td>\n",
              "      <td>0</td>\n",
              "      <td>0</td>\n",
              "      <td>0</td>\n",
              "      <td>0</td>\n",
              "      <td>54</td>\n",
              "      <td>0</td>\n",
              "      <td>0</td>\n",
              "    </tr>\n",
              "  </tbody>\n",
              "</table>\n",
              "</div>"
            ],
            "text/plain": [
              "    0   1      2   3   4   5   6   7   8   9    10  11  12  13  14\n",
              "0   22   0   2491   0  12   0   0   0   0   0   24   0  39   0   1\n",
              "1   33   1   2727   0  12   1   1   1   0   0    0   0  12   0   1\n",
              "2   21   2  13188   1   8   2   6   0   0   0    0   0  39   0   1\n",
              "3   36   2  14354   8   6   1   6   1   1   0    0   0  39   0   1\n",
              "4   11   2  18120   0  12   1   7   2   1   1    0   0  39   1   1\n",
              "5   20   2  16567   9  13   1   1   2   0   1    0   0  39   0   1\n",
              "6   32   2   7982  10   4   3   8   0   1   1    0   0  15  12   1\n",
              "7   35   1  12746   1   8   1   1   1   0   0    0   0  44   0   0\n",
              "8   14   2   1225   9  13   0   7   0   0   1  104   0  49   0   0\n",
              "9   25   2   7908   0  12   1   1   1   0   0   78   0  39   0   0\n",
              "10  20   2  16411  11   9   1   1   1   1   0    0   0  76   0   0\n",
              "11  13   0   6629   0  12   1   7   1   2   0    0   0  39  23   0\n",
              "12   6   2   5399   0  12   0   0   3   0   1    0   0  29   0   1\n",
              "13  15   2  12364  12  11   0   9   0   1   0    0   0  49   0   1\n",
              "15  17   2  14951  14   3   1  11   1   3   0    0   0  44  36   1\n",
              "16   8   1   9507   1   8   0  12   3   0   0    0   0  34   0   1\n",
              "17  15   2  10533   1   8   0  13   4   0   0    0   0  39   0   1\n",
              "18  21   2    292   8   6   1   9   1   0   0    0   0  49   0   1\n",
              "19  26   1  16831   9  13   2   1   4   0   1    0   0  44   0   0\n",
              "20  23   2  11280  15  15   1   7   1   0   0    0   0  59   0   0\n",
              "21  37   2  17134   1   8   4   8   4   1   1    0   0  19   0   1\n",
              "22  18   3   2457  10   4   1  12   1   1   0    0   0  39   0   1\n",
              "23  26   2   4963   8   6   1  11   1   0   0    0  54  39   0   1\n",
              "24  42   2   4309   1   8   2   2   4   0   1    0   0  39   0   1\n",
              "25  39   4  13274   0  12   1   2   1   0   0    0   0  39   0   0\n",
              "26   2   2   8667   1   8   0  10   3   0   0    0   0  39   0   1\n",
              "28  22   2  18795   1   8   2   1   0   0   0    0   0  76   0   1\n",
              "29  32   2  11265   1   8   1  10   1   0   0    0   0  39   0   1\n",
              "30   6   4  10970  12  11   0   3   0   0   0    0   0  51   0   1\n",
              "31   3   2  15818  11   9   0   9   3   1   0    0   0  43   0   1\n",
              "32  28   2  19113   0  12   2   1   3   0   0    0  15  39   0   1\n",
              "33  13   3   1847  11   9   1   0   3   0   0    0   0  39   0   1\n",
              "34   5   0  17406  11   9   1   8   1   1   0    0   0  14   0   1\n",
              "35  31   2  14788   8   6   0  13   4   0   0    0   0  39  38   1\n",
              "36   4   2  11626  11   9   0  13   3   0   0    0   0  39   0   1\n",
              "37   2   2  20060   1   8   5   0   2   0   1    0   0  24   0   1\n",
              "39  31   1  15799  12  11   1   7   1   0   0    0   0  39   0   1\n",
              "40  14   2  19976  10   4   1  13   1   0   0    0   0  42   0   1\n",
              "41  36   1   2958   0  12   1   7   1   0   0    0   0  39   0   1\n",
              "42   7   2   9091   0  12   1   2   1   0   0    0   0  49   0   1\n",
              "43  32   2   3244   1   8   4   0   4   0   1    0   0  39   0   1\n",
              "44   8   2  16763   1   8   0   6   0   0   0    0   0  34   0   1\n",
              "45  40   3  18104   0  12   1   7   1   1   0    0   0  39   0   0\n",
              "46  36   2   6863   1   8   1  13   1   0   0    0   0  37   0   1\n",
              "47  27   2   5814   9  13   2   1   4   0   1    0   0  39   0   1\n",
              "48  24   0   3722  13  10   1  10   1   0   0    0   0  39   0   1\n",
              "49  12   2  16051  13  10   0   7   0   0   0    0   0  42   0   1\n",
              "50   8   2    513  11   9   1   1   2   4   1    0   0  39   0   1\n",
              "52  30   2   1494   2  14   1   7   2   0   1    0  47  59  39   0\n",
              "53  33   3  15228   0  12   2   1   0   0   0    0   0  54   0   0"
            ]
          },
          "metadata": {
            "tags": []
          },
          "execution_count": 15
        }
      ]
    },
    {
      "cell_type": "code",
      "metadata": {
        "id": "kyMZieKXd567",
        "colab_type": "code",
        "outputId": "baf3bed8-7152-4206-b4a8-0c4d76107a80",
        "colab": {
          "base_uri": "https://localhost:8080/",
          "height": 357
        }
      },
      "source": [
        "df_replace_le.info()"
      ],
      "execution_count": 16,
      "outputs": [
        {
          "output_type": "stream",
          "text": [
            "<class 'pandas.core.frame.DataFrame'>\n",
            "Int64Index: 30162 entries, 0 to 32560\n",
            "Data columns (total 15 columns):\n",
            "0     30162 non-null int64\n",
            "1     30162 non-null int64\n",
            "2     30162 non-null int64\n",
            "3     30162 non-null int64\n",
            "4     30162 non-null int64\n",
            "5     30162 non-null int64\n",
            "6     30162 non-null int64\n",
            "7     30162 non-null int64\n",
            "8     30162 non-null int64\n",
            "9     30162 non-null int64\n",
            "10    30162 non-null int64\n",
            "11    30162 non-null int64\n",
            "12    30162 non-null int64\n",
            "13    30162 non-null int64\n",
            "14    30162 non-null int64\n",
            "dtypes: int64(15)\n",
            "memory usage: 3.7 MB\n"
          ],
          "name": "stdout"
        }
      ]
    },
    {
      "cell_type": "code",
      "metadata": {
        "id": "JZhfuZOEjkjU",
        "colab_type": "code",
        "outputId": "3b695c44-bb9c-4586-fabf-71687861a1bc",
        "colab": {
          "base_uri": "https://localhost:8080/",
          "height": 204
        }
      },
      "source": [
        "le = MultiColumnLabelEncoder()\n",
        "df_replace_le = le.fit_transform(df_replace)\n",
        "df_replace_le.head()"
      ],
      "execution_count": 25,
      "outputs": [
        {
          "output_type": "execute_result",
          "data": {
            "text/html": [
              "<div>\n",
              "<style scoped>\n",
              "    .dataframe tbody tr th:only-of-type {\n",
              "        vertical-align: middle;\n",
              "    }\n",
              "\n",
              "    .dataframe tbody tr th {\n",
              "        vertical-align: top;\n",
              "    }\n",
              "\n",
              "    .dataframe thead th {\n",
              "        text-align: right;\n",
              "    }\n",
              "</style>\n",
              "<table border=\"1\" class=\"dataframe\">\n",
              "  <thead>\n",
              "    <tr style=\"text-align: right;\">\n",
              "      <th></th>\n",
              "      <th>0</th>\n",
              "      <th>1</th>\n",
              "      <th>2</th>\n",
              "      <th>3</th>\n",
              "      <th>4</th>\n",
              "      <th>5</th>\n",
              "      <th>6</th>\n",
              "      <th>7</th>\n",
              "      <th>8</th>\n",
              "      <th>9</th>\n",
              "      <th>10</th>\n",
              "      <th>11</th>\n",
              "      <th>12</th>\n",
              "      <th>13</th>\n",
              "      <th>14</th>\n",
              "    </tr>\n",
              "  </thead>\n",
              "  <tbody>\n",
              "    <tr>\n",
              "      <th>0</th>\n",
              "      <td>22</td>\n",
              "      <td>0</td>\n",
              "      <td>2491</td>\n",
              "      <td>0</td>\n",
              "      <td>12</td>\n",
              "      <td>0</td>\n",
              "      <td>0</td>\n",
              "      <td>0</td>\n",
              "      <td>0</td>\n",
              "      <td>0</td>\n",
              "      <td>24</td>\n",
              "      <td>0</td>\n",
              "      <td>39</td>\n",
              "      <td>0</td>\n",
              "      <td>1</td>\n",
              "    </tr>\n",
              "    <tr>\n",
              "      <th>1</th>\n",
              "      <td>33</td>\n",
              "      <td>1</td>\n",
              "      <td>2727</td>\n",
              "      <td>0</td>\n",
              "      <td>12</td>\n",
              "      <td>1</td>\n",
              "      <td>1</td>\n",
              "      <td>1</td>\n",
              "      <td>0</td>\n",
              "      <td>0</td>\n",
              "      <td>0</td>\n",
              "      <td>0</td>\n",
              "      <td>12</td>\n",
              "      <td>0</td>\n",
              "      <td>1</td>\n",
              "    </tr>\n",
              "    <tr>\n",
              "      <th>2</th>\n",
              "      <td>21</td>\n",
              "      <td>2</td>\n",
              "      <td>13188</td>\n",
              "      <td>1</td>\n",
              "      <td>8</td>\n",
              "      <td>2</td>\n",
              "      <td>6</td>\n",
              "      <td>0</td>\n",
              "      <td>0</td>\n",
              "      <td>0</td>\n",
              "      <td>0</td>\n",
              "      <td>0</td>\n",
              "      <td>39</td>\n",
              "      <td>0</td>\n",
              "      <td>1</td>\n",
              "    </tr>\n",
              "    <tr>\n",
              "      <th>3</th>\n",
              "      <td>36</td>\n",
              "      <td>2</td>\n",
              "      <td>14354</td>\n",
              "      <td>8</td>\n",
              "      <td>6</td>\n",
              "      <td>1</td>\n",
              "      <td>6</td>\n",
              "      <td>1</td>\n",
              "      <td>1</td>\n",
              "      <td>0</td>\n",
              "      <td>0</td>\n",
              "      <td>0</td>\n",
              "      <td>39</td>\n",
              "      <td>0</td>\n",
              "      <td>1</td>\n",
              "    </tr>\n",
              "    <tr>\n",
              "      <th>4</th>\n",
              "      <td>11</td>\n",
              "      <td>2</td>\n",
              "      <td>18120</td>\n",
              "      <td>0</td>\n",
              "      <td>12</td>\n",
              "      <td>1</td>\n",
              "      <td>7</td>\n",
              "      <td>2</td>\n",
              "      <td>1</td>\n",
              "      <td>1</td>\n",
              "      <td>0</td>\n",
              "      <td>0</td>\n",
              "      <td>39</td>\n",
              "      <td>1</td>\n",
              "      <td>1</td>\n",
              "    </tr>\n",
              "  </tbody>\n",
              "</table>\n",
              "</div>"
            ],
            "text/plain": [
              "    0  1      2  3   4  5  6  7  8  9  10  11  12  13  14\n",
              "0  22  0   2491  0  12  0  0  0  0  0  24   0  39   0   1\n",
              "1  33  1   2727  0  12  1  1  1  0  0   0   0  12   0   1\n",
              "2  21  2  13188  1   8  2  6  0  0  0   0   0  39   0   1\n",
              "3  36  2  14354  8   6  1  6  1  1  0   0   0  39   0   1\n",
              "4  11  2  18120  0  12  1  7  2  1  1   0   0  39   1   1"
            ]
          },
          "metadata": {
            "tags": []
          },
          "execution_count": 25
        }
      ]
    },
    {
      "cell_type": "code",
      "metadata": {
        "id": "vtor9SqUM4oS",
        "colab_type": "code",
        "outputId": "9bfd0a68-a35b-4b08-f8b6-0b3d2f87efe1",
        "colab": {
          "base_uri": "https://localhost:8080/",
          "height": 235
        }
      },
      "source": [
        "selected_columns = [\"0\",\"2\",\"4\",\"10\",\"11\",\"12\"]\n",
        "data2 = pd.DataFrame(data = df_replace_le, columns = selected_columns)\n",
        "data2.corr()"
      ],
      "execution_count": 26,
      "outputs": [
        {
          "output_type": "execute_result",
          "data": {
            "text/html": [
              "<div>\n",
              "<style scoped>\n",
              "    .dataframe tbody tr th:only-of-type {\n",
              "        vertical-align: middle;\n",
              "    }\n",
              "\n",
              "    .dataframe tbody tr th {\n",
              "        vertical-align: top;\n",
              "    }\n",
              "\n",
              "    .dataframe thead th {\n",
              "        text-align: right;\n",
              "    }\n",
              "</style>\n",
              "<table border=\"1\" class=\"dataframe\">\n",
              "  <thead>\n",
              "    <tr style=\"text-align: right;\">\n",
              "      <th></th>\n",
              "      <th>0</th>\n",
              "      <th>2</th>\n",
              "      <th>4</th>\n",
              "      <th>10</th>\n",
              "      <th>11</th>\n",
              "      <th>12</th>\n",
              "    </tr>\n",
              "  </thead>\n",
              "  <tbody>\n",
              "    <tr>\n",
              "      <th>0</th>\n",
              "      <td>1.000000</td>\n",
              "      <td>-0.078136</td>\n",
              "      <td>0.043544</td>\n",
              "      <td>0.127099</td>\n",
              "      <td>0.066324</td>\n",
              "      <td>0.102539</td>\n",
              "    </tr>\n",
              "    <tr>\n",
              "      <th>2</th>\n",
              "      <td>-0.078136</td>\n",
              "      <td>1.000000</td>\n",
              "      <td>-0.043944</td>\n",
              "      <td>-0.005102</td>\n",
              "      <td>-0.009561</td>\n",
              "      <td>-0.024572</td>\n",
              "    </tr>\n",
              "    <tr>\n",
              "      <th>4</th>\n",
              "      <td>0.043544</td>\n",
              "      <td>-0.043944</td>\n",
              "      <td>1.000000</td>\n",
              "      <td>0.154461</td>\n",
              "      <td>0.083858</td>\n",
              "      <td>0.154684</td>\n",
              "    </tr>\n",
              "    <tr>\n",
              "      <th>10</th>\n",
              "      <td>0.127099</td>\n",
              "      <td>-0.005102</td>\n",
              "      <td>0.154461</td>\n",
              "      <td>1.000000</td>\n",
              "      <td>-0.058161</td>\n",
              "      <td>0.102407</td>\n",
              "    </tr>\n",
              "    <tr>\n",
              "      <th>11</th>\n",
              "      <td>0.066324</td>\n",
              "      <td>-0.009561</td>\n",
              "      <td>0.083858</td>\n",
              "      <td>-0.058161</td>\n",
              "      <td>1.000000</td>\n",
              "      <td>0.057450</td>\n",
              "    </tr>\n",
              "    <tr>\n",
              "      <th>12</th>\n",
              "      <td>0.102539</td>\n",
              "      <td>-0.024572</td>\n",
              "      <td>0.154684</td>\n",
              "      <td>0.102407</td>\n",
              "      <td>0.057450</td>\n",
              "      <td>1.000000</td>\n",
              "    </tr>\n",
              "  </tbody>\n",
              "</table>\n",
              "</div>"
            ],
            "text/plain": [
              "           0         2         4        10        11        12\n",
              "0   1.000000 -0.078136  0.043544  0.127099  0.066324  0.102539\n",
              "2  -0.078136  1.000000 -0.043944 -0.005102 -0.009561 -0.024572\n",
              "4   0.043544 -0.043944  1.000000  0.154461  0.083858  0.154684\n",
              "10  0.127099 -0.005102  0.154461  1.000000 -0.058161  0.102407\n",
              "11  0.066324 -0.009561  0.083858 -0.058161  1.000000  0.057450\n",
              "12  0.102539 -0.024572  0.154684  0.102407  0.057450  1.000000"
            ]
          },
          "metadata": {
            "tags": []
          },
          "execution_count": 26
        }
      ]
    },
    {
      "cell_type": "code",
      "metadata": {
        "id": "AVUrt4nPNEf4",
        "colab_type": "code",
        "outputId": "9d2e816e-9694-401a-f59d-a69960b12893",
        "colab": {
          "base_uri": "https://localhost:8080/",
          "height": 286
        }
      },
      "source": [
        "sb.heatmap(df_replace_le.corr(), cmap='coolwarm')"
      ],
      "execution_count": 19,
      "outputs": [
        {
          "output_type": "execute_result",
          "data": {
            "text/plain": [
              "<matplotlib.axes._subplots.AxesSubplot at 0x7f058a65af60>"
            ]
          },
          "metadata": {
            "tags": []
          },
          "execution_count": 19
        },
        {
          "output_type": "display_data",
          "data": {
            "image/png": "[encoded data removed]",
            "text/plain": [
              "<Figure size 432x288 with 2 Axes>"
            ]
          },
          "metadata": {
            "tags": []
          }
        }
      ]
    },
    {
      "cell_type": "code",
      "metadata": {
        "id": "VpRSmYO4d56-",
        "colab_type": "code",
        "colab": {}
      },
      "source": [
        "from sklearn.preprocessing import OneHotEncoder\n",
        "from sklearn.preprocessing import LabelEncoder\n",
        "le = LabelEncoder()\n",
        "ohe = OneHotEncoder(sparse=False)\n",
        "df_prediction_le = ohe.fit_transform(df_replace)"
      ],
      "execution_count": 0,
      "outputs": []
    },
    {
      "cell_type": "code",
      "metadata": {
        "id": "VxOyuT-5d56_",
        "colab_type": "code",
        "colab": {}
      },
      "source": [
        "class MultiColumnLabelEncoder:\n",
        "    \n",
        "    def __init__(self, columns = None):\n",
        "        self.columns = columns \n",
        "    def fit(self, X, y=None):\n",
        "        return self\n",
        "    def transform(self, X):\n",
        "        \n",
        "        output = X.copy()\n",
        "        \n",
        "        if self.columns is not None:\n",
        "            for col in self.columns:\n",
        "                output[col] = LabelEncoder().fit_transform(output[col])\n",
        "        else:\n",
        "            for colname, col in output.iteritems():\n",
        "                output[colname] = LabelEncoder().fit_transform(col)\n",
        "        \n",
        "        return output\n",
        "    def fit_transform(self, X, y=None):\n",
        "        return self.fit(X, y).transform(X)"
      ],
      "execution_count": 0,
      "outputs": []
    },
    {
      "cell_type": "code",
      "metadata": {
        "id": "sBmaaA0cEBle",
        "colab_type": "code",
        "outputId": "18955fad-abda-4628-bda2-f6186a47f0a8",
        "colab": {
          "base_uri": "https://localhost:8080/",
          "height": 204
        }
      },
      "source": [
        "le = MultiColumnLabelEncoder()\n",
        "df_prediction_le = le.fit_transform(df_replace)\n",
        "df_prediction_le.head()"
      ],
      "execution_count": 29,
      "outputs": [
        {
          "output_type": "execute_result",
          "data": {
            "text/html": [
              "<div>\n",
              "<style scoped>\n",
              "    .dataframe tbody tr th:only-of-type {\n",
              "        vertical-align: middle;\n",
              "    }\n",
              "\n",
              "    .dataframe tbody tr th {\n",
              "        vertical-align: top;\n",
              "    }\n",
              "\n",
              "    .dataframe thead th {\n",
              "        text-align: right;\n",
              "    }\n",
              "</style>\n",
              "<table border=\"1\" class=\"dataframe\">\n",
              "  <thead>\n",
              "    <tr style=\"text-align: right;\">\n",
              "      <th></th>\n",
              "      <th>0</th>\n",
              "      <th>1</th>\n",
              "      <th>2</th>\n",
              "      <th>3</th>\n",
              "      <th>4</th>\n",
              "      <th>5</th>\n",
              "      <th>6</th>\n",
              "      <th>7</th>\n",
              "      <th>8</th>\n",
              "      <th>9</th>\n",
              "      <th>10</th>\n",
              "      <th>11</th>\n",
              "      <th>12</th>\n",
              "      <th>13</th>\n",
              "      <th>14</th>\n",
              "    </tr>\n",
              "  </thead>\n",
              "  <tbody>\n",
              "    <tr>\n",
              "      <th>0</th>\n",
              "      <td>22</td>\n",
              "      <td>0</td>\n",
              "      <td>2491</td>\n",
              "      <td>0</td>\n",
              "      <td>12</td>\n",
              "      <td>0</td>\n",
              "      <td>0</td>\n",
              "      <td>0</td>\n",
              "      <td>0</td>\n",
              "      <td>0</td>\n",
              "      <td>24</td>\n",
              "      <td>0</td>\n",
              "      <td>39</td>\n",
              "      <td>0</td>\n",
              "      <td>1</td>\n",
              "    </tr>\n",
              "    <tr>\n",
              "      <th>1</th>\n",
              "      <td>33</td>\n",
              "      <td>1</td>\n",
              "      <td>2727</td>\n",
              "      <td>0</td>\n",
              "      <td>12</td>\n",
              "      <td>1</td>\n",
              "      <td>1</td>\n",
              "      <td>1</td>\n",
              "      <td>0</td>\n",
              "      <td>0</td>\n",
              "      <td>0</td>\n",
              "      <td>0</td>\n",
              "      <td>12</td>\n",
              "      <td>0</td>\n",
              "      <td>1</td>\n",
              "    </tr>\n",
              "    <tr>\n",
              "      <th>2</th>\n",
              "      <td>21</td>\n",
              "      <td>2</td>\n",
              "      <td>13188</td>\n",
              "      <td>1</td>\n",
              "      <td>8</td>\n",
              "      <td>2</td>\n",
              "      <td>6</td>\n",
              "      <td>0</td>\n",
              "      <td>0</td>\n",
              "      <td>0</td>\n",
              "      <td>0</td>\n",
              "      <td>0</td>\n",
              "      <td>39</td>\n",
              "      <td>0</td>\n",
              "      <td>1</td>\n",
              "    </tr>\n",
              "    <tr>\n",
              "      <th>3</th>\n",
              "      <td>36</td>\n",
              "      <td>2</td>\n",
              "      <td>14354</td>\n",
              "      <td>8</td>\n",
              "      <td>6</td>\n",
              "      <td>1</td>\n",
              "      <td>6</td>\n",
              "      <td>1</td>\n",
              "      <td>1</td>\n",
              "      <td>0</td>\n",
              "      <td>0</td>\n",
              "      <td>0</td>\n",
              "      <td>39</td>\n",
              "      <td>0</td>\n",
              "      <td>1</td>\n",
              "    </tr>\n",
              "    <tr>\n",
              "      <th>4</th>\n",
              "      <td>11</td>\n",
              "      <td>2</td>\n",
              "      <td>18120</td>\n",
              "      <td>0</td>\n",
              "      <td>12</td>\n",
              "      <td>1</td>\n",
              "      <td>7</td>\n",
              "      <td>2</td>\n",
              "      <td>1</td>\n",
              "      <td>1</td>\n",
              "      <td>0</td>\n",
              "      <td>0</td>\n",
              "      <td>39</td>\n",
              "      <td>1</td>\n",
              "      <td>1</td>\n",
              "    </tr>\n",
              "  </tbody>\n",
              "</table>\n",
              "</div>"
            ],
            "text/plain": [
              "    0  1      2  3   4  5  6  7  8  9  10  11  12  13  14\n",
              "0  22  0   2491  0  12  0  0  0  0  0  24   0  39   0   1\n",
              "1  33  1   2727  0  12  1  1  1  0  0   0   0  12   0   1\n",
              "2  21  2  13188  1   8  2  6  0  0  0   0   0  39   0   1\n",
              "3  36  2  14354  8   6  1  6  1  1  0   0   0  39   0   1\n",
              "4  11  2  18120  0  12  1  7  2  1  1   0   0  39   1   1"
            ]
          },
          "metadata": {
            "tags": []
          },
          "execution_count": 29
        }
      ]
    },
    {
      "cell_type": "markdown",
      "metadata": {
        "id": "CLDKtM4MBIIY",
        "colab_type": "text"
      },
      "source": [
        "# 2 Modelling"
      ]
    },
    {
      "cell_type": "markdown",
      "metadata": {
        "id": "qqNOtAy-d57D",
        "colab_type": "text"
      },
      "source": [
        "## 2.1 Logistic Regression"
      ]
    },
    {
      "cell_type": "markdown",
      "metadata": {
        "id": "g13ReTnx39wu",
        "colab_type": "text"
      },
      "source": [
        "### 2.1.1 Modeling"
      ]
    },
    {
      "cell_type": "code",
      "metadata": {
        "id": "0cAazLxpFUqm",
        "colab_type": "code",
        "colab": {}
      },
      "source": [
        "from sklearn.linear_model import LogisticRegression"
      ],
      "execution_count": 0,
      "outputs": []
    },
    {
      "cell_type": "code",
      "metadata": {
        "id": "FU8DuU0Md57F",
        "colab_type": "code",
        "colab": {}
      },
      "source": [
        "logmodel = LogisticRegression(solver='liblinear')"
      ],
      "execution_count": 0,
      "outputs": []
    },
    {
      "cell_type": "code",
      "metadata": {
        "id": "fUEnN3lMNmPb",
        "colab_type": "code",
        "colab": {}
      },
      "source": [
        "X = df_replace_le.drop('14',axis=1)\n",
        "y = df_replace_le['14']"
      ],
      "execution_count": 0,
      "outputs": []
    },
    {
      "cell_type": "code",
      "metadata": {
        "id": "rMtl5xr8d57H",
        "colab_type": "code",
        "colab": {}
      },
      "source": [
        "X_train, X_test, y_train, y_test = train_test_split(X, y, test_size=0.40, random_state=42)"
      ],
      "execution_count": 0,
      "outputs": []
    },
    {
      "cell_type": "code",
      "metadata": {
        "id": "yrKhj7ItK2rW",
        "colab_type": "code",
        "outputId": "62fffd47-3204-42f9-922e-d7ab841add46",
        "colab": {
          "base_uri": "https://localhost:8080/",
          "height": 102
        }
      },
      "source": [
        "logmodel.fit(X_train,y_train)"
      ],
      "execution_count": 35,
      "outputs": [
        {
          "output_type": "execute_result",
          "data": {
            "text/plain": [
              "LogisticRegression(C=1.0, class_weight=None, dual=False, fit_intercept=True,\n",
              "                   intercept_scaling=1, l1_ratio=None, max_iter=100,\n",
              "                   multi_class='warn', n_jobs=None, penalty='l2',\n",
              "                   random_state=None, solver='liblinear', tol=0.0001, verbose=0,\n",
              "                   warm_start=False)"
            ]
          },
          "metadata": {
            "tags": []
          },
          "execution_count": 35
        }
      ]
    },
    {
      "cell_type": "code",
      "metadata": {
        "id": "qQcvAgmqO076",
        "colab_type": "code",
        "colab": {}
      },
      "source": [
        "predictions = logmodel.predict(X_test)"
      ],
      "execution_count": 0,
      "outputs": []
    },
    {
      "cell_type": "markdown",
      "metadata": {
        "id": "MKTM6TkG4Fus",
        "colab_type": "text"
      },
      "source": [
        "### 2.1.2 Evaluation"
      ]
    },
    {
      "cell_type": "code",
      "metadata": {
        "id": "E-G6a7YOO6rk",
        "colab_type": "code",
        "outputId": "e892d467-d7a6-4e04-c33c-d3509ebb58c8",
        "colab": {
          "base_uri": "https://localhost:8080/",
          "height": 51
        }
      },
      "source": [
        "confusion_matrix(y_test, predictions)"
      ],
      "execution_count": 37,
      "outputs": [
        {
          "output_type": "execute_result",
          "data": {
            "text/plain": [
              "array([[1234, 1803],\n",
              "       [ 574, 8454]])"
            ]
          },
          "metadata": {
            "tags": []
          },
          "execution_count": 37
        }
      ]
    },
    {
      "cell_type": "code",
      "metadata": {
        "id": "xk-hEQeoO-lx",
        "colab_type": "code",
        "outputId": "20ffcc5e-c206-42a8-a612-e6f944c1e854",
        "colab": {
          "base_uri": "https://localhost:8080/",
          "height": 170
        }
      },
      "source": [
        "print(classification_report(y_test,predictions))"
      ],
      "execution_count": 38,
      "outputs": [
        {
          "output_type": "stream",
          "text": [
            "              precision    recall  f1-score   support\n",
            "\n",
            "           0       0.68      0.41      0.51      3037\n",
            "           1       0.82      0.94      0.88      9028\n",
            "\n",
            "    accuracy                           0.80     12065\n",
            "   macro avg       0.75      0.67      0.69     12065\n",
            "weighted avg       0.79      0.80      0.78     12065\n",
            "\n"
          ],
          "name": "stdout"
        }
      ]
    },
    {
      "cell_type": "markdown",
      "metadata": {
        "id": "rBWVr-HHAD1n",
        "colab_type": "text"
      },
      "source": [
        "## 2.2 Decision Tree "
      ]
    },
    {
      "cell_type": "markdown",
      "metadata": {
        "id": "pS4WN2-VlOhu",
        "colab_type": "text"
      },
      "source": [
        "### 2.2.1 Original Decision Tree"
      ]
    },
    {
      "cell_type": "code",
      "metadata": {
        "id": "rPmaK6RCLnYj",
        "colab_type": "code",
        "colab": {}
      },
      "source": [
        "# converting the integer column name to string\n",
        "df.columns = df.columns.map(str)\n",
        "df_replace.columns = df_replace.columns.map(str)"
      ],
      "execution_count": 0,
      "outputs": []
    },
    {
      "cell_type": "code",
      "metadata": {
        "id": "Tg0velByd57M",
        "colab_type": "code",
        "colab": {}
      },
      "source": [
        "from sklearn.model_selection import train_test_split"
      ],
      "execution_count": 0,
      "outputs": []
    },
    {
      "cell_type": "code",
      "metadata": {
        "id": "oxKAacmBfpo8",
        "colab_type": "code",
        "colab": {}
      },
      "source": [
        "df_replace_le =df_replace_le.dropna()\n",
        "X = df_replace_le.drop('14',axis=1)\n",
        "y = df_replace_le['14']"
      ],
      "execution_count": 0,
      "outputs": []
    },
    {
      "cell_type": "code",
      "metadata": {
        "id": "n5CINEFZXszD",
        "colab_type": "code",
        "outputId": "84de4616-3b53-4aba-fec6-1952a08db281",
        "colab": {
          "base_uri": "https://localhost:8080/",
          "height": 204
        }
      },
      "source": [
        "df_replace_le.head()"
      ],
      "execution_count": 0,
      "outputs": [
        {
          "output_type": "execute_result",
          "data": {
            "text/html": [
              "<div>\n",
              "<style scoped>\n",
              "    .dataframe tbody tr th:only-of-type {\n",
              "        vertical-align: middle;\n",
              "    }\n",
              "\n",
              "    .dataframe tbody tr th {\n",
              "        vertical-align: top;\n",
              "    }\n",
              "\n",
              "    .dataframe thead th {\n",
              "        text-align: right;\n",
              "    }\n",
              "</style>\n",
              "<table border=\"1\" class=\"dataframe\">\n",
              "  <thead>\n",
              "    <tr style=\"text-align: right;\">\n",
              "      <th></th>\n",
              "      <th>0</th>\n",
              "      <th>1</th>\n",
              "      <th>2</th>\n",
              "      <th>3</th>\n",
              "      <th>4</th>\n",
              "      <th>5</th>\n",
              "      <th>6</th>\n",
              "      <th>7</th>\n",
              "      <th>8</th>\n",
              "      <th>9</th>\n",
              "      <th>10</th>\n",
              "      <th>11</th>\n",
              "      <th>12</th>\n",
              "      <th>13</th>\n",
              "      <th>14</th>\n",
              "      <th>Cluster</th>\n",
              "    </tr>\n",
              "  </thead>\n",
              "  <tbody>\n",
              "    <tr>\n",
              "      <th>0</th>\n",
              "      <td>22</td>\n",
              "      <td>0</td>\n",
              "      <td>2491</td>\n",
              "      <td>0</td>\n",
              "      <td>12</td>\n",
              "      <td>0</td>\n",
              "      <td>0</td>\n",
              "      <td>0</td>\n",
              "      <td>0</td>\n",
              "      <td>0</td>\n",
              "      <td>24</td>\n",
              "      <td>0</td>\n",
              "      <td>39</td>\n",
              "      <td>0</td>\n",
              "      <td>1</td>\n",
              "      <td>1</td>\n",
              "    </tr>\n",
              "    <tr>\n",
              "      <th>1</th>\n",
              "      <td>33</td>\n",
              "      <td>1</td>\n",
              "      <td>2727</td>\n",
              "      <td>0</td>\n",
              "      <td>12</td>\n",
              "      <td>1</td>\n",
              "      <td>1</td>\n",
              "      <td>1</td>\n",
              "      <td>0</td>\n",
              "      <td>0</td>\n",
              "      <td>0</td>\n",
              "      <td>0</td>\n",
              "      <td>12</td>\n",
              "      <td>0</td>\n",
              "      <td>1</td>\n",
              "      <td>1</td>\n",
              "    </tr>\n",
              "    <tr>\n",
              "      <th>2</th>\n",
              "      <td>21</td>\n",
              "      <td>2</td>\n",
              "      <td>13188</td>\n",
              "      <td>1</td>\n",
              "      <td>8</td>\n",
              "      <td>2</td>\n",
              "      <td>6</td>\n",
              "      <td>0</td>\n",
              "      <td>0</td>\n",
              "      <td>0</td>\n",
              "      <td>0</td>\n",
              "      <td>0</td>\n",
              "      <td>39</td>\n",
              "      <td>0</td>\n",
              "      <td>1</td>\n",
              "      <td>1</td>\n",
              "    </tr>\n",
              "    <tr>\n",
              "      <th>3</th>\n",
              "      <td>36</td>\n",
              "      <td>2</td>\n",
              "      <td>14354</td>\n",
              "      <td>8</td>\n",
              "      <td>6</td>\n",
              "      <td>1</td>\n",
              "      <td>6</td>\n",
              "      <td>1</td>\n",
              "      <td>1</td>\n",
              "      <td>0</td>\n",
              "      <td>0</td>\n",
              "      <td>0</td>\n",
              "      <td>39</td>\n",
              "      <td>0</td>\n",
              "      <td>1</td>\n",
              "      <td>1</td>\n",
              "    </tr>\n",
              "    <tr>\n",
              "      <th>4</th>\n",
              "      <td>11</td>\n",
              "      <td>2</td>\n",
              "      <td>18120</td>\n",
              "      <td>0</td>\n",
              "      <td>12</td>\n",
              "      <td>1</td>\n",
              "      <td>7</td>\n",
              "      <td>2</td>\n",
              "      <td>1</td>\n",
              "      <td>1</td>\n",
              "      <td>0</td>\n",
              "      <td>0</td>\n",
              "      <td>39</td>\n",
              "      <td>1</td>\n",
              "      <td>1</td>\n",
              "      <td>1</td>\n",
              "    </tr>\n",
              "  </tbody>\n",
              "</table>\n",
              "</div>"
            ],
            "text/plain": [
              "    0  1      2  3   4  5  6  7  8  9  10  11  12  13  14  Cluster\n",
              "0  22  0   2491  0  12  0  0  0  0  0  24   0  39   0   1        1\n",
              "1  33  1   2727  0  12  1  1  1  0  0   0   0  12   0   1        1\n",
              "2  21  2  13188  1   8  2  6  0  0  0   0   0  39   0   1        1\n",
              "3  36  2  14354  8   6  1  6  1  1  0   0   0  39   0   1        1\n",
              "4  11  2  18120  0  12  1  7  2  1  1   0   0  39   1   1        1"
            ]
          },
          "metadata": {
            "tags": []
          },
          "execution_count": 119
        }
      ]
    },
    {
      "cell_type": "code",
      "metadata": {
        "id": "K78Q3e0TgRWI",
        "colab_type": "code",
        "colab": {}
      },
      "source": [
        "X_train, X_test, y_train, y_test = train_test_split(X, y, test_size=0.30, random_state=101)"
      ],
      "execution_count": 0,
      "outputs": []
    },
    {
      "cell_type": "code",
      "metadata": {
        "id": "T1wZSU_KgYXA",
        "colab_type": "code",
        "colab": {}
      },
      "source": [
        "from sklearn.tree import DecisionTreeClassifier"
      ],
      "execution_count": 0,
      "outputs": []
    },
    {
      "cell_type": "code",
      "metadata": {
        "id": "OKz-yNIzgaw-",
        "colab_type": "code",
        "colab": {}
      },
      "source": [
        "dtree = DecisionTreeClassifier(criterion='entropy')\n",
        "dtree.fit(X_train,y_train)\n",
        "predictions = dtree.predict(X_test)"
      ],
      "execution_count": 0,
      "outputs": []
    },
    {
      "cell_type": "code",
      "metadata": {
        "id": "46h1U06LggN6",
        "colab_type": "code",
        "outputId": "db139bc7-a018-4f32-f125-ddf82e2af90e",
        "colab": {
          "base_uri": "https://localhost:8080/",
          "height": 34
        }
      },
      "source": [
        "from sklearn.metrics import classification_report,confusion_matrix\n",
        "from sklearn.metrics import accuracy_score\n",
        "\n",
        "print(\"The Accurancy of Decision tree is {}.\".format(accuracy_score(y_test,predictions)))"
      ],
      "execution_count": 0,
      "outputs": [
        {
          "output_type": "stream",
          "text": [
            "The Accurancy of Decision tree is 0.8037352193612554.\n"
          ],
          "name": "stdout"
        }
      ]
    },
    {
      "cell_type": "code",
      "metadata": {
        "id": "Sr0FmPvRggr-",
        "colab_type": "code",
        "outputId": "00e2e392-1507-44ae-8c0a-5fb526d87d0c",
        "colab": {
          "base_uri": "https://localhost:8080/",
          "height": 170
        }
      },
      "source": [
        "print(classification_report(y_test,predictions))"
      ],
      "execution_count": 0,
      "outputs": [
        {
          "output_type": "stream",
          "text": [
            "              precision    recall  f1-score   support\n",
            "\n",
            "           0       0.61      0.62      0.62      2306\n",
            "           1       0.87      0.87      0.87      6743\n",
            "\n",
            "    accuracy                           0.80      9049\n",
            "   macro avg       0.74      0.74      0.74      9049\n",
            "weighted avg       0.80      0.80      0.80      9049\n",
            "\n"
          ],
          "name": "stdout"
        }
      ]
    },
    {
      "cell_type": "code",
      "metadata": {
        "id": "yScNwjRbgh2w",
        "colab_type": "code",
        "outputId": "f5fa771e-b4b4-434e-c0a6-e7c5b9020807",
        "colab": {
          "base_uri": "https://localhost:8080/",
          "height": 68
        }
      },
      "source": [
        "### deal with imbalanced labels\n",
        "y.value_counts()"
      ],
      "execution_count": 0,
      "outputs": [
        {
          "output_type": "execute_result",
          "data": {
            "text/plain": [
              "1    22654\n",
              "0     7508\n",
              "Name: 14, dtype: int64"
            ]
          },
          "metadata": {
            "tags": []
          },
          "execution_count": 72
        }
      ]
    },
    {
      "cell_type": "markdown",
      "metadata": {
        "id": "Ly-AbHdylVd3",
        "colab_type": "text"
      },
      "source": [
        "### 2.2.2 Decision Tree- Upsampling"
      ]
    },
    {
      "cell_type": "code",
      "metadata": {
        "id": "igZAsoD5iV1m",
        "colab_type": "code",
        "colab": {}
      },
      "source": [
        "from sklearn.utils import resample\n",
        "# First, we'll separate observations from each class into different DataFrames.\n",
        "# Next, we'll resample the minority class with replacement, setting the number of samples to match that of the majority class.\n",
        "# Finally, we'll combine the up-sampled minority class DataFrame with the original majority class DataFrame. \n",
        "\n",
        " # https://elitedatascience.com/imbalanced-classes"
      ],
      "execution_count": 0,
      "outputs": []
    },
    {
      "cell_type": "code",
      "metadata": {
        "id": "z-3CKYwAkRCU",
        "colab_type": "code",
        "outputId": "e70e44d3-af65-4841-bd5b-7024e04d706f",
        "colab": {
          "base_uri": "https://localhost:8080/",
          "height": 68
        }
      },
      "source": [
        "df_majority = df_replace_le[df_replace_le[\"14\"]==1]\n",
        "df_minority = df_replace_le[df_replace_le[\"14\"]==0]\n",
        " \n",
        "# Upsample minority class\n",
        "df_minority_upsampled = resample(df_minority, \n",
        "                                 replace=True,     # sample with replacement\n",
        "                                 n_samples=22654,  # to match majority class\n",
        "                                 random_state=123) # reproducible results\n",
        " \n",
        "# Combine majority class with upsampled minority class\n",
        "df_upsampled = pd.concat([df_majority, df_minority_upsampled])\n",
        " \n",
        "# Display new class counts\n",
        "df_upsampled[\"14\"].value_counts()"
      ],
      "execution_count": 0,
      "outputs": [
        {
          "output_type": "execute_result",
          "data": {
            "text/plain": [
              "1    22654\n",
              "0    22654\n",
              "Name: 14, dtype: int64"
            ]
          },
          "metadata": {
            "tags": []
          },
          "execution_count": 74
        }
      ]
    },
    {
      "cell_type": "code",
      "metadata": {
        "id": "BlUUnxLuKSw8",
        "colab_type": "code",
        "colab": {}
      },
      "source": [
        "df_upsampled.to_csv(\"df_upsampled.csv\")"
      ],
      "execution_count": 0,
      "outputs": []
    },
    {
      "cell_type": "code",
      "metadata": {
        "id": "1j3JTXWPkjMf",
        "colab_type": "code",
        "outputId": "b60d11c4-6ddf-4b5d-c295-a050736efa39",
        "colab": {
          "base_uri": "https://localhost:8080/",
          "height": 187
        }
      },
      "source": [
        "X_up = df_upsampled.drop('14',axis=1)\n",
        "y_up = df_upsampled['14']\n",
        "X_train, X_test, y_train, y_test = train_test_split(X_up, y_up, test_size=0.30, random_state=101)\n",
        "dtree_up = DecisionTreeClassifier(criterion='entropy')\n",
        "dtree_up.fit(X_train,y_train)\n",
        "predictions_up = dtree_up.predict(X_test)\n",
        "print(\"The Accurancy of Decision tree is {}.\".format(accuracy_score(y_test,predictions_up)))\n",
        "print(classification_report(y_test,predictions_up))"
      ],
      "execution_count": 0,
      "outputs": [
        {
          "output_type": "stream",
          "text": [
            "The Accurancy of Decision tree is 0.899433531964982.\n",
            "              precision    recall  f1-score   support\n",
            "\n",
            "           0       0.86      0.95      0.90      6739\n",
            "           1       0.95      0.85      0.89      6854\n",
            "\n",
            "    accuracy                           0.90     13593\n",
            "   macro avg       0.90      0.90      0.90     13593\n",
            "weighted avg       0.90      0.90      0.90     13593\n",
            "\n"
          ],
          "name": "stdout"
        }
      ]
    },
    {
      "cell_type": "code",
      "metadata": {
        "id": "mgYSa0n8lGjd",
        "colab_type": "code",
        "colab": {}
      },
      "source": [
        "# Visualize Decision Tree\n",
        "from sklearn.tree import export_graphviz\n",
        "\n",
        "# Creates dot file named tree.dot\n",
        "export_graphviz(\n",
        "            dtree_up,\n",
        "            out_file =  \"myTreeName.dot\",\n",
        "            feature_names = list(X_up.columns),\n",
        "            class_names = \"14\",\n",
        "            filled = True,\n",
        "            rounded = True)"
      ],
      "execution_count": 0,
      "outputs": []
    },
    {
      "cell_type": "markdown",
      "metadata": {
        "id": "C3X_gwD_7g_F",
        "colab_type": "text"
      },
      "source": [
        "### 2.2.3 Decision tree with categorical variables"
      ]
    },
    {
      "cell_type": "code",
      "metadata": {
        "id": "T237vbSP4aHl",
        "colab_type": "code",
        "colab": {}
      },
      "source": [
        "# from the myTreeName.dot, we can see that the sklearn decision tree treat the categorical data as numeric data.\n",
        "# cannot find pandas decision tree to specify the categorical columns, therefore,we use spark decision tree classfier to deal with it.\n",
        "\n",
        "!apt-get install openjdk-8-jdk-headless -qq > /dev/null\n",
        "!wget -q http://www-eu.apache.org/dist/spark/spark-2.4.4/spark-2.4.4-bin-hadoop2.7.tgz\n",
        "!tar xf spark-2.4.4-bin-hadoop2.7.tgz\n",
        "!pip install -q findspark\n",
        "\n",
        "import os\n",
        "os.environ[\"SPARK_HOME\"] = \"/content/spark-2.4.4-bin-hadoop2.7\"\n",
        "os.environ[\"JAVA_HOME\"] =\"/usr/lib/jvm/java-8-openjdk-amd64\"\n",
        "\n",
        "import findspark\n",
        "findspark.init(\"spark-2.4.4-bin-hadoop2.7\") # SPARK_HOME\n",
        "from pyspark.sql import SparkSession\n",
        "spark = SparkSession.builder.master(\"local[*]\").getOrCreate()"
      ],
      "execution_count": 0,
      "outputs": []
    },
    {
      "cell_type": "code",
      "metadata": {
        "id": "MQmXCtmE664_",
        "colab_type": "code",
        "colab": {}
      },
      "source": [
        "dataDC = spark.read.csv(\"/content/gdrive/Shared drives/ISE 364 Project/df_upsampled.csv\",inferSchema= True,header=True)"
      ],
      "execution_count": 0,
      "outputs": []
    },
    {
      "cell_type": "code",
      "metadata": {
        "id": "ZVMUaqQD7HJb",
        "colab_type": "code",
        "outputId": "3cd82b67-4ad6-4900-cfab-8fdfdd2ebd1f",
        "colab": {
          "base_uri": "https://localhost:8080/",
          "height": 204
        }
      },
      "source": [
        "dataDC.show(5)"
      ],
      "execution_count": 0,
      "outputs": [
        {
          "output_type": "stream",
          "text": [
            "+---+---+---+-----+---+---+---+---+---+---+---+---+---+---+---+---+\n",
            "|_c0|  0|  1|    2|  3|  4|  5|  6|  7|  8|  9| 10| 11| 12| 13| 14|\n",
            "+---+---+---+-----+---+---+---+---+---+---+---+---+---+---+---+---+\n",
            "|  0| 22|  0| 2491|  0| 12|  0|  0|  0|  0|  0| 24|  0| 39|  0|  1|\n",
            "|  1| 33|  1| 2727|  0| 12|  1|  1|  1|  0|  0|  0|  0| 12|  0|  1|\n",
            "|  2| 21|  2|13188|  1|  8|  2|  6|  0|  0|  0|  0|  0| 39|  0|  1|\n",
            "|  3| 36|  2|14354|  8|  6|  1|  6|  1|  1|  0|  0|  0| 39|  0|  1|\n",
            "|  4| 11|  2|18120|  0| 12|  1|  7|  2|  1|  1|  0|  0| 39|  1|  1|\n",
            "+---+---+---+-----+---+---+---+---+---+---+---+---+---+---+---+---+\n",
            "only showing top 5 rows\n",
            "\n"
          ],
          "name": "stdout"
        }
      ]
    },
    {
      "cell_type": "code",
      "metadata": {
        "id": "ZxBhDkBkPkQ5",
        "colab_type": "code",
        "outputId": "7863f786-d38d-459f-c740-4f8f542b575c",
        "colab": {
          "base_uri": "https://localhost:8080/",
          "height": 51
        }
      },
      "source": [
        "dataRDD = dataDC.rdd\n",
        "dataRDD.take(2)"
      ],
      "execution_count": 0,
      "outputs": [
        {
          "output_type": "execute_result",
          "data": {
            "text/plain": [
              "[Row(_c0=0, 0=22, 1=0, 2=2491, 3=0, 4=12, 5=0, 6=0, 7=0, 8=0, 9=0, 10=24, 11=0, 12=39, 13=0, 14=1),\n",
              " Row(_c0=1, 0=33, 1=1, 2=2727, 3=0, 4=12, 5=1, 6=1, 7=1, 8=0, 9=0, 10=0, 11=0, 12=12, 13=0, 14=1)]"
            ]
          },
          "metadata": {
            "tags": []
          },
          "execution_count": 26
        }
      ]
    },
    {
      "cell_type": "code",
      "metadata": {
        "id": "tqaE55anBe5y",
        "colab_type": "code",
        "outputId": "c493c13a-c00b-47dc-849f-ac7454f3303c",
        "colab": {
          "base_uri": "https://localhost:8080/",
          "height": 51
        }
      },
      "source": [
        "from pyspark.mllib.regression import LabeledPoint\n",
        "from pyspark.mllib.tree import DecisionTree, DecisionTreeModel\n",
        "from pyspark.mllib.util import MLUtils\n",
        "def mapToNum(x):\n",
        "    label = float(x[14])\n",
        "    features = [float(x[1]),float(x[2]),float(x[3]),float(x[4]),float(x[5]),float(x[6]),float(x[7]),float(x[8]),float(x[9]),float(x[10]),float(x[11]),float(x[12]),float(x[13]),float(x[14])]\n",
        "    return LabeledPoint(label,features)\n",
        "dataRDD1 = dataRDD.map(mapToNum)\n",
        "\n",
        "dataRDD1.take(2)"
      ],
      "execution_count": 0,
      "outputs": [
        {
          "output_type": "execute_result",
          "data": {
            "text/plain": [
              "[LabeledPoint(0.0, [22.0,0.0,2491.0,0.0,12.0,0.0,0.0,0.0,0.0,0.0,24.0,0.0,39.0,0.0]),\n",
              " LabeledPoint(0.0, [33.0,1.0,2727.0,0.0,12.0,1.0,1.0,1.0,0.0,0.0,0.0,0.0,12.0,0.0])]"
            ]
          },
          "metadata": {
            "tags": []
          },
          "execution_count": 27
        }
      ]
    },
    {
      "cell_type": "code",
      "metadata": {
        "id": "FxtC1T0jBxCa",
        "colab_type": "code",
        "colab": {}
      },
      "source": [
        "# this will split randomly the data 60% for training and 40% for testing\n",
        "trainingData, testData = dataRDD1.randomSplit( [0.6, 0.4])"
      ],
      "execution_count": 0,
      "outputs": []
    },
    {
      "cell_type": "code",
      "metadata": {
        "id": "slDAJGBBas_v",
        "colab_type": "code",
        "outputId": "95279c07-b91d-4eae-c4ba-822de17b8280",
        "colab": {
          "base_uri": "https://localhost:8080/",
          "height": 187
        }
      },
      "source": [
        "# Error: GiniAggregator given label 36.0 but requires label < numClasses (= 2).\n",
        "trainingData = trainingData.filter(lambda lp: (lp.label==0.0 ) or (lp.label==1.0))\n",
        "trainingData.take(10)"
      ],
      "execution_count": 0,
      "outputs": [
        {
          "output_type": "execute_result",
          "data": {
            "text/plain": [
              "[LabeledPoint(0.0, [15.0,2.0,12364.0,12.0,11.0,0.0,9.0,0.0,1.0,0.0,0.0,0.0,49.0,0.0]),\n",
              " LabeledPoint(0.0, [8.0,1.0,9507.0,1.0,8.0,0.0,12.0,3.0,0.0,0.0,0.0,0.0,34.0,0.0]),\n",
              " LabeledPoint(0.0, [37.0,2.0,17134.0,1.0,8.0,4.0,8.0,4.0,1.0,1.0,0.0,0.0,19.0,0.0]),\n",
              " LabeledPoint(0.0, [42.0,2.0,4309.0,1.0,8.0,2.0,2.0,4.0,0.0,1.0,0.0,0.0,39.0,0.0]),\n",
              " LabeledPoint(0.0, [32.0,2.0,11265.0,1.0,8.0,1.0,10.0,1.0,0.0,0.0,0.0,0.0,39.0,0.0]),\n",
              " LabeledPoint(0.0, [6.0,4.0,10970.0,12.0,11.0,0.0,3.0,0.0,0.0,0.0,0.0,0.0,51.0,0.0]),\n",
              " LabeledPoint(0.0, [3.0,2.0,15818.0,11.0,9.0,0.0,9.0,3.0,1.0,0.0,0.0,0.0,43.0,0.0]),\n",
              " LabeledPoint(0.0, [28.0,2.0,19113.0,0.0,12.0,2.0,1.0,3.0,0.0,0.0,0.0,15.0,39.0,0.0]),\n",
              " LabeledPoint(0.0, [5.0,0.0,17406.0,11.0,9.0,1.0,8.0,1.0,1.0,0.0,0.0,0.0,14.0,0.0]),\n",
              " LabeledPoint(0.0, [2.0,2.0,20060.0,1.0,8.0,5.0,0.0,2.0,0.0,1.0,0.0,0.0,24.0,0.0])]"
            ]
          },
          "metadata": {
            "tags": []
          },
          "execution_count": 29
        }
      ]
    },
    {
      "cell_type": "code",
      "metadata": {
        "id": "SawmPtREBj4I",
        "colab_type": "code",
        "outputId": "f580ba53-1602-442a-9979-19fe9b945882",
        "colab": {
          "base_uri": "https://localhost:8080/",
          "height": 153
        }
      },
      "source": [
        "import sys\n",
        "from pyspark.mllib.regression import LabeledPoint\n",
        "from pyspark.mllib.tree import DecisionTree, DecisionTreeModel\n",
        "\n",
        "# Train a DecisionTree model.\n",
        "#  Empty categoricalFeaturesInfo indicates all features are continuous.\n",
        "\n",
        "# Evaluate model on test instances and compute test error\n",
        "model = DecisionTree.trainClassifier(trainingData, numClasses=2, \n",
        "                                     #using categoricalFeaturesInfo we can specify the categorical columns\n",
        "                                     categoricalFeaturesInfo={1:7,3:16,5:7,6:14,7:6,8:5,9:2,13:41},\n",
        "                                     impurity='gini', maxDepth=5, maxBins=50)\n",
        "\n",
        "# Evaluate model on test instances and compute test error\n",
        "predictions = model.predict(testData.map(lambda x: x.features))\n",
        "labelsAndPredictions = testData.map(lambda lp: lp.label).zip(predictions)\n",
        "testErr = labelsAndPredictions.filter(lambda lp: lp[0] != lp[1]).count() / float(testData.count())\n",
        "print('Test Error = ' + str(testErr))\n",
        "print('Learned classification tree model:')\n",
        "print(model.toDebugString())"
      ],
      "execution_count": 0,
      "outputs": [
        {
          "output_type": "stream",
          "text": [
            "Test Error = 0.10102441150828248\n",
            "Learned classification tree model:\n",
            "DecisionTreeModel classifier of depth 1 with 3 nodes\n",
            "  If (feature 13 in {0.0})\n",
            "   Predict: 0.0\n",
            "  Else (feature 13 not in {0.0})\n",
            "   Predict: 1.0\n",
            "\n"
          ],
          "name": "stdout"
        }
      ]
    },
    {
      "cell_type": "markdown",
      "metadata": {
        "id": "hK6BWraXTER8",
        "colab_type": "text"
      },
      "source": [
        "### 2.2.4 Decision tree with categorical variables and normalized numeric columns"
      ]
    },
    {
      "cell_type": "code",
      "metadata": {
        "id": "RO_8sf_zRysI",
        "colab_type": "code",
        "colab": {}
      },
      "source": [
        "# we found the data in column 2 and column 10 are much higher than the data in other numeric columns\n",
        "#Therefore, we try to normalize the numeric columns"
      ],
      "execution_count": 0,
      "outputs": []
    },
    {
      "cell_type": "code",
      "metadata": {
        "id": "6XCL_RvFTrBO",
        "colab_type": "code",
        "colab": {}
      },
      "source": [
        "from pyspark.ml.feature import *\n",
        "from pyspark.ml.pipeline import *\n",
        "from pyspark.sql.functions import min, max, col"
      ],
      "execution_count": 0,
      "outputs": []
    },
    {
      "cell_type": "code",
      "metadata": {
        "id": "V699GzNmat1b",
        "colab_type": "code",
        "colab": {}
      },
      "source": [
        "from pyspark.sql.functions import stddev, mean, col"
      ],
      "execution_count": 0,
      "outputs": []
    },
    {
      "cell_type": "code",
      "metadata": {
        "id": "J9LY1ostY72a",
        "colab_type": "code",
        "colab": {}
      },
      "source": [
        "numeric = [\"0\",\"2\",\"4\",\"10\",\"11\",\"12\"]\n",
        "mean_0, sttdev_0 = dataDC.select(mean(\"0\"), stddev(\"0\")).first()\n",
        "dataDC = dataDC.withColumn(\"0_scaled\", (col(\"0\") - mean_0) / sttdev_0)\n",
        "mean_2, sttdev_2 = dataDC.select(mean(\"2\"), stddev(\"2\")).first()\n",
        "dataDC = dataDC.withColumn(\"2_scaled\", (col(\"2\") - mean_2) / sttdev_2)\n",
        "mean_4, sttdev_4 = dataDC.select(mean(\"4\"), stddev(\"4\")).first()\n",
        "dataDC = dataDC.withColumn(\"4_scaled\", (col(\"4\") - mean_4) / sttdev_4)\n",
        "mean_11, sttdev_11 = dataDC.select(mean(\"11\"), stddev(\"11\")).first()\n",
        "dataDC = dataDC.withColumn(\"11_scaled\", (col(\"11\") - mean_11) / sttdev_11)\n",
        "mean_10, sttdev_10 = dataDC.select(mean(\"10\"), stddev(\"10\")).first()\n",
        "dataDC = dataDC.withColumn(\"10_scaled\", (col(\"10\") - mean_10) / sttdev_10)\n",
        "mean_12, sttdev_12 = dataDC.select(mean(\"12\"), stddev(\"12\")).first()\n",
        "dataDC = dataDC.withColumn(\"12_scaled\", (col(\"12\") - mean_12) / sttdev_12)"
      ],
      "execution_count": 0,
      "outputs": []
    },
    {
      "cell_type": "code",
      "metadata": {
        "id": "acXHG-7zUd0a",
        "colab_type": "code",
        "colab": {}
      },
      "source": [
        "dataDC=dataDC.dropna()"
      ],
      "execution_count": 0,
      "outputs": []
    },
    {
      "cell_type": "code",
      "metadata": {
        "id": "e7MwgvcGc4n6",
        "colab_type": "code",
        "outputId": "ca66208a-ef74-4142-978e-671f703d9cd0",
        "colab": {
          "base_uri": "https://localhost:8080/",
          "height": 499
        }
      },
      "source": [
        "dataDC_scaled = dataDC.select(dataDC[\"0_scaled\"],dataDC[\"1\"],dataDC[\"2_scaled\"],dataDC[\"3\"],dataDC[\"4_scaled\"],dataDC[\"5\"],\\\n",
        "                              dataDC[\"6\"], dataDC[\"7\"],dataDC[\"8\"],dataDC[\"9\"],dataDC[\"10_scaled\"],dataDC[\"11_scaled\"],dataDC[\"12_scaled\"],dataDC[\"13\"],dataDC[\"14\"])\n",
        "dataDC_scaled.show()"
      ],
      "execution_count": 0,
      "outputs": [
        {
          "output_type": "stream",
          "text": [
            "+--------------------+---+--------------------+---+-------------------+---+---+---+---+---+--------------------+--------------------+--------------------+---+---+\n",
            "|            0_scaled|  1|            2_scaled|  3|           4_scaled|  5|  6|  7|  8|  9|           10_scaled|           11_scaled|           12_scaled| 13| 14|\n",
            "+--------------------+---+--------------------+---+-------------------+---+---+---+---+---+--------------------+--------------------+--------------------+---+---+\n",
            "|-0.10155674838931615|  0| -1.2964496340677232|  0|  0.919767250008194|  0|  0|  0|  0|  0| 0.42181825842840875|-0.25043010922185727|-0.20784509235898896|  0|  1|\n",
            "|  0.7757839930825681|  1| -1.2545254025341188|  0|  0.919767250008194|  1|  1|  1|  0|  0|-0.36501450624656895|-0.25043010922185727| -2.5534407805501074|  0|  1|\n",
            "| -0.1813149976140329|  2|  0.6038194537075593|  1| -0.624299390599878|  2|  6|  0|  0|  0|-0.36501450624656895|-0.25043010922185727|-0.20784509235898896|  0|  1|\n",
            "|  1.0150587407567184|  2|  0.8109535806913846|  8| -1.396332710903914|  1|  6|  1|  1|  0|-0.36501450624656895|-0.25043010922185727|-0.20784509235898896|  0|  1|\n",
            "| -0.9788974898612004|  2|  1.4799648347403436|  0|  0.919767250008194|  1|  7|  2|  1|  1|-0.36501450624656895|-0.25043010922185727|-0.20784509235898896|  1|  1|\n",
            "|-0.26107324683874966|  2|  1.2040820738433617|  9|  1.305783910160212|  1|  1|  2|  0|  1|-0.36501450624656895|-0.25043010922185727|-0.20784509235898896|  0|  1|\n",
            "|  0.6960257438578513|  2| -0.3210006707159352| 10|-2.1683660312079502|  3|  8|  0|  1|  1|-0.36501450624656895|-0.25043010922185727|  -2.292819037417761| 12|  1|\n",
            "| -1.3776887359847843|  2| -0.7798578319502584|  0|  0.919767250008194|  0|  0|  3|  0|  1|-0.36501450624656895|-0.25043010922185727| -1.0765842361334772|  0|  1|\n",
            "| -0.6598644929623334|  2|  0.4574399334376862| 12| 0.5337505898561761|  0|  9|  0|  1|  0|-0.36501450624656895|-0.25043010922185727|  0.6608940514154994|  0|  1|\n",
            "| -0.5003479945128999|  2|  0.9170076748674941| 14| -2.554382691359968|  1| 11|  1|  3|  0|-0.36501450624656895|-0.25043010922185727|  0.2265244795282552| 36|  1|\n",
            "| -1.2181722375353508|  1|-0.05009197118734...|  1| -0.624299390599878|  0| 12|  3|  0|  0|-0.36501450624656895|-0.25043010922185727| -0.6422146642462331|  0|  1|\n",
            "| -0.6598644929623334|  2| 0.13217184895450937|  1| -0.624299390599878|  0| 13|  4|  0|  0|-0.36501450624656895|-0.25043010922185727|-0.20784509235898896|  0|  1|\n",
            "| -0.1813149976140329|  2| -1.6870910965355035|  8| -1.396332710903914|  1|  9|  1|  0|  0|-0.36501450624656895|-0.25043010922185727|  0.6608940514154994|  0|  1|\n",
            "|   1.094816989981435|  2|   1.304806816553335|  1| -0.624299390599878|  4|  8|  4|  1|  1|-0.36501450624656895|-0.25043010922185727| -1.9453233799079657|  0|  1|\n",
            "|-0.42058974528818316|  3| -1.3024895657293443| 10|-2.1683660312079502|  1| 12|  1|  1|  0|-0.36501450624656895|-0.25043010922185727|-0.20784509235898896|  0|  1|\n",
            "| 0.21747624850955086|  2| -0.8573110732581039|  8| -1.396332710903914|  1| 11|  1|  0|  0|-0.36501450624656895|   4.173598880681758|-0.20784509235898896|  0|  1|\n",
            "|   1.493608236105019|  2| -0.9734909352198721|  1| -0.624299390599878|  2|  2|  4|  0|  1|-0.36501450624656895|-0.25043010922185727|-0.20784509235898896|  0|  1|\n",
            "| -1.6967217328836512|  2|-0.19931381223915962|  1| -0.624299390599878|  0| 10|  3|  0|  0|-0.36501450624656895|-0.25043010922185727|-0.20784509235898896|  0|  1|\n",
            "|-0.10155674838931615|  2|   1.599875242728407|  1| -0.624299390599878|  2|  1|  0|  0|  0|-0.36501450624656895|-0.25043010922185727|   3.006489739606618|  0|  1|\n",
            "|  0.6960257438578513|  2|  0.2622080247282316|  1| -0.624299390599878|  1| 10|  1|  0|  0|-0.36501450624656895|-0.25043010922185727|-0.20784509235898896|  0|  1|\n",
            "+--------------------+---+--------------------+---+-------------------+---+---+---+---+---+--------------------+--------------------+--------------------+---+---+\n",
            "only showing top 20 rows\n",
            "\n"
          ],
          "name": "stdout"
        }
      ]
    },
    {
      "cell_type": "code",
      "metadata": {
        "id": "Sb6rRMaagXse",
        "colab_type": "code",
        "outputId": "fd126bcb-dbb0-404b-feab-7961ae4c9b79",
        "colab": {
          "base_uri": "https://localhost:8080/",
          "height": 119
        }
      },
      "source": [
        "dataDC_scaled.agg(max(\"1\")).show()"
      ],
      "execution_count": 0,
      "outputs": [
        {
          "output_type": "stream",
          "text": [
            "+------+\n",
            "|max(1)|\n",
            "+------+\n",
            "|     6|\n",
            "+------+\n",
            "\n"
          ],
          "name": "stdout"
        }
      ]
    },
    {
      "cell_type": "code",
      "metadata": {
        "id": "jrRsEfO0czz-",
        "colab_type": "code",
        "outputId": "0ea22fef-4b7a-4eb1-d4f9-7fd9edde85fa",
        "colab": {
          "base_uri": "https://localhost:8080/",
          "height": 71
        }
      },
      "source": [
        "dataRDD_scaled = dataDC_scaled.rdd\n",
        "dataRDD_scaled.take(2)"
      ],
      "execution_count": 0,
      "outputs": [
        {
          "output_type": "execute_result",
          "data": {
            "text/plain": [
              "[Row(0_scaled=-0.10155674838931615, 1=0, 2_scaled=-1.2964496340677232, 3=0, 4_scaled=0.919767250008194, 5=0, 6=0, 7=0, 8=0, 9=0, 10_scaled=0.42181825842840875, 11_scaled=-0.25043010922185727, 12_scaled=-0.20784509235898896, 13=0, 14=1),\n",
              " Row(0_scaled=0.7757839930825681, 1=1, 2_scaled=-1.2545254025341188, 3=0, 4_scaled=0.919767250008194, 5=1, 6=1, 7=1, 8=0, 9=0, 10_scaled=-0.36501450624656895, 11_scaled=-0.25043010922185727, 12_scaled=-2.5534407805501074, 13=0, 14=1)]"
            ]
          },
          "metadata": {
            "tags": []
          },
          "execution_count": 110
        }
      ]
    },
    {
      "cell_type": "code",
      "metadata": {
        "id": "22ZLhi3PczxS",
        "colab_type": "code",
        "outputId": "681a4211-4c9b-4772-d9b4-423f3838fa6b",
        "colab": {
          "base_uri": "https://localhost:8080/",
          "height": 91
        }
      },
      "source": [
        "from pyspark.mllib.regression import LabeledPoint\n",
        "from pyspark.mllib.tree import DecisionTree, DecisionTreeModel\n",
        "from pyspark.mllib.util import MLUtils\n",
        "def mapToNum(x):\n",
        "    label = float(x[14])\n",
        "    features = [float(x[0]),float(x[1]),float(x[2]),float(x[3]),float(x[4]),float(x[5]),float(x[6]),float(x[7]),float(x[8]),float(x[9]),float(x[10]),float(x[11]),float(x[12]),float(x[13])]\n",
        "    return LabeledPoint(label,features)\n",
        "dataRDD_scaled1 = dataRDD_scaled.map(mapToNum)\n",
        "\n",
        "dataRDD_scaled1.take(2)"
      ],
      "execution_count": 0,
      "outputs": [
        {
          "output_type": "execute_result",
          "data": {
            "text/plain": [
              "[LabeledPoint(1.0, [-0.10155674838931615,0.0,-1.2964496340677232,0.0,0.919767250008194,0.0,0.0,0.0,0.0,0.0,0.42181825842840875,-0.25043010922185727,-0.20784509235898896,0.0]),\n",
              " LabeledPoint(1.0, [0.7757839930825681,1.0,-1.2545254025341188,0.0,0.919767250008194,1.0,1.0,1.0,0.0,0.0,-0.36501450624656895,-0.25043010922185727,-2.5534407805501074,0.0])]"
            ]
          },
          "metadata": {
            "tags": []
          },
          "execution_count": 111
        }
      ]
    },
    {
      "cell_type": "code",
      "metadata": {
        "id": "DEvCD5wreE3n",
        "colab_type": "code",
        "colab": {}
      },
      "source": [
        "# this will split randomly the data 60% for training and 40% for testing\n",
        "trainingData_scaled, testData_scaled = dataRDD_scaled1.randomSplit( [0.6, 0.4])"
      ],
      "execution_count": 0,
      "outputs": []
    },
    {
      "cell_type": "code",
      "metadata": {
        "id": "ZqSU54w9eE0o",
        "colab_type": "code",
        "outputId": "b25d29f7-0026-408d-ca7b-f7afac6de8aa",
        "colab": {
          "base_uri": "https://localhost:8080/",
          "height": 969
        }
      },
      "source": [
        "# Train a DecisionTree model.\n",
        "#  Empty categoricalFeaturesInfo indicates all features are continuous.\n",
        "\n",
        "# Evaluate model on test instances and compute test error\n",
        "model = DecisionTree.trainClassifier(trainingData_scaled, numClasses=2, \n",
        "                                     #using categoricalFeaturesInfo we can specify the categorical columns\n",
        "                                     categoricalFeaturesInfo={1:7,3:17,5:8,6:15,7:7,8:6,9:3,13:42},\n",
        "                                     impurity='gini', maxDepth=5, maxBins=50)\n",
        "\n",
        "# Evaluate model on test instances and compute test error\n",
        "predictions = model.predict(testData_scaled.map(lambda x: x.features))\n",
        "labelsAndPredictions = testData_scaled.map(lambda lp: lp.label).zip(predictions)\n",
        "testErr = labelsAndPredictions.filter(lambda lp: lp[0] != lp[1]).count() / float(testData_scaled.count())\n",
        "print('Test Error = ' + str(testErr))\n",
        "print('Learned classification tree model:')\n",
        "print(model.toDebugString())"
      ],
      "execution_count": 0,
      "outputs": [
        {
          "output_type": "stream",
          "text": [
            "Test Error = 0.20611147684880404\n",
            "Learned classification tree model:\n",
            "DecisionTreeModel classifier of depth 5 with 35 nodes\n",
            "  If (feature 5 in {5.0,1.0,6.0,2.0,3.0,4.0})\n",
            "   If (feature 5 in {5.0,6.0,2.0,3.0,4.0})\n",
            "    If (feature 10 <= 2.5692160120205356)\n",
            "     If (feature 4 <= 0.7267589199321851)\n",
            "      Predict: 1.0\n",
            "     Else (feature 4 > 0.7267589199321851)\n",
            "      If (feature 12 <= 0.1830875223395308)\n",
            "       Predict: 1.0\n",
            "      Else (feature 12 > 0.1830875223395308)\n",
            "       Predict: 0.0\n",
            "    Else (feature 10 > 2.5692160120205356)\n",
            "     If (feature 10 <= 2.733139504661156)\n",
            "      If (feature 3 in {0.0,2.0,8.0,9.0})\n",
            "       Predict: 0.0\n",
            "      Else (feature 3 not in {0.0,2.0,8.0,9.0})\n",
            "       Predict: 1.0\n",
            "     Else (feature 10 > 2.733139504661156)\n",
            "      Predict: 0.0\n",
            "   Else (feature 5 not in {5.0,6.0,2.0,3.0,4.0})\n",
            "    If (feature 4 <= 0.7267589199321851)\n",
            "     If (feature 10 <= 2.0118761370424263)\n",
            "      If (feature 4 <= -0.817307720675887)\n",
            "       Predict: 1.0\n",
            "      Else (feature 4 > -0.817307720675887)\n",
            "       Predict: 0.0\n",
            "     Else (feature 10 > 2.0118761370424263)\n",
            "      Predict: 0.0\n",
            "    Else (feature 4 > 0.7267589199321851)\n",
            "     Predict: 0.0\n",
            "  Else (feature 5 not in {5.0,1.0,6.0,2.0,3.0,4.0})\n",
            "   If (feature 10 <= 2.5692160120205356)\n",
            "    If (feature 4 <= 0.7267589199321851)\n",
            "     Predict: 1.0\n",
            "    Else (feature 4 > 0.7267589199321851)\n",
            "     If (feature 0 <= -1.0187766144735588)\n",
            "      If (feature 11 <= 3.80492979818979)\n",
            "       Predict: 1.0\n",
            "      Else (feature 11 > 3.80492979818979)\n",
            "       Predict: 0.0\n",
            "     Else (feature 0 > -1.0187766144735588)\n",
            "      If (feature 12 <= -0.017048631802045647)\n",
            "       Predict: 1.0\n",
            "      Else (feature 12 > -0.017048631802045647)\n",
            "       Predict: 0.0\n",
            "   Else (feature 10 > 2.5692160120205356)\n",
            "    If (feature 0 <= -1.5770843590465762)\n",
            "     Predict: 1.0\n",
            "    Else (feature 0 > -1.5770843590465762)\n",
            "     If (feature 6 in {0.0,10.0,1.0,9.0,13.0,2.0,12.0,7.0,3.0,11.0,8.0})\n",
            "      Predict: 0.0\n",
            "     Else (feature 6 not in {0.0,10.0,1.0,9.0,13.0,2.0,12.0,7.0,3.0,11.0,8.0})\n",
            "      Predict: 1.0\n",
            "\n"
          ],
          "name": "stdout"
        }
      ]
    },
    {
      "cell_type": "code",
      "metadata": {
        "id": "pLShvs46eEx3",
        "colab_type": "code",
        "colab": {}
      },
      "source": [
        "# As the accuracy of normalized model is not improved, \n",
        "# therefore, we decided to use the decision tree with categorical model to predict the future."
      ],
      "execution_count": 0,
      "outputs": []
    },
    {
      "cell_type": "markdown",
      "metadata": {
        "id": "tGQK9bWvh_Wq",
        "colab_type": "text"
      },
      "source": [
        "### 2.2.5 Prediction"
      ]
    },
    {
      "cell_type": "code",
      "metadata": {
        "id": "Jm6MZ20UeEu3",
        "colab_type": "code",
        "colab": {}
      },
      "source": [
        "data_pre = spark.read.csv(\"/content/gdrive/Shared drives/ISE 364 Project/df_replace_prediction1.csv\",inferSchema= True,header=True)"
      ],
      "execution_count": 0,
      "outputs": []
    },
    {
      "cell_type": "code",
      "metadata": {
        "id": "hsaXZv9FeEr_",
        "colab_type": "code",
        "outputId": "ed91d4d9-6260-454c-ce60-5c3b3b578471",
        "colab": {
          "base_uri": "https://localhost:8080/",
          "height": 459
        }
      },
      "source": [
        "data_pre.show()"
      ],
      "execution_count": 0,
      "outputs": [
        {
          "output_type": "stream",
          "text": [
            "+---+---+---+------+---+---+---+---+---+---+---+-----+---+---+---+\n",
            "|_c0|  0|  1|     2|  3|  4|  5|  6|  7|  8|  9|   10| 11| 12| 13|\n",
            "+---+---+---+------+---+---+---+---+---+---+---+-----+---+---+---+\n",
            "|  0| 38|  0| 89814|  1|  9|  1|  1|  1|  1|  0|    0|  0| 50|  0|\n",
            "|  1| 28|  1|336951|  8| 12|  1|  6|  1|  1|  0|    0|  0| 40|  0|\n",
            "|  2| 44|  0|160323|  9| 10|  1|  0|  1|  0|  0| 7688|  0| 40|  0|\n",
            "|  4| 63|  3|104626| 11| 15|  1|  9|  1|  1|  0| 3103|  0| 32|  0|\n",
            "|  5| 65|  0|184454|  1|  9|  1|  0|  1|  1|  0| 6418|  0| 40|  0|\n",
            "|  6| 48|  0|279724|  1|  9|  1|  0|  1|  1|  0| 3103|  0| 48|  0|\n",
            "|  7| 43|  0|346189| 14| 14|  1| 12|  1|  1|  0|    0|  0| 50|  0|\n",
            "|  9| 34|  0|107914| 13| 13|  1| 13|  1|  1|  0|    0|  0| 47|  0|\n",
            "| 10| 34|  0|238588|  9| 10|  0|  8|  0|  0|  1|    0|  0| 35|  0|\n",
            "| 11| 45|  3|432824|  1|  9|  1| 10|  1|  1|  0| 7298|  0| 90|  0|\n",
            "| 12| 22|  0|236427|  1|  9|  0| 11|  0|  1|  0|    0|  0| 20|  0|\n",
            "| 13| 46| A5|106444|  9| 10|  1| 12|  1|  0|  0| 7688|  0| 38|  0|\n",
            "| 14| 23|  1|258120|  9| 10|  1|  6|  1|  1|  0|    0|  0| 40|  0|\n",
            "| 16| 36|  1|403681| 13| 13|  1|  9|  1|  1|  0|    0|  0| 40|  0|\n",
            "| 17| 65|  0|136384| 14| 14|  1|  9|  1|  1|  0|    0|  0| 50|  0|\n",
            "| 18| 44|  5|120277|  3| 11|  1|  2|  1|  1|  0|    0|  0| 45|  0|\n",
            "| 19| 36|  0|465326|  1|  9|  1|  1|  1|  1|  0|    0|  0| 40|  0|\n",
            "| 20| 28|  0|242832|  3| 11|  1|  9|  4|  1|  1|    0|  0| 36|  0|\n",
            "| 21| 54|  0|186272|  9| 10|  1|  3|  1|  1|  0| 3908|  0| 50|  0|\n",
            "| 22| 22|  0| 54164|  1|  9|  0|  8|  2|  1|  0|14084|  0| 60|  0|\n",
            "+---+---+---+------+---+---+---+---+---+---+---+-----+---+---+---+\n",
            "only showing top 20 rows\n",
            "\n"
          ],
          "name": "stdout"
        }
      ]
    },
    {
      "cell_type": "code",
      "metadata": {
        "id": "srbDkPSElOMZ",
        "colab_type": "code",
        "outputId": "168b1f2d-54d9-429c-ff51-58ea6baca2c5",
        "colab": {
          "base_uri": "https://localhost:8080/",
          "height": 459
        }
      },
      "source": [
        "data_pre = data_pre.dropna()\n",
        "data_pre.show()"
      ],
      "execution_count": 0,
      "outputs": [
        {
          "output_type": "stream",
          "text": [
            "+---+---+---+------+---+---+---+---+---+---+---+-----+---+---+---+\n",
            "|_c0|  0|  1|     2|  3|  4|  5|  6|  7|  8|  9|   10| 11| 12| 13|\n",
            "+---+---+---+------+---+---+---+---+---+---+---+-----+---+---+---+\n",
            "|  0| 38|  0| 89814|  1|  9|  1|  1|  1|  1|  0|    0|  0| 50|  0|\n",
            "|  1| 28|  1|336951|  8| 12|  1|  6|  1|  1|  0|    0|  0| 40|  0|\n",
            "|  2| 44|  0|160323|  9| 10|  1|  0|  1|  0|  0| 7688|  0| 40|  0|\n",
            "|  4| 63|  3|104626| 11| 15|  1|  9|  1|  1|  0| 3103|  0| 32|  0|\n",
            "|  5| 65|  0|184454|  1|  9|  1|  0|  1|  1|  0| 6418|  0| 40|  0|\n",
            "|  6| 48|  0|279724|  1|  9|  1|  0|  1|  1|  0| 3103|  0| 48|  0|\n",
            "|  7| 43|  0|346189| 14| 14|  1| 12|  1|  1|  0|    0|  0| 50|  0|\n",
            "|  9| 34|  0|107914| 13| 13|  1| 13|  1|  1|  0|    0|  0| 47|  0|\n",
            "| 10| 34|  0|238588|  9| 10|  0|  8|  0|  0|  1|    0|  0| 35|  0|\n",
            "| 11| 45|  3|432824|  1|  9|  1| 10|  1|  1|  0| 7298|  0| 90|  0|\n",
            "| 12| 22|  0|236427|  1|  9|  0| 11|  0|  1|  0|    0|  0| 20|  0|\n",
            "| 13| 46| A5|106444|  9| 10|  1| 12|  1|  0|  0| 7688|  0| 38|  0|\n",
            "| 14| 23|  1|258120|  9| 10|  1|  6|  1|  1|  0|    0|  0| 40|  0|\n",
            "| 16| 36|  1|403681| 13| 13|  1|  9|  1|  1|  0|    0|  0| 40|  0|\n",
            "| 17| 65|  0|136384| 14| 14|  1|  9|  1|  1|  0|    0|  0| 50|  0|\n",
            "| 18| 44|  5|120277|  3| 11|  1|  2|  1|  1|  0|    0|  0| 45|  0|\n",
            "| 19| 36|  0|465326|  1|  9|  1|  1|  1|  1|  0|    0|  0| 40|  0|\n",
            "| 20| 28|  0|242832|  3| 11|  1|  9|  4|  1|  1|    0|  0| 36|  0|\n",
            "| 21| 54|  0|186272|  9| 10|  1|  3|  1|  1|  0| 3908|  0| 50|  0|\n",
            "| 22| 22|  0| 54164|  1|  9|  0|  8|  2|  1|  0|14084|  0| 60|  0|\n",
            "+---+---+---+------+---+---+---+---+---+---+---+-----+---+---+---+\n",
            "only showing top 20 rows\n",
            "\n"
          ],
          "name": "stdout"
        }
      ]
    },
    {
      "cell_type": "code",
      "metadata": {
        "id": "8h04laqqqFLE",
        "colab_type": "code",
        "outputId": "c973a662-5cab-4b05-85f9-b2c0f32f2fae",
        "colab": {
          "base_uri": "https://localhost:8080/",
          "height": 306
        }
      },
      "source": [
        "data_pre.printSchema()"
      ],
      "execution_count": 0,
      "outputs": [
        {
          "output_type": "stream",
          "text": [
            "root\n",
            " |-- _c0: integer (nullable = true)\n",
            " |-- 0: integer (nullable = true)\n",
            " |-- 1: string (nullable = true)\n",
            " |-- 2: integer (nullable = true)\n",
            " |-- 3: integer (nullable = true)\n",
            " |-- 4: integer (nullable = true)\n",
            " |-- 5: integer (nullable = true)\n",
            " |-- 6: string (nullable = true)\n",
            " |-- 7: integer (nullable = true)\n",
            " |-- 8: integer (nullable = true)\n",
            " |-- 9: integer (nullable = true)\n",
            " |-- 10: integer (nullable = true)\n",
            " |-- 11: integer (nullable = true)\n",
            " |-- 12: integer (nullable = true)\n",
            " |-- 13: string (nullable = true)\n",
            "\n"
          ],
          "name": "stdout"
        }
      ]
    },
    {
      "cell_type": "code",
      "metadata": {
        "id": "aFub_3c0qfZf",
        "colab_type": "code",
        "outputId": "aded6b9d-804c-44f8-cf22-07eb73bf6f41",
        "colab": {
          "base_uri": "https://localhost:8080/",
          "height": 459
        }
      },
      "source": [
        "# Some unexpect errors in column 1,6,13 need to be correct. \n",
        "\n",
        "from pyspark.sql.functions import regexp_replace\n",
        "# data_pre_temp = data_pre.(\"abnormal_1\",regexp_extract(data_pre['1'], '[a-zA-Z]+',0))\n",
        "data_pre_temp = data_pre.withColumn('1_new', regexp_replace(\"1\",'A5', '4'))\n",
        "data_pre_temp = data_pre_temp.withColumn('13_new', regexp_replace(\"13\",'H4', '3'))\n",
        "data_pre_temp = data_pre_temp.withColumn('6_new', regexp_replace(\"6\",'D11', '10'))\n",
        "data_pre_temp.show()"
      ],
      "execution_count": 0,
      "outputs": [
        {
          "output_type": "stream",
          "text": [
            "+---+---+---+------+---+---+---+---+---+---+---+-----+---+---+---+-----+------+-----+\n",
            "|_c0|  0|  1|     2|  3|  4|  5|  6|  7|  8|  9|   10| 11| 12| 13|1_new|13_new|6_new|\n",
            "+---+---+---+------+---+---+---+---+---+---+---+-----+---+---+---+-----+------+-----+\n",
            "|  0| 38|  0| 89814|  1|  9|  1|  1|  1|  1|  0|    0|  0| 50|  0|    0|     0|    1|\n",
            "|  1| 28|  1|336951|  8| 12|  1|  6|  1|  1|  0|    0|  0| 40|  0|    1|     0|    6|\n",
            "|  2| 44|  0|160323|  9| 10|  1|  0|  1|  0|  0| 7688|  0| 40|  0|    0|     0|    0|\n",
            "|  4| 63|  3|104626| 11| 15|  1|  9|  1|  1|  0| 3103|  0| 32|  0|    3|     0|    9|\n",
            "|  5| 65|  0|184454|  1|  9|  1|  0|  1|  1|  0| 6418|  0| 40|  0|    0|     0|    0|\n",
            "|  6| 48|  0|279724|  1|  9|  1|  0|  1|  1|  0| 3103|  0| 48|  0|    0|     0|    0|\n",
            "|  7| 43|  0|346189| 14| 14|  1| 12|  1|  1|  0|    0|  0| 50|  0|    0|     0|   12|\n",
            "|  9| 34|  0|107914| 13| 13|  1| 13|  1|  1|  0|    0|  0| 47|  0|    0|     0|   13|\n",
            "| 10| 34|  0|238588|  9| 10|  0|  8|  0|  0|  1|    0|  0| 35|  0|    0|     0|    8|\n",
            "| 11| 45|  3|432824|  1|  9|  1| 10|  1|  1|  0| 7298|  0| 90|  0|    3|     0|   10|\n",
            "| 12| 22|  0|236427|  1|  9|  0| 11|  0|  1|  0|    0|  0| 20|  0|    0|     0|   11|\n",
            "| 13| 46| A5|106444|  9| 10|  1| 12|  1|  0|  0| 7688|  0| 38|  0|    4|     0|   12|\n",
            "| 14| 23|  1|258120|  9| 10|  1|  6|  1|  1|  0|    0|  0| 40|  0|    1|     0|    6|\n",
            "| 16| 36|  1|403681| 13| 13|  1|  9|  1|  1|  0|    0|  0| 40|  0|    1|     0|    9|\n",
            "| 17| 65|  0|136384| 14| 14|  1|  9|  1|  1|  0|    0|  0| 50|  0|    0|     0|    9|\n",
            "| 18| 44|  5|120277|  3| 11|  1|  2|  1|  1|  0|    0|  0| 45|  0|    5|     0|    2|\n",
            "| 19| 36|  0|465326|  1|  9|  1|  1|  1|  1|  0|    0|  0| 40|  0|    0|     0|    1|\n",
            "| 20| 28|  0|242832|  3| 11|  1|  9|  4|  1|  1|    0|  0| 36|  0|    0|     0|    9|\n",
            "| 21| 54|  0|186272|  9| 10|  1|  3|  1|  1|  0| 3908|  0| 50|  0|    0|     0|    3|\n",
            "| 22| 22|  0| 54164|  1|  9|  0|  8|  2|  1|  0|14084|  0| 60|  0|    0|     0|    8|\n",
            "+---+---+---+------+---+---+---+---+---+---+---+-----+---+---+---+-----+------+-----+\n",
            "only showing top 20 rows\n",
            "\n"
          ],
          "name": "stdout"
        }
      ]
    },
    {
      "cell_type": "code",
      "metadata": {
        "id": "2x6piT7Bsj4I",
        "colab_type": "code",
        "outputId": "0d27ffa8-5039-4f0e-f910-576021d4de5a",
        "colab": {
          "base_uri": "https://localhost:8080/",
          "height": 459
        }
      },
      "source": [
        "# create a new dataframe to be prepared for predict\n",
        "data_pre_temp2 = data_pre_temp.select(data_pre_temp[\"_c0\"],data_pre_temp[\"0\"],data_pre_temp[\"1_new\"],\n",
        "                                      data_pre_temp[\"2\"],data_pre_temp[\"3\"],data_pre_temp[\"4\"],\\\n",
        "                                      data_pre_temp[\"5\"],data_pre_temp[\"6_new\"], data_pre_temp[\"7\"],\\\n",
        "                                     data_pre_temp[\"8\"],data_pre_temp[\"9\"],data_pre_temp[\"10\"],\\\n",
        "                                      data_pre_temp[\"11\"],data_pre_temp[\"12\"],data_pre_temp[\"13_new\"])\n",
        "data_pre_temp2.show()"
      ],
      "execution_count": 0,
      "outputs": [
        {
          "output_type": "stream",
          "text": [
            "+---+---+-----+------+---+---+---+-----+---+---+---+-----+---+---+------+\n",
            "|_c0|  0|1_new|     2|  3|  4|  5|6_new|  7|  8|  9|   10| 11| 12|13_new|\n",
            "+---+---+-----+------+---+---+---+-----+---+---+---+-----+---+---+------+\n",
            "|  0| 38|    0| 89814|  1|  9|  1|    1|  1|  1|  0|    0|  0| 50|     0|\n",
            "|  1| 28|    1|336951|  8| 12|  1|    6|  1|  1|  0|    0|  0| 40|     0|\n",
            "|  2| 44|    0|160323|  9| 10|  1|    0|  1|  0|  0| 7688|  0| 40|     0|\n",
            "|  4| 63|    3|104626| 11| 15|  1|    9|  1|  1|  0| 3103|  0| 32|     0|\n",
            "|  5| 65|    0|184454|  1|  9|  1|    0|  1|  1|  0| 6418|  0| 40|     0|\n",
            "|  6| 48|    0|279724|  1|  9|  1|    0|  1|  1|  0| 3103|  0| 48|     0|\n",
            "|  7| 43|    0|346189| 14| 14|  1|   12|  1|  1|  0|    0|  0| 50|     0|\n",
            "|  9| 34|    0|107914| 13| 13|  1|   13|  1|  1|  0|    0|  0| 47|     0|\n",
            "| 10| 34|    0|238588|  9| 10|  0|    8|  0|  0|  1|    0|  0| 35|     0|\n",
            "| 11| 45|    3|432824|  1|  9|  1|   10|  1|  1|  0| 7298|  0| 90|     0|\n",
            "| 12| 22|    0|236427|  1|  9|  0|   11|  0|  1|  0|    0|  0| 20|     0|\n",
            "| 13| 46|    4|106444|  9| 10|  1|   12|  1|  0|  0| 7688|  0| 38|     0|\n",
            "| 14| 23|    1|258120|  9| 10|  1|    6|  1|  1|  0|    0|  0| 40|     0|\n",
            "| 16| 36|    1|403681| 13| 13|  1|    9|  1|  1|  0|    0|  0| 40|     0|\n",
            "| 17| 65|    0|136384| 14| 14|  1|    9|  1|  1|  0|    0|  0| 50|     0|\n",
            "| 18| 44|    5|120277|  3| 11|  1|    2|  1|  1|  0|    0|  0| 45|     0|\n",
            "| 19| 36|    0|465326|  1|  9|  1|    1|  1|  1|  0|    0|  0| 40|     0|\n",
            "| 20| 28|    0|242832|  3| 11|  1|    9|  4|  1|  1|    0|  0| 36|     0|\n",
            "| 21| 54|    0|186272|  9| 10|  1|    3|  1|  1|  0| 3908|  0| 50|     0|\n",
            "| 22| 22|    0| 54164|  1|  9|  0|    8|  2|  1|  0|14084|  0| 60|     0|\n",
            "+---+---+-----+------+---+---+---+-----+---+---+---+-----+---+---+------+\n",
            "only showing top 20 rows\n",
            "\n"
          ],
          "name": "stdout"
        }
      ]
    },
    {
      "cell_type": "code",
      "metadata": {
        "id": "qckRK2Y_XQHY",
        "colab_type": "code",
        "outputId": "ec15c1b0-a5c9-454d-ccbb-f61fc0913bb9",
        "colab": {
          "base_uri": "https://localhost:8080/",
          "height": 289
        }
      },
      "source": [
        "# convert data type to double\n",
        "from pyspark.sql.functions import col , column\n",
        "data_pre_temp3 = data_pre_temp2.withColumn(\"1_new\", col(\"1_new\").cast(\"double\"))\n",
        "data_pre_temp3 = data_pre_temp3.withColumn(\"6_new\", col(\"6_new\").cast(\"double\"))\n",
        "data_pre_temp3 = data_pre_temp3.withColumn(\"13_new\", col(\"13_new\").cast(\"double\"))\n",
        "data_pre_temp3 = data_pre_temp3.withColumn(\"0\", col(\"0\").cast(\"double\"))\n",
        "data_pre_temp3 = data_pre_temp3.withColumn(\"2\", col(\"2\").cast(\"double\"))\n",
        "data_pre_temp3 = data_pre_temp3.withColumn(\"3\", col(\"3\").cast(\"double\"))\n",
        "data_pre_temp3 = data_pre_temp3.withColumn(\"4\", col(\"4\").cast(\"double\"))\n",
        "data_pre_temp3 = data_pre_temp3.withColumn(\"5\", col(\"5\").cast(\"double\"))\n",
        "data_pre_temp3 = data_pre_temp3.withColumn(\"7\", col(\"7\").cast(\"double\"))\n",
        "data_pre_temp3 = data_pre_temp3.withColumn(\"8\", col(\"8\").cast(\"double\"))\n",
        "data_pre_temp3 = data_pre_temp3.withColumn(\"9\", col(\"9\").cast(\"double\"))\n",
        "data_pre_temp3 = data_pre_temp3.withColumn(\"10\", col(\"10\").cast(\"double\"))\n",
        "data_pre_temp3 = data_pre_temp3.withColumn(\"11\", col(\"11\").cast(\"double\"))\n",
        "data_pre_temp3 = data_pre_temp3.withColumn(\"12\", col(\"12\").cast(\"double\"))\n",
        "data_pre_temp3.show(10)"
      ],
      "execution_count": 0,
      "outputs": [
        {
          "output_type": "stream",
          "text": [
            "+---+----+-----+--------+----+----+---+-----+---+---+---+------+---+----+------+\n",
            "|_c0|   0|1_new|       2|   3|   4|  5|6_new|  7|  8|  9|    10| 11|  12|13_new|\n",
            "+---+----+-----+--------+----+----+---+-----+---+---+---+------+---+----+------+\n",
            "|  0|38.0|  0.0| 89814.0| 1.0| 9.0|1.0|  1.0|1.0|1.0|0.0|   0.0|0.0|50.0|   0.0|\n",
            "|  1|28.0|  1.0|336951.0| 8.0|12.0|1.0|  6.0|1.0|1.0|0.0|   0.0|0.0|40.0|   0.0|\n",
            "|  2|44.0|  0.0|160323.0| 9.0|10.0|1.0|  0.0|1.0|0.0|0.0|7688.0|0.0|40.0|   0.0|\n",
            "|  4|63.0|  3.0|104626.0|11.0|15.0|1.0|  9.0|1.0|1.0|0.0|3103.0|0.0|32.0|   0.0|\n",
            "|  5|65.0|  0.0|184454.0| 1.0| 9.0|1.0|  0.0|1.0|1.0|0.0|6418.0|0.0|40.0|   0.0|\n",
            "|  6|48.0|  0.0|279724.0| 1.0| 9.0|1.0|  0.0|1.0|1.0|0.0|3103.0|0.0|48.0|   0.0|\n",
            "|  7|43.0|  0.0|346189.0|14.0|14.0|1.0| 12.0|1.0|1.0|0.0|   0.0|0.0|50.0|   0.0|\n",
            "|  9|34.0|  0.0|107914.0|13.0|13.0|1.0| 13.0|1.0|1.0|0.0|   0.0|0.0|47.0|   0.0|\n",
            "| 10|34.0|  0.0|238588.0| 9.0|10.0|0.0|  8.0|0.0|0.0|1.0|   0.0|0.0|35.0|   0.0|\n",
            "| 11|45.0|  3.0|432824.0| 1.0| 9.0|1.0| 10.0|1.0|1.0|0.0|7298.0|0.0|90.0|   0.0|\n",
            "+---+----+-----+--------+----+----+---+-----+---+---+---+------+---+----+------+\n",
            "only showing top 10 rows\n",
            "\n"
          ],
          "name": "stdout"
        }
      ]
    },
    {
      "cell_type": "code",
      "metadata": {
        "id": "kLArwRhjlV2d",
        "colab_type": "code",
        "outputId": "4dc3b109-adba-4fe7-e795-f3f33c10bb78",
        "colab": {
          "base_uri": "https://localhost:8080/",
          "height": 34
        }
      },
      "source": [
        "data_pre_temp3rdd = data_pre_temp3.rdd\n",
        "data_pre_temp3rdd.count()"
      ],
      "execution_count": 0,
      "outputs": [
        {
          "output_type": "execute_result",
          "data": {
            "text/plain": [
              "7201"
            ]
          },
          "metadata": {
            "tags": []
          },
          "execution_count": 38
        }
      ]
    },
    {
      "cell_type": "code",
      "metadata": {
        "id": "Ag-T38dUlSeX",
        "colab_type": "code",
        "colab": {}
      },
      "source": [
        "# use the dicision tree with categorical model to predict the new dataset\n",
        "predictions = model.predict(data_pre_temp3rdd.map(lambda s: s[1:]))"
      ],
      "execution_count": 0,
      "outputs": []
    },
    {
      "cell_type": "code",
      "metadata": {
        "id": "5vwUhe02h6pn",
        "colab_type": "code",
        "colab": {}
      },
      "source": [
        "data_pred = data_pre_temp3rdd.map(lambda s: s[0])"
      ],
      "execution_count": 0,
      "outputs": []
    },
    {
      "cell_type": "code",
      "metadata": {
        "id": "Mi8E8xt6aT6_",
        "colab_type": "code",
        "colab": {}
      },
      "source": [
        "# zip the new dataset with the prediction value\n",
        "data_pre = data_pre_temp3rdd.zip(predictions)"
      ],
      "execution_count": 0,
      "outputs": []
    },
    {
      "cell_type": "code",
      "metadata": {
        "id": "DxQswD-q1xyD",
        "colab_type": "code",
        "outputId": "93dfedb4-7f02-48f1-c5e3-9b8541ae54fe",
        "colab": {
          "base_uri": "https://localhost:8080/",
          "height": 459
        }
      },
      "source": [
        "data_preDF = data_pre.toDF()\n",
        "data_preDF.show()"
      ],
      "execution_count": 0,
      "outputs": [
        {
          "output_type": "stream",
          "text": [
            "+--------------------+---+\n",
            "|                  _1| _2|\n",
            "+--------------------+---+\n",
            "|[0, 38.0, 0.0, 89...|0.0|\n",
            "|[1, 28.0, 1.0, 33...|0.0|\n",
            "|[2, 44.0, 0.0, 16...|0.0|\n",
            "|[4, 63.0, 3.0, 10...|0.0|\n",
            "|[5, 65.0, 0.0, 18...|0.0|\n",
            "|[6, 48.0, 0.0, 27...|0.0|\n",
            "|[7, 43.0, 0.0, 34...|0.0|\n",
            "|[9, 34.0, 0.0, 10...|0.0|\n",
            "|[10, 34.0, 0.0, 2...|0.0|\n",
            "|[11, 45.0, 3.0, 4...|0.0|\n",
            "|[12, 22.0, 0.0, 2...|0.0|\n",
            "|[13, 46.0, 4.0, 1...|0.0|\n",
            "|[14, 23.0, 1.0, 2...|0.0|\n",
            "|[16, 36.0, 1.0, 4...|0.0|\n",
            "|[17, 65.0, 0.0, 1...|0.0|\n",
            "|[18, 44.0, 5.0, 1...|0.0|\n",
            "|[19, 36.0, 0.0, 4...|0.0|\n",
            "|[20, 28.0, 0.0, 2...|0.0|\n",
            "|[21, 54.0, 0.0, 1...|0.0|\n",
            "|[22, 22.0, 0.0, 5...|0.0|\n",
            "+--------------------+---+\n",
            "only showing top 20 rows\n",
            "\n"
          ],
          "name": "stdout"
        }
      ]
    },
    {
      "cell_type": "code",
      "metadata": {
        "id": "usWrIT741xro",
        "colab_type": "code",
        "colab": {}
      },
      "source": [
        "# convert the vector to multiple columns in order to match the format of future dataset\n",
        "data_prePD = data_preDF.toPandas()\n",
        "data_prePD.head()\n",
        "data_prePD[['_c0','0', '1','2', '3','4', '5','6', '7','8', '9','10','11','12','13'] ]= pd.DataFrame(data_prePD['_1'].tolist(), index=data_prePD.index)  "
      ],
      "execution_count": 0,
      "outputs": []
    },
    {
      "cell_type": "code",
      "metadata": {
        "id": "kUOgWVeL1xpT",
        "colab_type": "code",
        "outputId": "2c4b6c22-ccde-4ee5-de56-8725b05abfd7",
        "colab": {
          "base_uri": "https://localhost:8080/",
          "height": 289
        }
      },
      "source": [
        "data_prePD.head()"
      ],
      "execution_count": 0,
      "outputs": [
        {
          "output_type": "execute_result",
          "data": {
            "text/html": [
              "<div>\n",
              "<style scoped>\n",
              "    .dataframe tbody tr th:only-of-type {\n",
              "        vertical-align: middle;\n",
              "    }\n",
              "\n",
              "    .dataframe tbody tr th {\n",
              "        vertical-align: top;\n",
              "    }\n",
              "\n",
              "    .dataframe thead th {\n",
              "        text-align: right;\n",
              "    }\n",
              "</style>\n",
              "<table border=\"1\" class=\"dataframe\">\n",
              "  <thead>\n",
              "    <tr style=\"text-align: right;\">\n",
              "      <th></th>\n",
              "      <th>_1</th>\n",
              "      <th>_2</th>\n",
              "      <th>_c0</th>\n",
              "      <th>0</th>\n",
              "      <th>1</th>\n",
              "      <th>2</th>\n",
              "      <th>3</th>\n",
              "      <th>4</th>\n",
              "      <th>5</th>\n",
              "      <th>6</th>\n",
              "      <th>7</th>\n",
              "      <th>8</th>\n",
              "      <th>9</th>\n",
              "      <th>10</th>\n",
              "      <th>11</th>\n",
              "      <th>12</th>\n",
              "      <th>13</th>\n",
              "    </tr>\n",
              "  </thead>\n",
              "  <tbody>\n",
              "    <tr>\n",
              "      <th>0</th>\n",
              "      <td>(0, 38.0, 0.0, 89814.0, 1.0, 9.0, 1.0, 0.0, 1....</td>\n",
              "      <td>0.0</td>\n",
              "      <td>0</td>\n",
              "      <td>38.0</td>\n",
              "      <td>0.0</td>\n",
              "      <td>89814.0</td>\n",
              "      <td>1.0</td>\n",
              "      <td>9.0</td>\n",
              "      <td>1.0</td>\n",
              "      <td>0.0</td>\n",
              "      <td>1.0</td>\n",
              "      <td>1.0</td>\n",
              "      <td>0.0</td>\n",
              "      <td>0.0</td>\n",
              "      <td>0.0</td>\n",
              "      <td>50.0</td>\n",
              "      <td>0.0</td>\n",
              "    </tr>\n",
              "    <tr>\n",
              "      <th>1</th>\n",
              "      <td>(1, 28.0, 1.0, 336951.0, 8.0, 12.0, 1.0, 1.0, ...</td>\n",
              "      <td>0.0</td>\n",
              "      <td>1</td>\n",
              "      <td>28.0</td>\n",
              "      <td>1.0</td>\n",
              "      <td>336951.0</td>\n",
              "      <td>8.0</td>\n",
              "      <td>12.0</td>\n",
              "      <td>1.0</td>\n",
              "      <td>1.0</td>\n",
              "      <td>1.0</td>\n",
              "      <td>1.0</td>\n",
              "      <td>0.0</td>\n",
              "      <td>0.0</td>\n",
              "      <td>0.0</td>\n",
              "      <td>40.0</td>\n",
              "      <td>0.0</td>\n",
              "    </tr>\n",
              "    <tr>\n",
              "      <th>2</th>\n",
              "      <td>(418, 45.0, 0.0, 370261.0, 13.0, 13.0, 3.0, 0....</td>\n",
              "      <td>0.0</td>\n",
              "      <td>418</td>\n",
              "      <td>45.0</td>\n",
              "      <td>0.0</td>\n",
              "      <td>370261.0</td>\n",
              "      <td>13.0</td>\n",
              "      <td>13.0</td>\n",
              "      <td>3.0</td>\n",
              "      <td>0.0</td>\n",
              "      <td>2.0</td>\n",
              "      <td>1.0</td>\n",
              "      <td>1.0</td>\n",
              "      <td>0.0</td>\n",
              "      <td>0.0</td>\n",
              "      <td>40.0</td>\n",
              "      <td>0.0</td>\n",
              "    </tr>\n",
              "    <tr>\n",
              "      <th>3</th>\n",
              "      <td>(4, 63.0, 3.0, 104626.0, 11.0, 15.0, 1.0, 9.0,...</td>\n",
              "      <td>0.0</td>\n",
              "      <td>4</td>\n",
              "      <td>63.0</td>\n",
              "      <td>3.0</td>\n",
              "      <td>104626.0</td>\n",
              "      <td>11.0</td>\n",
              "      <td>15.0</td>\n",
              "      <td>1.0</td>\n",
              "      <td>9.0</td>\n",
              "      <td>1.0</td>\n",
              "      <td>1.0</td>\n",
              "      <td>0.0</td>\n",
              "      <td>3103.0</td>\n",
              "      <td>0.0</td>\n",
              "      <td>32.0</td>\n",
              "      <td>0.0</td>\n",
              "    </tr>\n",
              "    <tr>\n",
              "      <th>4</th>\n",
              "      <td>(5, 65.0, 0.0, 184454.0, 1.0, 9.0, 1.0, 0.0, 1...</td>\n",
              "      <td>0.0</td>\n",
              "      <td>5</td>\n",
              "      <td>65.0</td>\n",
              "      <td>0.0</td>\n",
              "      <td>184454.0</td>\n",
              "      <td>1.0</td>\n",
              "      <td>9.0</td>\n",
              "      <td>1.0</td>\n",
              "      <td>0.0</td>\n",
              "      <td>1.0</td>\n",
              "      <td>1.0</td>\n",
              "      <td>0.0</td>\n",
              "      <td>6418.0</td>\n",
              "      <td>0.0</td>\n",
              "      <td>40.0</td>\n",
              "      <td>0.0</td>\n",
              "    </tr>\n",
              "  </tbody>\n",
              "</table>\n",
              "</div>"
            ],
            "text/plain": [
              "                                                  _1   _2  _c0  ...   11    12   13\n",
              "0  (0, 38.0, 0.0, 89814.0, 1.0, 9.0, 1.0, 0.0, 1....  0.0    0  ...  0.0  50.0  0.0\n",
              "1  (1, 28.0, 1.0, 336951.0, 8.0, 12.0, 1.0, 1.0, ...  0.0    1  ...  0.0  40.0  0.0\n",
              "2  (418, 45.0, 0.0, 370261.0, 13.0, 13.0, 3.0, 0....  0.0  418  ...  0.0  40.0  0.0\n",
              "3  (4, 63.0, 3.0, 104626.0, 11.0, 15.0, 1.0, 9.0,...  0.0    4  ...  0.0  32.0  0.0\n",
              "4  (5, 65.0, 0.0, 184454.0, 1.0, 9.0, 1.0, 0.0, 1...  0.0    5  ...  0.0  40.0  0.0\n",
              "\n",
              "[5 rows x 17 columns]"
            ]
          },
          "metadata": {
            "tags": []
          },
          "execution_count": 44
        }
      ]
    },
    {
      "cell_type": "code",
      "metadata": {
        "id": "8udeQB5y1xlt",
        "colab_type": "code",
        "outputId": "2368a148-63d6-477c-94eb-7f33fef0942b",
        "colab": {
          "base_uri": "https://localhost:8080/",
          "height": 204
        }
      },
      "source": [
        "future_DCprediction = data_prePD[[\"0\",\"1\",\"2\",\"3\",\"4\",\"5\",\"6\",\"7\",\"8\",\"9\",\"10\",\"11\",\"12\",\"13\",\"_2\"]]\n",
        "future_DCprediction = future_DCprediction.rename(columns={\"_2\": \"14_prediction\"})\n",
        "future_DCprediction.head()"
      ],
      "execution_count": 0,
      "outputs": [
        {
          "output_type": "execute_result",
          "data": {
            "text/html": [
              "<div>\n",
              "<style scoped>\n",
              "    .dataframe tbody tr th:only-of-type {\n",
              "        vertical-align: middle;\n",
              "    }\n",
              "\n",
              "    .dataframe tbody tr th {\n",
              "        vertical-align: top;\n",
              "    }\n",
              "\n",
              "    .dataframe thead th {\n",
              "        text-align: right;\n",
              "    }\n",
              "</style>\n",
              "<table border=\"1\" class=\"dataframe\">\n",
              "  <thead>\n",
              "    <tr style=\"text-align: right;\">\n",
              "      <th></th>\n",
              "      <th>0</th>\n",
              "      <th>1</th>\n",
              "      <th>2</th>\n",
              "      <th>3</th>\n",
              "      <th>4</th>\n",
              "      <th>5</th>\n",
              "      <th>6</th>\n",
              "      <th>7</th>\n",
              "      <th>8</th>\n",
              "      <th>9</th>\n",
              "      <th>10</th>\n",
              "      <th>11</th>\n",
              "      <th>12</th>\n",
              "      <th>13</th>\n",
              "      <th>14_prediction</th>\n",
              "    </tr>\n",
              "  </thead>\n",
              "  <tbody>\n",
              "    <tr>\n",
              "      <th>0</th>\n",
              "      <td>38.0</td>\n",
              "      <td>0.0</td>\n",
              "      <td>89814.0</td>\n",
              "      <td>1.0</td>\n",
              "      <td>9.0</td>\n",
              "      <td>1.0</td>\n",
              "      <td>0.0</td>\n",
              "      <td>1.0</td>\n",
              "      <td>1.0</td>\n",
              "      <td>0.0</td>\n",
              "      <td>0.0</td>\n",
              "      <td>0.0</td>\n",
              "      <td>50.0</td>\n",
              "      <td>0.0</td>\n",
              "      <td>0.0</td>\n",
              "    </tr>\n",
              "    <tr>\n",
              "      <th>1</th>\n",
              "      <td>28.0</td>\n",
              "      <td>1.0</td>\n",
              "      <td>336951.0</td>\n",
              "      <td>8.0</td>\n",
              "      <td>12.0</td>\n",
              "      <td>1.0</td>\n",
              "      <td>1.0</td>\n",
              "      <td>1.0</td>\n",
              "      <td>1.0</td>\n",
              "      <td>0.0</td>\n",
              "      <td>0.0</td>\n",
              "      <td>0.0</td>\n",
              "      <td>40.0</td>\n",
              "      <td>0.0</td>\n",
              "      <td>0.0</td>\n",
              "    </tr>\n",
              "    <tr>\n",
              "      <th>2</th>\n",
              "      <td>45.0</td>\n",
              "      <td>0.0</td>\n",
              "      <td>370261.0</td>\n",
              "      <td>13.0</td>\n",
              "      <td>13.0</td>\n",
              "      <td>3.0</td>\n",
              "      <td>0.0</td>\n",
              "      <td>2.0</td>\n",
              "      <td>1.0</td>\n",
              "      <td>1.0</td>\n",
              "      <td>0.0</td>\n",
              "      <td>0.0</td>\n",
              "      <td>40.0</td>\n",
              "      <td>0.0</td>\n",
              "      <td>0.0</td>\n",
              "    </tr>\n",
              "    <tr>\n",
              "      <th>3</th>\n",
              "      <td>63.0</td>\n",
              "      <td>3.0</td>\n",
              "      <td>104626.0</td>\n",
              "      <td>11.0</td>\n",
              "      <td>15.0</td>\n",
              "      <td>1.0</td>\n",
              "      <td>9.0</td>\n",
              "      <td>1.0</td>\n",
              "      <td>1.0</td>\n",
              "      <td>0.0</td>\n",
              "      <td>3103.0</td>\n",
              "      <td>0.0</td>\n",
              "      <td>32.0</td>\n",
              "      <td>0.0</td>\n",
              "      <td>0.0</td>\n",
              "    </tr>\n",
              "    <tr>\n",
              "      <th>4</th>\n",
              "      <td>65.0</td>\n",
              "      <td>0.0</td>\n",
              "      <td>184454.0</td>\n",
              "      <td>1.0</td>\n",
              "      <td>9.0</td>\n",
              "      <td>1.0</td>\n",
              "      <td>0.0</td>\n",
              "      <td>1.0</td>\n",
              "      <td>1.0</td>\n",
              "      <td>0.0</td>\n",
              "      <td>6418.0</td>\n",
              "      <td>0.0</td>\n",
              "      <td>40.0</td>\n",
              "      <td>0.0</td>\n",
              "      <td>0.0</td>\n",
              "    </tr>\n",
              "  </tbody>\n",
              "</table>\n",
              "</div>"
            ],
            "text/plain": [
              "      0    1         2     3     4  ...      10   11    12   13  14_prediction\n",
              "0  38.0  0.0   89814.0   1.0   9.0  ...     0.0  0.0  50.0  0.0            0.0\n",
              "1  28.0  1.0  336951.0   8.0  12.0  ...     0.0  0.0  40.0  0.0            0.0\n",
              "2  45.0  0.0  370261.0  13.0  13.0  ...     0.0  0.0  40.0  0.0            0.0\n",
              "3  63.0  3.0  104626.0  11.0  15.0  ...  3103.0  0.0  32.0  0.0            0.0\n",
              "4  65.0  0.0  184454.0   1.0   9.0  ...  6418.0  0.0  40.0  0.0            0.0\n",
              "\n",
              "[5 rows x 15 columns]"
            ]
          },
          "metadata": {
            "tags": []
          },
          "execution_count": 45
        }
      ]
    },
    {
      "cell_type": "code",
      "metadata": {
        "id": "SByWdUlU1-sU",
        "colab_type": "code",
        "outputId": "b3192e7c-a95c-4e28-8389-2c65b74d49fa",
        "colab": {
          "base_uri": "https://localhost:8080/",
          "height": 204
        }
      },
      "source": [
        "future_DCprediction['14_prediction'] = future_DCprediction['14_prediction'].apply(lambda x: \"LARGE\" if x==0.0  else \"SMALL\")\n",
        "future_DCprediction.head()"
      ],
      "execution_count": 0,
      "outputs": [
        {
          "output_type": "execute_result",
          "data": {
            "text/html": [
              "<div>\n",
              "<style scoped>\n",
              "    .dataframe tbody tr th:only-of-type {\n",
              "        vertical-align: middle;\n",
              "    }\n",
              "\n",
              "    .dataframe tbody tr th {\n",
              "        vertical-align: top;\n",
              "    }\n",
              "\n",
              "    .dataframe thead th {\n",
              "        text-align: right;\n",
              "    }\n",
              "</style>\n",
              "<table border=\"1\" class=\"dataframe\">\n",
              "  <thead>\n",
              "    <tr style=\"text-align: right;\">\n",
              "      <th></th>\n",
              "      <th>0</th>\n",
              "      <th>1</th>\n",
              "      <th>2</th>\n",
              "      <th>3</th>\n",
              "      <th>4</th>\n",
              "      <th>5</th>\n",
              "      <th>6</th>\n",
              "      <th>7</th>\n",
              "      <th>8</th>\n",
              "      <th>9</th>\n",
              "      <th>10</th>\n",
              "      <th>11</th>\n",
              "      <th>12</th>\n",
              "      <th>13</th>\n",
              "      <th>14_prediction</th>\n",
              "    </tr>\n",
              "  </thead>\n",
              "  <tbody>\n",
              "    <tr>\n",
              "      <th>0</th>\n",
              "      <td>38.0</td>\n",
              "      <td>0.0</td>\n",
              "      <td>89814.0</td>\n",
              "      <td>1.0</td>\n",
              "      <td>9.0</td>\n",
              "      <td>1.0</td>\n",
              "      <td>0.0</td>\n",
              "      <td>1.0</td>\n",
              "      <td>1.0</td>\n",
              "      <td>0.0</td>\n",
              "      <td>0.0</td>\n",
              "      <td>0.0</td>\n",
              "      <td>50.0</td>\n",
              "      <td>0.0</td>\n",
              "      <td>LARGE</td>\n",
              "    </tr>\n",
              "    <tr>\n",
              "      <th>1</th>\n",
              "      <td>28.0</td>\n",
              "      <td>1.0</td>\n",
              "      <td>336951.0</td>\n",
              "      <td>8.0</td>\n",
              "      <td>12.0</td>\n",
              "      <td>1.0</td>\n",
              "      <td>1.0</td>\n",
              "      <td>1.0</td>\n",
              "      <td>1.0</td>\n",
              "      <td>0.0</td>\n",
              "      <td>0.0</td>\n",
              "      <td>0.0</td>\n",
              "      <td>40.0</td>\n",
              "      <td>0.0</td>\n",
              "      <td>LARGE</td>\n",
              "    </tr>\n",
              "    <tr>\n",
              "      <th>2</th>\n",
              "      <td>45.0</td>\n",
              "      <td>0.0</td>\n",
              "      <td>370261.0</td>\n",
              "      <td>13.0</td>\n",
              "      <td>13.0</td>\n",
              "      <td>3.0</td>\n",
              "      <td>0.0</td>\n",
              "      <td>2.0</td>\n",
              "      <td>1.0</td>\n",
              "      <td>1.0</td>\n",
              "      <td>0.0</td>\n",
              "      <td>0.0</td>\n",
              "      <td>40.0</td>\n",
              "      <td>0.0</td>\n",
              "      <td>LARGE</td>\n",
              "    </tr>\n",
              "    <tr>\n",
              "      <th>3</th>\n",
              "      <td>63.0</td>\n",
              "      <td>3.0</td>\n",
              "      <td>104626.0</td>\n",
              "      <td>11.0</td>\n",
              "      <td>15.0</td>\n",
              "      <td>1.0</td>\n",
              "      <td>9.0</td>\n",
              "      <td>1.0</td>\n",
              "      <td>1.0</td>\n",
              "      <td>0.0</td>\n",
              "      <td>3103.0</td>\n",
              "      <td>0.0</td>\n",
              "      <td>32.0</td>\n",
              "      <td>0.0</td>\n",
              "      <td>LARGE</td>\n",
              "    </tr>\n",
              "    <tr>\n",
              "      <th>4</th>\n",
              "      <td>65.0</td>\n",
              "      <td>0.0</td>\n",
              "      <td>184454.0</td>\n",
              "      <td>1.0</td>\n",
              "      <td>9.0</td>\n",
              "      <td>1.0</td>\n",
              "      <td>0.0</td>\n",
              "      <td>1.0</td>\n",
              "      <td>1.0</td>\n",
              "      <td>0.0</td>\n",
              "      <td>6418.0</td>\n",
              "      <td>0.0</td>\n",
              "      <td>40.0</td>\n",
              "      <td>0.0</td>\n",
              "      <td>LARGE</td>\n",
              "    </tr>\n",
              "  </tbody>\n",
              "</table>\n",
              "</div>"
            ],
            "text/plain": [
              "      0    1         2     3     4  ...      10   11    12   13  14_prediction\n",
              "0  38.0  0.0   89814.0   1.0   9.0  ...     0.0  0.0  50.0  0.0          LARGE\n",
              "1  28.0  1.0  336951.0   8.0  12.0  ...     0.0  0.0  40.0  0.0          LARGE\n",
              "2  45.0  0.0  370261.0  13.0  13.0  ...     0.0  0.0  40.0  0.0          LARGE\n",
              "3  63.0  3.0  104626.0  11.0  15.0  ...  3103.0  0.0  32.0  0.0          LARGE\n",
              "4  65.0  0.0  184454.0   1.0   9.0  ...  6418.0  0.0  40.0  0.0          LARGE\n",
              "\n",
              "[5 rows x 15 columns]"
            ]
          },
          "metadata": {
            "tags": []
          },
          "execution_count": 46
        }
      ]
    },
    {
      "cell_type": "code",
      "metadata": {
        "id": "MIo6IJgC8p00",
        "colab_type": "code",
        "outputId": "3fe60ad2-b4f0-4133-d463-753cd519f7c9",
        "colab": {
          "base_uri": "https://localhost:8080/",
          "height": 297
        }
      },
      "source": [
        "future_DCprediction['14_prediction'].value_counts().plot(x=None,y=None, kind='pie',autopct='%1.2f%%',title =\"Predicted Taget Percentage\")\n",
        "plt.tight_layout()"
      ],
      "execution_count": 0,
      "outputs": [
        {
          "output_type": "display_data",
          "data": {
            "image/png": "[encoded data removed]",
            "text/plain": [
              "<Figure size 432x288 with 1 Axes>"
            ]
          },
          "metadata": {
            "tags": []
          }
        }
      ]
    },
    {
      "cell_type": "code",
      "metadata": {
        "id": "7x_78V9q9Uzm",
        "colab_type": "code",
        "colab": {}
      },
      "source": [
        "future_DCprediction.to_csv(\"future_prediction.csv\",index=False)"
      ],
      "execution_count": 0,
      "outputs": []
    },
    {
      "cell_type": "markdown",
      "metadata": {
        "id": "4IL7tvlc5ms-",
        "colab_type": "text"
      },
      "source": [
        "###############################################################################################"
      ]
    },
    {
      "cell_type": "code",
      "metadata": {
        "id": "1WLccYdH3S7c",
        "colab_type": "code",
        "colab": {}
      },
      "source": [
        ""
      ],
      "execution_count": 0,
      "outputs": []
    },
    {
      "cell_type": "markdown",
      "metadata": {
        "id": "_hWedc7yd57H",
        "colab_type": "text"
      },
      "source": [
        "##2.3 K Nearest Neighbors "
      ]
    },
    {
      "cell_type": "markdown",
      "metadata": {
        "id": "gBN7SuQreDMA",
        "colab_type": "text"
      },
      "source": [
        "### 2.3.1 Transfer the categorical data using OneHotEncoder"
      ]
    },
    {
      "cell_type": "code",
      "metadata": {
        "id": "E8WeyK8Fd57I",
        "colab_type": "code",
        "colab": {}
      },
      "source": [
        "# As knn natually deal with the numeric data, we first use the oneHotEncoding to transfer the categorical data into numeric data."
      ],
      "execution_count": 0,
      "outputs": []
    },
    {
      "cell_type": "code",
      "metadata": {
        "id": "VOtpHSdDZqWV",
        "colab_type": "code",
        "outputId": "c0f30276-044e-4fe1-9fa5-a3acf0c1bb19",
        "colab": {
          "base_uri": "https://localhost:8080/",
          "height": 204
        }
      },
      "source": [
        "df_replace.head()"
      ],
      "execution_count": 0,
      "outputs": [
        {
          "output_type": "execute_result",
          "data": {
            "text/html": [
              "<div>\n",
              "<style scoped>\n",
              "    .dataframe tbody tr th:only-of-type {\n",
              "        vertical-align: middle;\n",
              "    }\n",
              "\n",
              "    .dataframe tbody tr th {\n",
              "        vertical-align: top;\n",
              "    }\n",
              "\n",
              "    .dataframe thead th {\n",
              "        text-align: right;\n",
              "    }\n",
              "</style>\n",
              "<table border=\"1\" class=\"dataframe\">\n",
              "  <thead>\n",
              "    <tr style=\"text-align: right;\">\n",
              "      <th></th>\n",
              "      <th>0</th>\n",
              "      <th>1</th>\n",
              "      <th>2</th>\n",
              "      <th>3</th>\n",
              "      <th>4</th>\n",
              "      <th>5</th>\n",
              "      <th>6</th>\n",
              "      <th>7</th>\n",
              "      <th>8</th>\n",
              "      <th>9</th>\n",
              "      <th>10</th>\n",
              "      <th>11</th>\n",
              "      <th>12</th>\n",
              "      <th>13</th>\n",
              "      <th>14</th>\n",
              "    </tr>\n",
              "  </thead>\n",
              "  <tbody>\n",
              "    <tr>\n",
              "      <th>0</th>\n",
              "      <td>39</td>\n",
              "      <td>A0</td>\n",
              "      <td>77516</td>\n",
              "      <td>B0</td>\n",
              "      <td>13</td>\n",
              "      <td>C0</td>\n",
              "      <td>D0</td>\n",
              "      <td>E0</td>\n",
              "      <td>F0</td>\n",
              "      <td>G0</td>\n",
              "      <td>2174</td>\n",
              "      <td>0</td>\n",
              "      <td>40</td>\n",
              "      <td>H0</td>\n",
              "      <td>SMALL</td>\n",
              "    </tr>\n",
              "    <tr>\n",
              "      <th>1</th>\n",
              "      <td>50</td>\n",
              "      <td>A1</td>\n",
              "      <td>83311</td>\n",
              "      <td>B0</td>\n",
              "      <td>13</td>\n",
              "      <td>C1</td>\n",
              "      <td>D1</td>\n",
              "      <td>E1</td>\n",
              "      <td>F0</td>\n",
              "      <td>G0</td>\n",
              "      <td>0</td>\n",
              "      <td>0</td>\n",
              "      <td>13</td>\n",
              "      <td>H0</td>\n",
              "      <td>SMALL</td>\n",
              "    </tr>\n",
              "    <tr>\n",
              "      <th>2</th>\n",
              "      <td>38</td>\n",
              "      <td>A2</td>\n",
              "      <td>215646</td>\n",
              "      <td>B1</td>\n",
              "      <td>9</td>\n",
              "      <td>C2</td>\n",
              "      <td>D2</td>\n",
              "      <td>E0</td>\n",
              "      <td>F0</td>\n",
              "      <td>G0</td>\n",
              "      <td>0</td>\n",
              "      <td>0</td>\n",
              "      <td>40</td>\n",
              "      <td>H0</td>\n",
              "      <td>SMALL</td>\n",
              "    </tr>\n",
              "    <tr>\n",
              "      <th>3</th>\n",
              "      <td>53</td>\n",
              "      <td>A2</td>\n",
              "      <td>234721</td>\n",
              "      <td>B2</td>\n",
              "      <td>7</td>\n",
              "      <td>C1</td>\n",
              "      <td>D2</td>\n",
              "      <td>E1</td>\n",
              "      <td>F1</td>\n",
              "      <td>G0</td>\n",
              "      <td>0</td>\n",
              "      <td>0</td>\n",
              "      <td>40</td>\n",
              "      <td>H0</td>\n",
              "      <td>SMALL</td>\n",
              "    </tr>\n",
              "    <tr>\n",
              "      <th>4</th>\n",
              "      <td>28</td>\n",
              "      <td>A2</td>\n",
              "      <td>338409</td>\n",
              "      <td>B0</td>\n",
              "      <td>13</td>\n",
              "      <td>C1</td>\n",
              "      <td>D3</td>\n",
              "      <td>E2</td>\n",
              "      <td>F1</td>\n",
              "      <td>G1</td>\n",
              "      <td>0</td>\n",
              "      <td>0</td>\n",
              "      <td>40</td>\n",
              "      <td>H1</td>\n",
              "      <td>SMALL</td>\n",
              "    </tr>\n",
              "  </tbody>\n",
              "</table>\n",
              "</div>"
            ],
            "text/plain": [
              "    0   1       2   3   4   5   6   7   8   9    10  11  12  13     14\n",
              "0  39  A0   77516  B0  13  C0  D0  E0  F0  G0  2174   0  40  H0  SMALL\n",
              "1  50  A1   83311  B0  13  C1  D1  E1  F0  G0     0   0  13  H0  SMALL\n",
              "2  38  A2  215646  B1   9  C2  D2  E0  F0  G0     0   0  40  H0  SMALL\n",
              "3  53  A2  234721  B2   7  C1  D2  E1  F1  G0     0   0  40  H0  SMALL\n",
              "4  28  A2  338409  B0  13  C1  D3  E2  F1  G1     0   0  40  H1  SMALL"
            ]
          },
          "metadata": {
            "tags": []
          },
          "execution_count": 131
        }
      ]
    },
    {
      "cell_type": "code",
      "metadata": {
        "id": "5g6ZrUEnlyPa",
        "colab_type": "code",
        "outputId": "1f2c540b-4b81-47f0-bafd-784707b68163",
        "colab": {
          "base_uri": "https://localhost:8080/",
          "height": 204
        }
      },
      "source": [
        "df_replace['14'] = df_replace['14'].apply(lambda x: 0 if x==\"LARGE\"  else 1)\n",
        "df_replace.head()"
      ],
      "execution_count": 0,
      "outputs": [
        {
          "output_type": "execute_result",
          "data": {
            "text/html": [
              "<div>\n",
              "<style scoped>\n",
              "    .dataframe tbody tr th:only-of-type {\n",
              "        vertical-align: middle;\n",
              "    }\n",
              "\n",
              "    .dataframe tbody tr th {\n",
              "        vertical-align: top;\n",
              "    }\n",
              "\n",
              "    .dataframe thead th {\n",
              "        text-align: right;\n",
              "    }\n",
              "</style>\n",
              "<table border=\"1\" class=\"dataframe\">\n",
              "  <thead>\n",
              "    <tr style=\"text-align: right;\">\n",
              "      <th></th>\n",
              "      <th>0</th>\n",
              "      <th>1</th>\n",
              "      <th>2</th>\n",
              "      <th>3</th>\n",
              "      <th>4</th>\n",
              "      <th>5</th>\n",
              "      <th>6</th>\n",
              "      <th>7</th>\n",
              "      <th>8</th>\n",
              "      <th>9</th>\n",
              "      <th>10</th>\n",
              "      <th>11</th>\n",
              "      <th>12</th>\n",
              "      <th>13</th>\n",
              "      <th>14</th>\n",
              "    </tr>\n",
              "  </thead>\n",
              "  <tbody>\n",
              "    <tr>\n",
              "      <th>0</th>\n",
              "      <td>39</td>\n",
              "      <td>A0</td>\n",
              "      <td>77516</td>\n",
              "      <td>B0</td>\n",
              "      <td>13</td>\n",
              "      <td>C0</td>\n",
              "      <td>D0</td>\n",
              "      <td>E0</td>\n",
              "      <td>F0</td>\n",
              "      <td>G0</td>\n",
              "      <td>2174</td>\n",
              "      <td>0</td>\n",
              "      <td>40</td>\n",
              "      <td>H0</td>\n",
              "      <td>1</td>\n",
              "    </tr>\n",
              "    <tr>\n",
              "      <th>1</th>\n",
              "      <td>50</td>\n",
              "      <td>A1</td>\n",
              "      <td>83311</td>\n",
              "      <td>B0</td>\n",
              "      <td>13</td>\n",
              "      <td>C1</td>\n",
              "      <td>D1</td>\n",
              "      <td>E1</td>\n",
              "      <td>F0</td>\n",
              "      <td>G0</td>\n",
              "      <td>0</td>\n",
              "      <td>0</td>\n",
              "      <td>13</td>\n",
              "      <td>H0</td>\n",
              "      <td>1</td>\n",
              "    </tr>\n",
              "    <tr>\n",
              "      <th>2</th>\n",
              "      <td>38</td>\n",
              "      <td>A2</td>\n",
              "      <td>215646</td>\n",
              "      <td>B1</td>\n",
              "      <td>9</td>\n",
              "      <td>C2</td>\n",
              "      <td>D2</td>\n",
              "      <td>E0</td>\n",
              "      <td>F0</td>\n",
              "      <td>G0</td>\n",
              "      <td>0</td>\n",
              "      <td>0</td>\n",
              "      <td>40</td>\n",
              "      <td>H0</td>\n",
              "      <td>1</td>\n",
              "    </tr>\n",
              "    <tr>\n",
              "      <th>3</th>\n",
              "      <td>53</td>\n",
              "      <td>A2</td>\n",
              "      <td>234721</td>\n",
              "      <td>B2</td>\n",
              "      <td>7</td>\n",
              "      <td>C1</td>\n",
              "      <td>D2</td>\n",
              "      <td>E1</td>\n",
              "      <td>F1</td>\n",
              "      <td>G0</td>\n",
              "      <td>0</td>\n",
              "      <td>0</td>\n",
              "      <td>40</td>\n",
              "      <td>H0</td>\n",
              "      <td>1</td>\n",
              "    </tr>\n",
              "    <tr>\n",
              "      <th>4</th>\n",
              "      <td>28</td>\n",
              "      <td>A2</td>\n",
              "      <td>338409</td>\n",
              "      <td>B0</td>\n",
              "      <td>13</td>\n",
              "      <td>C1</td>\n",
              "      <td>D3</td>\n",
              "      <td>E2</td>\n",
              "      <td>F1</td>\n",
              "      <td>G1</td>\n",
              "      <td>0</td>\n",
              "      <td>0</td>\n",
              "      <td>40</td>\n",
              "      <td>H1</td>\n",
              "      <td>1</td>\n",
              "    </tr>\n",
              "  </tbody>\n",
              "</table>\n",
              "</div>"
            ],
            "text/plain": [
              "    0   1       2   3   4   5   6   7   8   9    10  11  12  13  14\n",
              "0  39  A0   77516  B0  13  C0  D0  E0  F0  G0  2174   0  40  H0   1\n",
              "1  50  A1   83311  B0  13  C1  D1  E1  F0  G0     0   0  13  H0   1\n",
              "2  38  A2  215646  B1   9  C2  D2  E0  F0  G0     0   0  40  H0   1\n",
              "3  53  A2  234721  B2   7  C1  D2  E1  F1  G0     0   0  40  H0   1\n",
              "4  28  A2  338409  B0  13  C1  D3  E2  F1  G1     0   0  40  H1   1"
            ]
          },
          "metadata": {
            "tags": []
          },
          "execution_count": 132
        }
      ]
    },
    {
      "cell_type": "code",
      "metadata": {
        "id": "ppMCmZ9fblbb",
        "colab_type": "code",
        "colab": {}
      },
      "source": [
        "df_replaceNew = df_replace[[\"1\",\"3\",\"5\",\"6\",\"7\",\"8\",\"9\",\"13\"]]"
      ],
      "execution_count": 0,
      "outputs": []
    },
    {
      "cell_type": "code",
      "metadata": {
        "id": "_ehKegokd57J",
        "colab_type": "code",
        "outputId": "7c3598a2-9937-4ce3-ec92-59a89e721c98",
        "colab": {
          "base_uri": "https://localhost:8080/",
          "height": 204
        }
      },
      "source": [
        "from sklearn.preprocessing import OneHotEncoder\n",
        "from sklearn import preprocessing\n",
        "# encode labels with value between 0 and n_classes-1.\n",
        "le = preprocessing.LabelEncoder()\n",
        "df_replaceNew_2 = df_replaceNew.apply(le.fit_transform)\n",
        "df_replaceNew_2.head()"
      ],
      "execution_count": 0,
      "outputs": [
        {
          "output_type": "execute_result",
          "data": {
            "text/html": [
              "<div>\n",
              "<style scoped>\n",
              "    .dataframe tbody tr th:only-of-type {\n",
              "        vertical-align: middle;\n",
              "    }\n",
              "\n",
              "    .dataframe tbody tr th {\n",
              "        vertical-align: top;\n",
              "    }\n",
              "\n",
              "    .dataframe thead th {\n",
              "        text-align: right;\n",
              "    }\n",
              "</style>\n",
              "<table border=\"1\" class=\"dataframe\">\n",
              "  <thead>\n",
              "    <tr style=\"text-align: right;\">\n",
              "      <th></th>\n",
              "      <th>1</th>\n",
              "      <th>3</th>\n",
              "      <th>5</th>\n",
              "      <th>6</th>\n",
              "      <th>7</th>\n",
              "      <th>8</th>\n",
              "      <th>9</th>\n",
              "      <th>13</th>\n",
              "    </tr>\n",
              "  </thead>\n",
              "  <tbody>\n",
              "    <tr>\n",
              "      <th>0</th>\n",
              "      <td>0</td>\n",
              "      <td>0</td>\n",
              "      <td>0</td>\n",
              "      <td>0</td>\n",
              "      <td>0</td>\n",
              "      <td>0</td>\n",
              "      <td>0</td>\n",
              "      <td>0</td>\n",
              "    </tr>\n",
              "    <tr>\n",
              "      <th>1</th>\n",
              "      <td>1</td>\n",
              "      <td>0</td>\n",
              "      <td>1</td>\n",
              "      <td>1</td>\n",
              "      <td>1</td>\n",
              "      <td>0</td>\n",
              "      <td>0</td>\n",
              "      <td>0</td>\n",
              "    </tr>\n",
              "    <tr>\n",
              "      <th>2</th>\n",
              "      <td>2</td>\n",
              "      <td>1</td>\n",
              "      <td>2</td>\n",
              "      <td>6</td>\n",
              "      <td>0</td>\n",
              "      <td>0</td>\n",
              "      <td>0</td>\n",
              "      <td>0</td>\n",
              "    </tr>\n",
              "    <tr>\n",
              "      <th>3</th>\n",
              "      <td>2</td>\n",
              "      <td>8</td>\n",
              "      <td>1</td>\n",
              "      <td>6</td>\n",
              "      <td>1</td>\n",
              "      <td>1</td>\n",
              "      <td>0</td>\n",
              "      <td>0</td>\n",
              "    </tr>\n",
              "    <tr>\n",
              "      <th>4</th>\n",
              "      <td>2</td>\n",
              "      <td>0</td>\n",
              "      <td>1</td>\n",
              "      <td>7</td>\n",
              "      <td>2</td>\n",
              "      <td>1</td>\n",
              "      <td>1</td>\n",
              "      <td>1</td>\n",
              "    </tr>\n",
              "  </tbody>\n",
              "</table>\n",
              "</div>"
            ],
            "text/plain": [
              "   1  3  5  6  7  8  9  13\n",
              "0  0  0  0  0  0  0  0   0\n",
              "1  1  0  1  1  1  0  0   0\n",
              "2  2  1  2  6  0  0  0   0\n",
              "3  2  8  1  6  1  1  0   0\n",
              "4  2  0  1  7  2  1  1   1"
            ]
          },
          "metadata": {
            "tags": []
          },
          "execution_count": 134
        }
      ]
    },
    {
      "cell_type": "code",
      "metadata": {
        "id": "ReAi9xlUd57J",
        "colab_type": "code",
        "outputId": "3ba5ca75-b846-4fb4-d0ce-89ef22354761",
        "colab": {
          "base_uri": "https://localhost:8080/",
          "height": 34
        }
      },
      "source": [
        "# TODO: create a OneHotEncoder object, and fit it to all of X\n",
        "\n",
        "# 1. INSTANTIATE\n",
        "enc = preprocessing.OneHotEncoder(categories='auto')\n",
        "\n",
        "# 2. FIT\n",
        "enc.fit(df_replaceNew_2)\n",
        "\n",
        "# 3. Transform\n",
        "onehotlabels = enc.transform(df_replaceNew_2).toarray()\n",
        "onehotlabels.shape\n",
        "\n",
        "# the same number of rows \n",
        "# but now you've so many more columns due to how we changed all the categorical data into numerical data\n"
      ],
      "execution_count": 0,
      "outputs": [
        {
          "output_type": "execute_result",
          "data": {
            "text/plain": [
              "(30162, 98)"
            ]
          },
          "metadata": {
            "tags": []
          },
          "execution_count": 135
        }
      ]
    },
    {
      "cell_type": "code",
      "metadata": {
        "id": "4tsHNsBLiVYR",
        "colab_type": "code",
        "outputId": "925febf0-352d-4868-da93-4d7421915dfb",
        "colab": {
          "base_uri": "https://localhost:8080/",
          "height": 34
        }
      },
      "source": [
        "type(onehotlabels)"
      ],
      "execution_count": 0,
      "outputs": [
        {
          "output_type": "execute_result",
          "data": {
            "text/plain": [
              "numpy.ndarray"
            ]
          },
          "metadata": {
            "tags": []
          },
          "execution_count": 136
        }
      ]
    },
    {
      "cell_type": "code",
      "metadata": {
        "id": "ROwHG6kKd57L",
        "colab_type": "code",
        "outputId": "4c6296c1-d650-4102-8008-c45d6f1edd36",
        "colab": {
          "base_uri": "https://localhost:8080/",
          "height": 204
        }
      },
      "source": [
        "# add the new onehotlabels to existing dataframe\n",
        "\n",
        "import numpy as np\n",
        "import pandas as pd\n",
        "import scipy.sparse as sparse\n",
        "\n",
        "df_replace['oneHotEncoder_data'] = onehotlabels.tolist()\n",
        "df_replace.head()"
      ],
      "execution_count": 0,
      "outputs": [
        {
          "output_type": "execute_result",
          "data": {
            "text/html": [
              "<div>\n",
              "<style scoped>\n",
              "    .dataframe tbody tr th:only-of-type {\n",
              "        vertical-align: middle;\n",
              "    }\n",
              "\n",
              "    .dataframe tbody tr th {\n",
              "        vertical-align: top;\n",
              "    }\n",
              "\n",
              "    .dataframe thead th {\n",
              "        text-align: right;\n",
              "    }\n",
              "</style>\n",
              "<table border=\"1\" class=\"dataframe\">\n",
              "  <thead>\n",
              "    <tr style=\"text-align: right;\">\n",
              "      <th></th>\n",
              "      <th>0</th>\n",
              "      <th>1</th>\n",
              "      <th>2</th>\n",
              "      <th>3</th>\n",
              "      <th>4</th>\n",
              "      <th>5</th>\n",
              "      <th>6</th>\n",
              "      <th>7</th>\n",
              "      <th>8</th>\n",
              "      <th>9</th>\n",
              "      <th>10</th>\n",
              "      <th>11</th>\n",
              "      <th>12</th>\n",
              "      <th>13</th>\n",
              "      <th>14</th>\n",
              "      <th>oneHotEncoder_data</th>\n",
              "    </tr>\n",
              "  </thead>\n",
              "  <tbody>\n",
              "    <tr>\n",
              "      <th>0</th>\n",
              "      <td>39</td>\n",
              "      <td>A0</td>\n",
              "      <td>77516</td>\n",
              "      <td>B0</td>\n",
              "      <td>13</td>\n",
              "      <td>C0</td>\n",
              "      <td>D0</td>\n",
              "      <td>E0</td>\n",
              "      <td>F0</td>\n",
              "      <td>G0</td>\n",
              "      <td>2174</td>\n",
              "      <td>0</td>\n",
              "      <td>40</td>\n",
              "      <td>H0</td>\n",
              "      <td>1</td>\n",
              "      <td>[1.0, 0.0, 0.0, 0.0, 0.0, 0.0, 0.0, 1.0, 0.0, ...</td>\n",
              "    </tr>\n",
              "    <tr>\n",
              "      <th>1</th>\n",
              "      <td>50</td>\n",
              "      <td>A1</td>\n",
              "      <td>83311</td>\n",
              "      <td>B0</td>\n",
              "      <td>13</td>\n",
              "      <td>C1</td>\n",
              "      <td>D1</td>\n",
              "      <td>E1</td>\n",
              "      <td>F0</td>\n",
              "      <td>G0</td>\n",
              "      <td>0</td>\n",
              "      <td>0</td>\n",
              "      <td>13</td>\n",
              "      <td>H0</td>\n",
              "      <td>1</td>\n",
              "      <td>[0.0, 1.0, 0.0, 0.0, 0.0, 0.0, 0.0, 1.0, 0.0, ...</td>\n",
              "    </tr>\n",
              "    <tr>\n",
              "      <th>2</th>\n",
              "      <td>38</td>\n",
              "      <td>A2</td>\n",
              "      <td>215646</td>\n",
              "      <td>B1</td>\n",
              "      <td>9</td>\n",
              "      <td>C2</td>\n",
              "      <td>D2</td>\n",
              "      <td>E0</td>\n",
              "      <td>F0</td>\n",
              "      <td>G0</td>\n",
              "      <td>0</td>\n",
              "      <td>0</td>\n",
              "      <td>40</td>\n",
              "      <td>H0</td>\n",
              "      <td>1</td>\n",
              "      <td>[0.0, 0.0, 1.0, 0.0, 0.0, 0.0, 0.0, 0.0, 1.0, ...</td>\n",
              "    </tr>\n",
              "    <tr>\n",
              "      <th>3</th>\n",
              "      <td>53</td>\n",
              "      <td>A2</td>\n",
              "      <td>234721</td>\n",
              "      <td>B2</td>\n",
              "      <td>7</td>\n",
              "      <td>C1</td>\n",
              "      <td>D2</td>\n",
              "      <td>E1</td>\n",
              "      <td>F1</td>\n",
              "      <td>G0</td>\n",
              "      <td>0</td>\n",
              "      <td>0</td>\n",
              "      <td>40</td>\n",
              "      <td>H0</td>\n",
              "      <td>1</td>\n",
              "      <td>[0.0, 0.0, 1.0, 0.0, 0.0, 0.0, 0.0, 0.0, 0.0, ...</td>\n",
              "    </tr>\n",
              "    <tr>\n",
              "      <th>4</th>\n",
              "      <td>28</td>\n",
              "      <td>A2</td>\n",
              "      <td>338409</td>\n",
              "      <td>B0</td>\n",
              "      <td>13</td>\n",
              "      <td>C1</td>\n",
              "      <td>D3</td>\n",
              "      <td>E2</td>\n",
              "      <td>F1</td>\n",
              "      <td>G1</td>\n",
              "      <td>0</td>\n",
              "      <td>0</td>\n",
              "      <td>40</td>\n",
              "      <td>H1</td>\n",
              "      <td>1</td>\n",
              "      <td>[0.0, 0.0, 1.0, 0.0, 0.0, 0.0, 0.0, 1.0, 0.0, ...</td>\n",
              "    </tr>\n",
              "  </tbody>\n",
              "</table>\n",
              "</div>"
            ],
            "text/plain": [
              "    0   1       2  ...  13  14                                 oneHotEncoder_data\n",
              "0  39  A0   77516  ...  H0   1  [1.0, 0.0, 0.0, 0.0, 0.0, 0.0, 0.0, 1.0, 0.0, ...\n",
              "1  50  A1   83311  ...  H0   1  [0.0, 1.0, 0.0, 0.0, 0.0, 0.0, 0.0, 1.0, 0.0, ...\n",
              "2  38  A2  215646  ...  H0   1  [0.0, 0.0, 1.0, 0.0, 0.0, 0.0, 0.0, 0.0, 1.0, ...\n",
              "3  53  A2  234721  ...  H0   1  [0.0, 0.0, 1.0, 0.0, 0.0, 0.0, 0.0, 0.0, 0.0, ...\n",
              "4  28  A2  338409  ...  H1   1  [0.0, 0.0, 1.0, 0.0, 0.0, 0.0, 0.0, 1.0, 0.0, ...\n",
              "\n",
              "[5 rows x 16 columns]"
            ]
          },
          "metadata": {
            "tags": []
          },
          "execution_count": 137
        }
      ]
    },
    {
      "cell_type": "markdown",
      "metadata": {
        "id": "hL3kpDU0eMYi",
        "colab_type": "text"
      },
      "source": [
        "### 2.3.2 Normalize the numeric data"
      ]
    },
    {
      "cell_type": "code",
      "metadata": {
        "id": "f041m6X0cc8W",
        "colab_type": "code",
        "colab": {}
      },
      "source": [
        "# Because the KNN classifier predicts the class of a given test observation by identifying the observations that are nearest to it, the scale of the variables matters. "
      ],
      "execution_count": 0,
      "outputs": []
    },
    {
      "cell_type": "code",
      "metadata": {
        "id": "vwOQ9p2keUGk",
        "colab_type": "code",
        "outputId": "0aed0b8e-3e11-41c9-8c4c-21756838659c",
        "colab": {
          "base_uri": "https://localhost:8080/",
          "height": 204
        }
      },
      "source": [
        "from sklearn.preprocessing import StandardScaler\n",
        "scaler = StandardScaler()\n",
        "df_replaceNew2 = df_replace[[\"0\",\"2\",\"4\",\"10\",\"11\",\"12\",'14']]\n",
        "scaler.fit(df_replaceNew2.drop('14',axis=1))\n",
        "scaled_features = scaler.transform(df_replaceNew2.drop('14',axis=1))\n",
        "df_feat = pd.DataFrame(scaled_features,columns=df_replaceNew2.columns[:-1])\n",
        "df_feat.head()"
      ],
      "execution_count": 0,
      "outputs": [
        {
          "output_type": "execute_result",
          "data": {
            "text/html": [
              "<div>\n",
              "<style scoped>\n",
              "    .dataframe tbody tr th:only-of-type {\n",
              "        vertical-align: middle;\n",
              "    }\n",
              "\n",
              "    .dataframe tbody tr th {\n",
              "        vertical-align: top;\n",
              "    }\n",
              "\n",
              "    .dataframe thead th {\n",
              "        text-align: right;\n",
              "    }\n",
              "</style>\n",
              "<table border=\"1\" class=\"dataframe\">\n",
              "  <thead>\n",
              "    <tr style=\"text-align: right;\">\n",
              "      <th></th>\n",
              "      <th>0</th>\n",
              "      <th>2</th>\n",
              "      <th>4</th>\n",
              "      <th>10</th>\n",
              "      <th>11</th>\n",
              "      <th>12</th>\n",
              "    </tr>\n",
              "  </thead>\n",
              "  <tbody>\n",
              "    <tr>\n",
              "      <th>0</th>\n",
              "      <td>0.042796</td>\n",
              "      <td>-1.062722</td>\n",
              "      <td>1.128918</td>\n",
              "      <td>0.146092</td>\n",
              "      <td>-0.218586</td>\n",
              "      <td>-0.077734</td>\n",
              "    </tr>\n",
              "    <tr>\n",
              "      <th>1</th>\n",
              "      <td>0.880288</td>\n",
              "      <td>-1.007871</td>\n",
              "      <td>1.128918</td>\n",
              "      <td>-0.147445</td>\n",
              "      <td>-0.218586</td>\n",
              "      <td>-2.331531</td>\n",
              "    </tr>\n",
              "    <tr>\n",
              "      <th>2</th>\n",
              "      <td>-0.033340</td>\n",
              "      <td>0.244693</td>\n",
              "      <td>-0.439738</td>\n",
              "      <td>-0.147445</td>\n",
              "      <td>-0.218586</td>\n",
              "      <td>-0.077734</td>\n",
              "    </tr>\n",
              "    <tr>\n",
              "      <th>3</th>\n",
              "      <td>1.108695</td>\n",
              "      <td>0.425240</td>\n",
              "      <td>-1.224066</td>\n",
              "      <td>-0.147445</td>\n",
              "      <td>-0.218586</td>\n",
              "      <td>-0.077734</td>\n",
              "    </tr>\n",
              "    <tr>\n",
              "      <th>4</th>\n",
              "      <td>-0.794697</td>\n",
              "      <td>1.406658</td>\n",
              "      <td>1.128918</td>\n",
              "      <td>-0.147445</td>\n",
              "      <td>-0.218586</td>\n",
              "      <td>-0.077734</td>\n",
              "    </tr>\n",
              "  </tbody>\n",
              "</table>\n",
              "</div>"
            ],
            "text/plain": [
              "          0         2         4        10        11        12\n",
              "0  0.042796 -1.062722  1.128918  0.146092 -0.218586 -0.077734\n",
              "1  0.880288 -1.007871  1.128918 -0.147445 -0.218586 -2.331531\n",
              "2 -0.033340  0.244693 -0.439738 -0.147445 -0.218586 -0.077734\n",
              "3  1.108695  0.425240 -1.224066 -0.147445 -0.218586 -0.077734\n",
              "4 -0.794697  1.406658  1.128918 -0.147445 -0.218586 -0.077734"
            ]
          },
          "metadata": {
            "tags": []
          },
          "execution_count": 139
        }
      ]
    },
    {
      "cell_type": "code",
      "metadata": {
        "id": "Fuoz1PGffeTU",
        "colab_type": "code",
        "colab": {}
      },
      "source": [
        "df_feat['oneHotEncoder_data'] = onehotlabels.tolist()"
      ],
      "execution_count": 0,
      "outputs": []
    },
    {
      "cell_type": "code",
      "metadata": {
        "id": "XeQqVjcpjhyr",
        "colab_type": "code",
        "outputId": "113e082e-cca6-4e95-adf2-59e38c3c2c92",
        "colab": {
          "base_uri": "https://localhost:8080/",
          "height": 204
        }
      },
      "source": [
        "df_feat.head()"
      ],
      "execution_count": 0,
      "outputs": [
        {
          "output_type": "execute_result",
          "data": {
            "text/html": [
              "<div>\n",
              "<style scoped>\n",
              "    .dataframe tbody tr th:only-of-type {\n",
              "        vertical-align: middle;\n",
              "    }\n",
              "\n",
              "    .dataframe tbody tr th {\n",
              "        vertical-align: top;\n",
              "    }\n",
              "\n",
              "    .dataframe thead th {\n",
              "        text-align: right;\n",
              "    }\n",
              "</style>\n",
              "<table border=\"1\" class=\"dataframe\">\n",
              "  <thead>\n",
              "    <tr style=\"text-align: right;\">\n",
              "      <th></th>\n",
              "      <th>0</th>\n",
              "      <th>2</th>\n",
              "      <th>4</th>\n",
              "      <th>10</th>\n",
              "      <th>11</th>\n",
              "      <th>12</th>\n",
              "      <th>oneHotEncoder_data</th>\n",
              "    </tr>\n",
              "  </thead>\n",
              "  <tbody>\n",
              "    <tr>\n",
              "      <th>0</th>\n",
              "      <td>0.042796</td>\n",
              "      <td>-1.062722</td>\n",
              "      <td>1.128918</td>\n",
              "      <td>0.146092</td>\n",
              "      <td>-0.218586</td>\n",
              "      <td>-0.077734</td>\n",
              "      <td>[1.0, 0.0, 0.0, 0.0, 0.0, 0.0, 0.0, 1.0, 0.0, ...</td>\n",
              "    </tr>\n",
              "    <tr>\n",
              "      <th>1</th>\n",
              "      <td>0.880288</td>\n",
              "      <td>-1.007871</td>\n",
              "      <td>1.128918</td>\n",
              "      <td>-0.147445</td>\n",
              "      <td>-0.218586</td>\n",
              "      <td>-2.331531</td>\n",
              "      <td>[0.0, 1.0, 0.0, 0.0, 0.0, 0.0, 0.0, 1.0, 0.0, ...</td>\n",
              "    </tr>\n",
              "    <tr>\n",
              "      <th>2</th>\n",
              "      <td>-0.033340</td>\n",
              "      <td>0.244693</td>\n",
              "      <td>-0.439738</td>\n",
              "      <td>-0.147445</td>\n",
              "      <td>-0.218586</td>\n",
              "      <td>-0.077734</td>\n",
              "      <td>[0.0, 0.0, 1.0, 0.0, 0.0, 0.0, 0.0, 0.0, 1.0, ...</td>\n",
              "    </tr>\n",
              "    <tr>\n",
              "      <th>3</th>\n",
              "      <td>1.108695</td>\n",
              "      <td>0.425240</td>\n",
              "      <td>-1.224066</td>\n",
              "      <td>-0.147445</td>\n",
              "      <td>-0.218586</td>\n",
              "      <td>-0.077734</td>\n",
              "      <td>[0.0, 0.0, 1.0, 0.0, 0.0, 0.0, 0.0, 0.0, 0.0, ...</td>\n",
              "    </tr>\n",
              "    <tr>\n",
              "      <th>4</th>\n",
              "      <td>-0.794697</td>\n",
              "      <td>1.406658</td>\n",
              "      <td>1.128918</td>\n",
              "      <td>-0.147445</td>\n",
              "      <td>-0.218586</td>\n",
              "      <td>-0.077734</td>\n",
              "      <td>[0.0, 0.0, 1.0, 0.0, 0.0, 0.0, 0.0, 1.0, 0.0, ...</td>\n",
              "    </tr>\n",
              "  </tbody>\n",
              "</table>\n",
              "</div>"
            ],
            "text/plain": [
              "          0  ...                                 oneHotEncoder_data\n",
              "0  0.042796  ...  [1.0, 0.0, 0.0, 0.0, 0.0, 0.0, 0.0, 1.0, 0.0, ...\n",
              "1  0.880288  ...  [0.0, 1.0, 0.0, 0.0, 0.0, 0.0, 0.0, 1.0, 0.0, ...\n",
              "2 -0.033340  ...  [0.0, 0.0, 1.0, 0.0, 0.0, 0.0, 0.0, 0.0, 1.0, ...\n",
              "3  1.108695  ...  [0.0, 0.0, 1.0, 0.0, 0.0, 0.0, 0.0, 0.0, 0.0, ...\n",
              "4 -0.794697  ...  [0.0, 0.0, 1.0, 0.0, 0.0, 0.0, 0.0, 1.0, 0.0, ...\n",
              "\n",
              "[5 rows x 7 columns]"
            ]
          },
          "metadata": {
            "tags": []
          },
          "execution_count": 141
        }
      ]
    },
    {
      "cell_type": "code",
      "metadata": {
        "id": "GtE0_IsgluYw",
        "colab_type": "code",
        "outputId": "3e81408f-513e-4185-d028-617e05ecf442",
        "colab": {
          "base_uri": "https://localhost:8080/",
          "height": 238
        }
      },
      "source": [
        "# create an array for classification\n",
        "features_array = df_feat[[\"0\", \"2\", \"4\",\"10\",\"11\",\"12\"]].to_numpy()\n",
        "features_array"
      ],
      "execution_count": 0,
      "outputs": [
        {
          "output_type": "execute_result",
          "data": {
            "text/plain": [
              "array([[ 0.04279571, -1.0627216 ,  1.12891838,  0.14609228, -0.21858598,\n",
              "        -0.07773411],\n",
              "       [ 0.88028814, -1.00787131,  1.12891838, -0.14744462, -0.21858598,\n",
              "        -2.3315307 ],\n",
              "       [-0.03333996,  0.24469349, -0.4397382 , -0.14744462, -0.21858598,\n",
              "        -0.07773411],\n",
              "       ...,\n",
              "       [ 1.48937355, -0.3585745 , -0.4397382 , -0.14744462, -0.21858598,\n",
              "        -0.07773411],\n",
              "       [-1.25151078,  0.11070545, -0.4397382 , -0.14744462, -0.21858598,\n",
              "        -1.74721307],\n",
              "       [ 1.0325595 ,  0.92884082, -0.4397382 ,  1.88111954, -0.21858598,\n",
              "        -0.07773411]])"
            ]
          },
          "metadata": {
            "tags": []
          },
          "execution_count": 142
        }
      ]
    },
    {
      "cell_type": "code",
      "metadata": {
        "id": "FL0icU-doTdo",
        "colab_type": "code",
        "colab": {}
      },
      "source": [
        "features_array_pre = np.concatenate((features_array, onehotlabels),axis=1)"
      ],
      "execution_count": 0,
      "outputs": []
    },
    {
      "cell_type": "markdown",
      "metadata": {
        "id": "2tS9eJyIxghS",
        "colab_type": "text"
      },
      "source": [
        "### 2.3.3 KNN modelling"
      ]
    },
    {
      "cell_type": "code",
      "metadata": {
        "id": "9m6hwmnBkjBj",
        "colab_type": "code",
        "colab": {}
      },
      "source": [
        "from sklearn.model_selection import train_test_split"
      ],
      "execution_count": 0,
      "outputs": []
    },
    {
      "cell_type": "code",
      "metadata": {
        "id": "QPloV2KBljas",
        "colab_type": "code",
        "colab": {}
      },
      "source": [
        "X_train, X_test, y_train, y_test = train_test_split(features_array_pre,df_replace['14'],\n",
        "                                                    test_size=0.30, random_state=101)"
      ],
      "execution_count": 0,
      "outputs": []
    },
    {
      "cell_type": "code",
      "metadata": {
        "id": "ALhiv6u_mkxo",
        "colab_type": "code",
        "colab": {}
      },
      "source": [
        "from sklearn.neighbors import KNeighborsClassifier"
      ],
      "execution_count": 0,
      "outputs": []
    },
    {
      "cell_type": "code",
      "metadata": {
        "id": "TXx0TFeJmnGJ",
        "colab_type": "code",
        "colab": {}
      },
      "source": [
        "knn = KNeighborsClassifier(n_neighbors=1)"
      ],
      "execution_count": 0,
      "outputs": []
    },
    {
      "cell_type": "code",
      "metadata": {
        "id": "ThlzSlwYmoo4",
        "colab_type": "code",
        "outputId": "2558c24d-3950-4376-87bc-3ec420b44255",
        "colab": {
          "base_uri": "https://localhost:8080/",
          "height": 68
        }
      },
      "source": [
        "knn.fit(X_train,y_train)"
      ],
      "execution_count": 0,
      "outputs": [
        {
          "output_type": "execute_result",
          "data": {
            "text/plain": [
              "KNeighborsClassifier(algorithm='auto', leaf_size=30, metric='minkowski',\n",
              "                     metric_params=None, n_jobs=None, n_neighbors=1, p=2,\n",
              "                     weights='uniform')"
            ]
          },
          "metadata": {
            "tags": []
          },
          "execution_count": 148
        }
      ]
    },
    {
      "cell_type": "code",
      "metadata": {
        "id": "owB8g008mp1G",
        "colab_type": "code",
        "colab": {}
      },
      "source": [
        "pred = knn.predict(X_test)"
      ],
      "execution_count": 0,
      "outputs": []
    },
    {
      "cell_type": "code",
      "metadata": {
        "id": "fZdJaapLou1s",
        "colab_type": "code",
        "outputId": "d13ba8c8-354b-45e4-aa47-7a3c74ed0a15",
        "colab": {
          "base_uri": "https://localhost:8080/",
          "height": 204
        }
      },
      "source": [
        "from sklearn.metrics import classification_report,confusion_matrix\n",
        "print(confusion_matrix(y_test,pred))\n",
        "print(classification_report(y_test,pred))"
      ],
      "execution_count": 0,
      "outputs": [
        {
          "output_type": "stream",
          "text": [
            "[[1373  933]\n",
            " [ 936 5807]]\n",
            "              precision    recall  f1-score   support\n",
            "\n",
            "           0       0.59      0.60      0.60      2306\n",
            "           1       0.86      0.86      0.86      6743\n",
            "\n",
            "    accuracy                           0.79      9049\n",
            "   macro avg       0.73      0.73      0.73      9049\n",
            "weighted avg       0.79      0.79      0.79      9049\n",
            "\n"
          ],
          "name": "stdout"
        }
      ]
    },
    {
      "cell_type": "code",
      "metadata": {
        "id": "bJe_fpdWo1PT",
        "colab_type": "code",
        "colab": {}
      },
      "source": [
        "# Find the optimal k\n",
        "error_rate = []\n",
        "\n",
        "for k in range(1,40):\n",
        "    \n",
        "    knn = KNeighborsClassifier(n_neighbors=k)\n",
        "    knn.fit(X_train,y_train)\n",
        "    pred_k = knn.predict(X_test)\n",
        "    error_rate.append(np.mean(pred_k != y_test))"
      ],
      "execution_count": 0,
      "outputs": []
    },
    {
      "cell_type": "code",
      "metadata": {
        "id": "8HSiGMdmpEEL",
        "colab_type": "code",
        "outputId": "3093ea2a-7590-4d0e-c151-2ee6c45ecf8b",
        "colab": {
          "base_uri": "https://localhost:8080/",
          "height": 421
        }
      },
      "source": [
        "plt.figure(figsize=(10,6))\n",
        "plt.plot(range(1,40),error_rate,color='blue', linestyle='dashed', marker='o',\n",
        "         markerfacecolor='red', markersize=10)\n",
        "plt.title('Error Rate vs. K Value')\n",
        "plt.xlabel('K')\n",
        "plt.ylabel('Error Rate')"
      ],
      "execution_count": 0,
      "outputs": [
        {
          "output_type": "execute_result",
          "data": {
            "text/plain": [
              "Text(0, 0.5, 'Error Rate')"
            ]
          },
          "metadata": {
            "tags": []
          },
          "execution_count": 152
        },
        {
          "output_type": "display_data",
          "data": {
            "image/png": "[encoded data removed]",
            "text/plain": [
              "<Figure size 720x432 with 1 Axes>"
            ]
          },
          "metadata": {
            "tags": []
          }
        }
      ]
    },
    {
      "cell_type": "code",
      "metadata": {
        "id": "5nol9nsGpGDd",
        "colab_type": "code",
        "outputId": "7bd5f2a3-7f9d-47ca-e0be-e0ee5ca022ac",
        "colab": {
          "base_uri": "https://localhost:8080/",
          "height": 204
        }
      },
      "source": [
        "# Use elbow method, choose the k=5\n",
        "knn = KNeighborsClassifier(n_neighbors=5)\n",
        "knn.fit(X_train,y_train)\n",
        "pred = knn.predict(X_test)\n",
        "print(confusion_matrix(y_test,pred))\n",
        "print(classification_report(y_test,pred))"
      ],
      "execution_count": 0,
      "outputs": [
        {
          "output_type": "stream",
          "text": [
            "[[1442  864]\n",
            " [ 676 6067]]\n",
            "              precision    recall  f1-score   support\n",
            "\n",
            "           0       0.68      0.63      0.65      2306\n",
            "           1       0.88      0.90      0.89      6743\n",
            "\n",
            "    accuracy                           0.83      9049\n",
            "   macro avg       0.78      0.76      0.77      9049\n",
            "weighted avg       0.83      0.83      0.83      9049\n",
            "\n"
          ],
          "name": "stdout"
        }
      ]
    },
    {
      "cell_type": "markdown",
      "metadata": {
        "id": "qBAa6BuvvmEh",
        "colab_type": "text"
      },
      "source": [
        "##2.4 K Means Clustering\n",
        "\n",
        "\n",
        "\n"
      ]
    },
    {
      "cell_type": "markdown",
      "metadata": {
        "id": "IgK7EY_B0Jma",
        "colab_type": "text"
      },
      "source": [
        "###2.4.1 Fit an Extra Trees model to identify the Importance of each feature\n",
        "\n"
      ]
    },
    {
      "cell_type": "code",
      "metadata": {
        "id": "zR8ubH--__Ao",
        "colab_type": "code",
        "colab": {}
      },
      "source": [
        "from sklearn.ensemble import ExtraTreesClassifier"
      ],
      "execution_count": 0,
      "outputs": []
    },
    {
      "cell_type": "code",
      "metadata": {
        "id": "YiKkPSdO__Gj",
        "colab_type": "code",
        "colab": {}
      },
      "source": [
        "dataset = df_replace_le._get_values"
      ],
      "execution_count": 0,
      "outputs": []
    },
    {
      "cell_type": "code",
      "metadata": {
        "id": "h0UEysR-__Mx",
        "colab_type": "code",
        "colab": {}
      },
      "source": [
        "dataset_train = dataset[:,0:-1]\n",
        "dataset_label = dataset[:,-1]"
      ],
      "execution_count": 0,
      "outputs": []
    },
    {
      "cell_type": "code",
      "metadata": {
        "id": "cn8bNTRj0W6a",
        "colab_type": "code",
        "colab": {}
      },
      "source": [
        "model = ExtraTreesClassifier()"
      ],
      "execution_count": 0,
      "outputs": []
    },
    {
      "cell_type": "code",
      "metadata": {
        "id": "DWG_nhPs0XHg",
        "colab_type": "code",
        "outputId": "6d9cda78-f11e-4bdb-fd9d-411447464f13",
        "colab": {
          "base_uri": "https://localhost:8080/",
          "height": 210
        }
      },
      "source": [
        "model.fit(dataset_train,dataset_label)"
      ],
      "execution_count": 43,
      "outputs": [
        {
          "output_type": "stream",
          "text": [
            "/usr/local/lib/python3.6/dist-packages/sklearn/ensemble/forest.py:245: FutureWarning: The default value of n_estimators will change from 10 in version 0.20 to 100 in 0.22.\n",
            "  \"10 in version 0.20 to 100 in 0.22.\", FutureWarning)\n"
          ],
          "name": "stderr"
        },
        {
          "output_type": "execute_result",
          "data": {
            "text/plain": [
              "ExtraTreesClassifier(bootstrap=False, class_weight=None, criterion='gini',\n",
              "                     max_depth=None, max_features='auto', max_leaf_nodes=None,\n",
              "                     min_impurity_decrease=0.0, min_impurity_split=None,\n",
              "                     min_samples_leaf=1, min_samples_split=2,\n",
              "                     min_weight_fraction_leaf=0.0, n_estimators=10, n_jobs=None,\n",
              "                     oob_score=False, random_state=None, verbose=0,\n",
              "                     warm_start=False)"
            ]
          },
          "metadata": {
            "tags": []
          },
          "execution_count": 43
        }
      ]
    },
    {
      "cell_type": "code",
      "metadata": {
        "id": "CaPGFGMh0XMx",
        "colab_type": "code",
        "outputId": "5de32a1d-69d7-476e-df69-70e83e2a3b1a",
        "colab": {
          "base_uri": "https://localhost:8080/",
          "height": 68
        }
      },
      "source": [
        "print(model.feature_importances_)"
      ],
      "execution_count": 44,
      "outputs": [
        {
          "output_type": "stream",
          "text": [
            "[0.14892523 0.04448566 0.15830807 0.02951303 0.07739146 0.10191755\n",
            " 0.07983065 0.07339363 0.01554255 0.01812666 0.11162172 0.03223317\n",
            " 0.0921116  0.01659903]\n"
          ],
          "name": "stdout"
        }
      ]
    },
    {
      "cell_type": "code",
      "metadata": {
        "id": "Cxwh_UQC0W_m",
        "colab_type": "code",
        "colab": {}
      },
      "source": [
        "testing_data = df_replace_prediction._get_values"
      ],
      "execution_count": 0,
      "outputs": []
    },
    {
      "cell_type": "code",
      "metadata": {
        "id": "QKE0vxDsvrKa",
        "colab_type": "code",
        "outputId": "ba977212-d1f7-402d-cb71-844fe9b3d781",
        "colab": {
          "base_uri": "https://localhost:8080/",
          "height": 210
        }
      },
      "source": [
        "model = ExtraTreesClassifier()\n",
        "model.fit(dataset_train,dataset_label)"
      ],
      "execution_count": 46,
      "outputs": [
        {
          "output_type": "stream",
          "text": [
            "/usr/local/lib/python3.6/dist-packages/sklearn/ensemble/forest.py:245: FutureWarning: The default value of n_estimators will change from 10 in version 0.20 to 100 in 0.22.\n",
            "  \"10 in version 0.20 to 100 in 0.22.\", FutureWarning)\n"
          ],
          "name": "stderr"
        },
        {
          "output_type": "execute_result",
          "data": {
            "text/plain": [
              "ExtraTreesClassifier(bootstrap=False, class_weight=None, criterion='gini',\n",
              "                     max_depth=None, max_features='auto', max_leaf_nodes=None,\n",
              "                     min_impurity_decrease=0.0, min_impurity_split=None,\n",
              "                     min_samples_leaf=1, min_samples_split=2,\n",
              "                     min_weight_fraction_leaf=0.0, n_estimators=10, n_jobs=None,\n",
              "                     oob_score=False, random_state=None, verbose=0,\n",
              "                     warm_start=False)"
            ]
          },
          "metadata": {
            "tags": []
          },
          "execution_count": 46
        }
      ]
    },
    {
      "cell_type": "code",
      "metadata": {
        "id": "rUBNfrQJv-_6",
        "colab_type": "code",
        "outputId": "494d27e5-3f3e-4aab-91ed-11cfcc66670a",
        "colab": {
          "base_uri": "https://localhost:8080/",
          "height": 68
        }
      },
      "source": [
        "print(model.feature_importances_)"
      ],
      "execution_count": 47,
      "outputs": [
        {
          "output_type": "stream",
          "text": [
            "[0.14803069 0.04312269 0.15967349 0.02664329 0.08703823 0.07656128\n",
            " 0.07834227 0.07892902 0.01427956 0.03006016 0.12090986 0.03045293\n",
            " 0.08946761 0.0164889 ]\n"
          ],
          "name": "stdout"
        }
      ]
    },
    {
      "cell_type": "code",
      "metadata": {
        "id": "-gntToaXyW0G",
        "colab_type": "code",
        "outputId": "55c237d3-4ce4-41ff-c0fa-d25002df5dcf",
        "colab": {
          "base_uri": "https://localhost:8080/",
          "height": 68
        }
      },
      "source": [
        "d=print(model.feature_importances_)"
      ],
      "execution_count": 48,
      "outputs": [
        {
          "output_type": "stream",
          "text": [
            "[0.14803069 0.04312269 0.15967349 0.02664329 0.08703823 0.07656128\n",
            " 0.07834227 0.07892902 0.01427956 0.03006016 0.12090986 0.03045293\n",
            " 0.08946761 0.0164889 ]\n"
          ],
          "name": "stdout"
        }
      ]
    },
    {
      "cell_type": "code",
      "metadata": {
        "id": "x9cdf6fXyW5V",
        "colab_type": "code",
        "outputId": "2b8fe455-3d81-410a-e682-07adad6a8e2e",
        "colab": {
          "base_uri": "https://localhost:8080/",
          "height": 120
        }
      },
      "source": [
        "d = {0: [model.feature_importances_[0]], 1: [model.feature_importances_[1]], 2:[model.feature_importances_[2]], 3: [model.feature_importances_[3]],4:[model.feature_importances_[4]]\n",
        "    ,5:[model.feature_importances_[5]],6:[model.feature_importances_[6]],7:[model.feature_importances_[7]]\n",
        "    ,8:[model.feature_importances_[8]],9:[model.feature_importances_[9]],10:[model.feature_importances_[10]]\n",
        "    ,11:[model.feature_importances_[11]],12:[model.feature_importances_[12]],13:[model.feature_importances_[13]]}\n",
        "abe = pd.DataFrame(data=d)\n",
        "abe\n"
      ],
      "execution_count": 49,
      "outputs": [
        {
          "output_type": "execute_result",
          "data": {
            "text/html": [
              "<div>\n",
              "<style scoped>\n",
              "    .dataframe tbody tr th:only-of-type {\n",
              "        vertical-align: middle;\n",
              "    }\n",
              "\n",
              "    .dataframe tbody tr th {\n",
              "        vertical-align: top;\n",
              "    }\n",
              "\n",
              "    .dataframe thead th {\n",
              "        text-align: right;\n",
              "    }\n",
              "</style>\n",
              "<table border=\"1\" class=\"dataframe\">\n",
              "  <thead>\n",
              "    <tr style=\"text-align: right;\">\n",
              "      <th></th>\n",
              "      <th>0</th>\n",
              "      <th>1</th>\n",
              "      <th>2</th>\n",
              "      <th>3</th>\n",
              "      <th>4</th>\n",
              "      <th>5</th>\n",
              "      <th>6</th>\n",
              "      <th>7</th>\n",
              "      <th>8</th>\n",
              "      <th>9</th>\n",
              "      <th>10</th>\n",
              "      <th>11</th>\n",
              "      <th>12</th>\n",
              "      <th>13</th>\n",
              "    </tr>\n",
              "  </thead>\n",
              "  <tbody>\n",
              "    <tr>\n",
              "      <th>0</th>\n",
              "      <td>0.148031</td>\n",
              "      <td>0.043123</td>\n",
              "      <td>0.159673</td>\n",
              "      <td>0.026643</td>\n",
              "      <td>0.087038</td>\n",
              "      <td>0.076561</td>\n",
              "      <td>0.078342</td>\n",
              "      <td>0.078929</td>\n",
              "      <td>0.01428</td>\n",
              "      <td>0.03006</td>\n",
              "      <td>0.12091</td>\n",
              "      <td>0.030453</td>\n",
              "      <td>0.089468</td>\n",
              "      <td>0.016489</td>\n",
              "    </tr>\n",
              "  </tbody>\n",
              "</table>\n",
              "</div>"
            ],
            "text/plain": [
              "         0         1         2   ...        11        12        13\n",
              "0  0.148031  0.043123  0.159673  ...  0.030453  0.089468  0.016489\n",
              "\n",
              "[1 rows x 14 columns]"
            ]
          },
          "metadata": {
            "tags": []
          },
          "execution_count": 49
        }
      ]
    },
    {
      "cell_type": "code",
      "metadata": {
        "id": "TpiT4NxiyW8R",
        "colab_type": "code",
        "outputId": "461f226f-d1ae-474b-daf8-f84e10835e1f",
        "colab": {
          "base_uri": "https://localhost:8080/",
          "height": 34
        }
      },
      "source": [
        "model.feature_importances_[1]"
      ],
      "execution_count": 50,
      "outputs": [
        {
          "output_type": "execute_result",
          "data": {
            "text/plain": [
              "0.04312268596002781"
            ]
          },
          "metadata": {
            "tags": []
          },
          "execution_count": 50
        }
      ]
    },
    {
      "cell_type": "code",
      "metadata": {
        "id": "NidHi8DUAxQv",
        "colab_type": "code",
        "outputId": "56a7d667-7750-4e27-9324-eed83f3d1df9",
        "colab": {
          "base_uri": "https://localhost:8080/",
          "height": 282
        }
      },
      "source": [
        "sb.distplot(abe,kde=False,bins=30,color='red')"
      ],
      "execution_count": 51,
      "outputs": [
        {
          "output_type": "execute_result",
          "data": {
            "text/plain": [
              "<matplotlib.axes._subplots.AxesSubplot at 0x7f058729f6d8>"
            ]
          },
          "metadata": {
            "tags": []
          },
          "execution_count": 51
        },
        {
          "output_type": "display_data",
          "data": {
            "image/png": "[encoded data removed]",
            "text/plain": [
              "<Figure size 432x288 with 1 Axes>"
            ]
          },
          "metadata": {
            "tags": []
          }
        }
      ]
    },
    {
      "cell_type": "code",
      "metadata": {
        "id": "JDHmQFJNAxVK",
        "colab_type": "code",
        "colab": {}
      },
      "source": [
        "from sklearn import feature_selection"
      ],
      "execution_count": 0,
      "outputs": []
    },
    {
      "cell_type": "code",
      "metadata": {
        "id": "pzEooPpGAxYp",
        "colab_type": "code",
        "colab": {}
      },
      "source": [
        "output1=model.feature_importances_"
      ],
      "execution_count": 0,
      "outputs": []
    },
    {
      "cell_type": "code",
      "metadata": {
        "id": "ACUmExWNAxcc",
        "colab_type": "code",
        "colab": {}
      },
      "source": [
        "output2=feature_selection.mutual_info_classif(dataset_train,dataset_label)"
      ],
      "execution_count": 0,
      "outputs": []
    },
    {
      "cell_type": "code",
      "metadata": {
        "id": "1Yq3wwbBA5dB",
        "colab_type": "code",
        "colab": {}
      },
      "source": [
        "output3=output1+output2"
      ],
      "execution_count": 0,
      "outputs": []
    },
    {
      "cell_type": "code",
      "metadata": {
        "id": "QiaZ3ikaA5hF",
        "colab_type": "code",
        "colab": {}
      },
      "source": [
        "n=10\n",
        "important_features=np.argsort(output3)[::-1][:n]"
      ],
      "execution_count": 0,
      "outputs": []
    },
    {
      "cell_type": "code",
      "metadata": {
        "id": "fd076VuIA5ku",
        "colab_type": "code",
        "colab": {}
      },
      "source": [
        "training_data=dataset_train[:,important_features]\n",
        "training_label=dataset_label"
      ],
      "execution_count": 0,
      "outputs": []
    },
    {
      "cell_type": "code",
      "metadata": {
        "id": "-HXidEcuA5om",
        "colab_type": "code",
        "colab": {}
      },
      "source": [
        "testing_data=testing_data[:,important_features]"
      ],
      "execution_count": 0,
      "outputs": []
    },
    {
      "cell_type": "markdown",
      "metadata": {
        "id": "gXSAQRVcBiEL",
        "colab_type": "text"
      },
      "source": [
        "###2.4.2 Modelling"
      ]
    },
    {
      "cell_type": "code",
      "metadata": {
        "id": "KJ63pyHXBCaA",
        "colab_type": "code",
        "colab": {}
      },
      "source": [
        "from sklearn.cluster import KMeans"
      ],
      "execution_count": 0,
      "outputs": []
    },
    {
      "cell_type": "code",
      "metadata": {
        "id": "60nRDp7OB80X",
        "colab_type": "code",
        "colab": {}
      },
      "source": [
        "kmeans = KMeans(n_clusters = 2)"
      ],
      "execution_count": 0,
      "outputs": []
    },
    {
      "cell_type": "code",
      "metadata": {
        "id": "D_VHi9aJB_Ql",
        "colab_type": "code",
        "outputId": "37f3256d-59ae-4792-9255-122b0594aa61",
        "colab": {
          "base_uri": "https://localhost:8080/",
          "height": 68
        }
      },
      "source": [
        "kmeans.fit(df_replace_le)"
      ],
      "execution_count": 61,
      "outputs": [
        {
          "output_type": "execute_result",
          "data": {
            "text/plain": [
              "KMeans(algorithm='auto', copy_x=True, init='k-means++', max_iter=300,\n",
              "       n_clusters=2, n_init=10, n_jobs=None, precompute_distances='auto',\n",
              "       random_state=None, tol=0.0001, verbose=0)"
            ]
          },
          "metadata": {
            "tags": []
          },
          "execution_count": 61
        }
      ]
    },
    {
      "cell_type": "code",
      "metadata": {
        "id": "azZr8AsWB_Uv",
        "colab_type": "code",
        "outputId": "88e70239-fa79-43f7-cb38-6a99996bf664",
        "colab": {
          "base_uri": "https://localhost:8080/",
          "height": 153
        }
      },
      "source": [
        "kmeans.cluster_centers_"
      ],
      "execution_count": 62,
      "outputs": [
        {
          "output_type": "execute_result",
          "data": {
            "text/plain": [
              "array([[2.02978086e+01, 2.11174629e+00, 1.48154475e+04, 5.39818974e+00,\n",
              "        9.02858310e+00, 1.04042466e+00, 6.57411188e+00, 1.53749830e+00,\n",
              "        2.02123316e-01, 3.14822376e-01, 6.36212059e+00, 1.93786580e+00,\n",
              "        3.96259017e+01, 2.46522390e+00, 7.58064516e-01],\n",
              "       [2.25162270e+01, 2.10705974e+00, 5.08470041e+03, 5.36307215e+00,\n",
              "        9.20940005e+00, 1.10796483e+00, 6.54480217e+00, 1.51111973e+00,\n",
              "        2.21036980e-01, 3.33333333e-01, 6.73325575e+00, 2.20067236e+00,\n",
              "        4.01048616e+01, 1.34212568e+00, 7.44440134e-01]])"
            ]
          },
          "metadata": {
            "tags": []
          },
          "execution_count": 62
        }
      ]
    },
    {
      "cell_type": "markdown",
      "metadata": {
        "id": "ksAQsTAWEmva",
        "colab_type": "text"
      },
      "source": [
        "###2.4.3 Evaluation"
      ]
    },
    {
      "cell_type": "code",
      "metadata": {
        "id": "He7pAktLB_YX",
        "colab_type": "code",
        "colab": {}
      },
      "source": [
        "df_replace_le['Cluster'] = df_replace_le['14'].apply(lambda x: 0 if '14' == 0 else 1)"
      ],
      "execution_count": 0,
      "outputs": []
    },
    {
      "cell_type": "code",
      "metadata": {
        "id": "v2Vcba2FE2n-",
        "colab_type": "code",
        "outputId": "065dc336-90c8-4441-c75c-ed4bc122b971",
        "colab": {
          "base_uri": "https://localhost:8080/",
          "height": 204
        }
      },
      "source": [
        "df_replace_le.head()"
      ],
      "execution_count": 67,
      "outputs": [
        {
          "output_type": "execute_result",
          "data": {
            "text/html": [
              "<div>\n",
              "<style scoped>\n",
              "    .dataframe tbody tr th:only-of-type {\n",
              "        vertical-align: middle;\n",
              "    }\n",
              "\n",
              "    .dataframe tbody tr th {\n",
              "        vertical-align: top;\n",
              "    }\n",
              "\n",
              "    .dataframe thead th {\n",
              "        text-align: right;\n",
              "    }\n",
              "</style>\n",
              "<table border=\"1\" class=\"dataframe\">\n",
              "  <thead>\n",
              "    <tr style=\"text-align: right;\">\n",
              "      <th></th>\n",
              "      <th>0</th>\n",
              "      <th>1</th>\n",
              "      <th>2</th>\n",
              "      <th>3</th>\n",
              "      <th>4</th>\n",
              "      <th>5</th>\n",
              "      <th>6</th>\n",
              "      <th>7</th>\n",
              "      <th>8</th>\n",
              "      <th>9</th>\n",
              "      <th>10</th>\n",
              "      <th>11</th>\n",
              "      <th>12</th>\n",
              "      <th>13</th>\n",
              "      <th>14</th>\n",
              "      <th>Cluster</th>\n",
              "    </tr>\n",
              "  </thead>\n",
              "  <tbody>\n",
              "    <tr>\n",
              "      <th>0</th>\n",
              "      <td>22</td>\n",
              "      <td>0</td>\n",
              "      <td>2491</td>\n",
              "      <td>0</td>\n",
              "      <td>12</td>\n",
              "      <td>0</td>\n",
              "      <td>0</td>\n",
              "      <td>0</td>\n",
              "      <td>0</td>\n",
              "      <td>0</td>\n",
              "      <td>24</td>\n",
              "      <td>0</td>\n",
              "      <td>39</td>\n",
              "      <td>0</td>\n",
              "      <td>1</td>\n",
              "      <td>1</td>\n",
              "    </tr>\n",
              "    <tr>\n",
              "      <th>1</th>\n",
              "      <td>33</td>\n",
              "      <td>1</td>\n",
              "      <td>2727</td>\n",
              "      <td>0</td>\n",
              "      <td>12</td>\n",
              "      <td>1</td>\n",
              "      <td>1</td>\n",
              "      <td>1</td>\n",
              "      <td>0</td>\n",
              "      <td>0</td>\n",
              "      <td>0</td>\n",
              "      <td>0</td>\n",
              "      <td>12</td>\n",
              "      <td>0</td>\n",
              "      <td>1</td>\n",
              "      <td>1</td>\n",
              "    </tr>\n",
              "    <tr>\n",
              "      <th>2</th>\n",
              "      <td>21</td>\n",
              "      <td>2</td>\n",
              "      <td>13188</td>\n",
              "      <td>1</td>\n",
              "      <td>8</td>\n",
              "      <td>2</td>\n",
              "      <td>6</td>\n",
              "      <td>0</td>\n",
              "      <td>0</td>\n",
              "      <td>0</td>\n",
              "      <td>0</td>\n",
              "      <td>0</td>\n",
              "      <td>39</td>\n",
              "      <td>0</td>\n",
              "      <td>1</td>\n",
              "      <td>1</td>\n",
              "    </tr>\n",
              "    <tr>\n",
              "      <th>3</th>\n",
              "      <td>36</td>\n",
              "      <td>2</td>\n",
              "      <td>14354</td>\n",
              "      <td>8</td>\n",
              "      <td>6</td>\n",
              "      <td>1</td>\n",
              "      <td>6</td>\n",
              "      <td>1</td>\n",
              "      <td>1</td>\n",
              "      <td>0</td>\n",
              "      <td>0</td>\n",
              "      <td>0</td>\n",
              "      <td>39</td>\n",
              "      <td>0</td>\n",
              "      <td>1</td>\n",
              "      <td>1</td>\n",
              "    </tr>\n",
              "    <tr>\n",
              "      <th>4</th>\n",
              "      <td>11</td>\n",
              "      <td>2</td>\n",
              "      <td>18120</td>\n",
              "      <td>0</td>\n",
              "      <td>12</td>\n",
              "      <td>1</td>\n",
              "      <td>7</td>\n",
              "      <td>2</td>\n",
              "      <td>1</td>\n",
              "      <td>1</td>\n",
              "      <td>0</td>\n",
              "      <td>0</td>\n",
              "      <td>39</td>\n",
              "      <td>1</td>\n",
              "      <td>1</td>\n",
              "      <td>1</td>\n",
              "    </tr>\n",
              "  </tbody>\n",
              "</table>\n",
              "</div>"
            ],
            "text/plain": [
              "    0  1      2  3   4  5  6  7  8  9  10  11  12  13  14  Cluster\n",
              "0  22  0   2491  0  12  0  0  0  0  0  24   0  39   0   1        1\n",
              "1  33  1   2727  0  12  1  1  1  0  0   0   0  12   0   1        1\n",
              "2  21  2  13188  1   8  2  6  0  0  0   0   0  39   0   1        1\n",
              "3  36  2  14354  8   6  1  6  1  1  0   0   0  39   0   1        1\n",
              "4  11  2  18120  0  12  1  7  2  1  1   0   0  39   1   1        1"
            ]
          },
          "metadata": {
            "tags": []
          },
          "execution_count": 67
        }
      ]
    },
    {
      "cell_type": "code",
      "metadata": {
        "id": "v-tHv3FsCNVR",
        "colab_type": "code",
        "outputId": "ac3eaae0-d88e-4367-8edc-e8db9897b8d6",
        "colab": {
          "base_uri": "https://localhost:8080/",
          "height": 278
        }
      },
      "source": [
        "print(confusion_matrix(df_replace_le['Cluster'], kmeans.labels_))\n",
        "print(classification_report(df_replace_le['Cluster'], kmeans.labels_))"
      ],
      "execution_count": 68,
      "outputs": [
        {
          "output_type": "stream",
          "text": [
            "[[    0     0]\n",
            " [14687 15475]]\n",
            "              precision    recall  f1-score   support\n",
            "\n",
            "           0       0.00      0.00      0.00         0\n",
            "           1       1.00      0.51      0.68     30162\n",
            "\n",
            "    accuracy                           0.51     30162\n",
            "   macro avg       0.50      0.26      0.34     30162\n",
            "weighted avg       1.00      0.51      0.68     30162\n",
            "\n"
          ],
          "name": "stdout"
        },
        {
          "output_type": "stream",
          "text": [
            "/usr/local/lib/python3.6/dist-packages/sklearn/metrics/classification.py:1439: UndefinedMetricWarning: Recall and F-score are ill-defined and being set to 0.0 in labels with no true samples.\n",
            "  'recall', 'true', average, warn_for)\n"
          ],
          "name": "stderr"
        }
      ]
    },
    {
      "cell_type": "markdown",
      "metadata": {
        "id": "J60WY4yLGkNJ",
        "colab_type": "text"
      },
      "source": [
        "##2.5 SVM"
      ]
    },
    {
      "cell_type": "markdown",
      "metadata": {
        "id": "xdJNiMhCJKN7",
        "colab_type": "text"
      },
      "source": [
        "###2.5.1 Modelling\n"
      ]
    },
    {
      "cell_type": "code",
      "metadata": {
        "id": "b8ub2etwSxQc",
        "colab_type": "code",
        "colab": {}
      },
      "source": [
        "from sklearn.model_selection import GridSearchCV\n",
        "from sklearn.svm import SVC\n",
        "from sklearn import svm\n",
        "from sklearn.model_selection import train_test_split\n"
      ],
      "execution_count": 0,
      "outputs": []
    },
    {
      "cell_type": "code",
      "metadata": {
        "id": "Ng6zZ4TLxJ6w",
        "colab_type": "code",
        "colab": {}
      },
      "source": [
        "df_replace_le =df_replace_le.dropna()\n",
        "X = df_replace_le.drop('14',axis=1)\n",
        "y = df_replace_le['14']"
      ],
      "execution_count": 0,
      "outputs": []
    },
    {
      "cell_type": "code",
      "metadata": {
        "id": "X8BcLEVexKPD",
        "colab_type": "code",
        "colab": {}
      },
      "source": [
        "X_train, X_test, y_train, y_test = train_test_split(X, y, test_size=0.30, random_state=101)"
      ],
      "execution_count": 0,
      "outputs": []
    },
    {
      "cell_type": "code",
      "metadata": {
        "id": "zT41I7C4SxYI",
        "colab_type": "code",
        "colab": {}
      },
      "source": [
        "clf = svm.SVC()"
      ],
      "execution_count": 0,
      "outputs": []
    },
    {
      "cell_type": "code",
      "metadata": {
        "id": "R0U4KCSoJsnr",
        "colab_type": "code",
        "outputId": "8fe5685e-5d9c-490a-8a78-d578d6d819e2",
        "colab": {
          "base_uri": "https://localhost:8080/",
          "height": 159
        }
      },
      "source": [
        "clf.fit(X_train, y_train)"
      ],
      "execution_count": 73,
      "outputs": [
        {
          "output_type": "stream",
          "text": [
            "/usr/local/lib/python3.6/dist-packages/sklearn/svm/base.py:193: FutureWarning: The default value of gamma will change from 'auto' to 'scale' in version 0.22 to account better for unscaled features. Set gamma explicitly to 'auto' or 'scale' to avoid this warning.\n",
            "  \"avoid this warning.\", FutureWarning)\n"
          ],
          "name": "stderr"
        },
        {
          "output_type": "execute_result",
          "data": {
            "text/plain": [
              "SVC(C=1.0, cache_size=200, class_weight=None, coef0=0.0,\n",
              "    decision_function_shape='ovr', degree=3, gamma='auto_deprecated',\n",
              "    kernel='rbf', max_iter=-1, probability=False, random_state=None,\n",
              "    shrinking=True, tol=0.001, verbose=False)"
            ]
          },
          "metadata": {
            "tags": []
          },
          "execution_count": 73
        }
      ]
    },
    {
      "cell_type": "code",
      "metadata": {
        "id": "fSMgp0wSJsq7",
        "colab_type": "code",
        "colab": {}
      },
      "source": [
        "y_pred = clf.predict(X_test)"
      ],
      "execution_count": 0,
      "outputs": []
    },
    {
      "cell_type": "code",
      "metadata": {
        "id": "W5ApHY1HJsvn",
        "colab_type": "code",
        "outputId": "ab257fb5-71da-426b-eca1-d1d964200fee",
        "colab": {
          "base_uri": "https://localhost:8080/",
          "height": 204
        }
      },
      "source": [
        "print(classification_report(y_test, y_pred))\n",
        "print(confusion_matrix(y_test, y_pred))"
      ],
      "execution_count": 75,
      "outputs": [
        {
          "output_type": "stream",
          "text": [
            "              precision    recall  f1-score   support\n",
            "\n",
            "           0       0.44      0.00      0.01      2306\n",
            "           1       0.75      1.00      0.85      6743\n",
            "\n",
            "    accuracy                           0.74      9049\n",
            "   macro avg       0.59      0.50      0.43      9049\n",
            "weighted avg       0.67      0.74      0.64      9049\n",
            "\n",
            "[[   7 2299]\n",
            " [   9 6734]]\n"
          ],
          "name": "stdout"
        }
      ]
    },
    {
      "cell_type": "code",
      "metadata": {
        "id": "5cNhGSrkS4QB",
        "colab_type": "code",
        "colab": {}
      },
      "source": [
        "param_grid = {'C':[0.1,1,10,100],'gamma':[1,0.1,0.01,0.001]}"
      ],
      "execution_count": 0,
      "outputs": []
    },
    {
      "cell_type": "code",
      "metadata": {
        "id": "NRdPDfoMTEtX",
        "colab_type": "code",
        "colab": {}
      },
      "source": [
        "classifier = SVC()"
      ],
      "execution_count": 0,
      "outputs": []
    },
    {
      "cell_type": "code",
      "metadata": {
        "id": "kn6unhilJn5_",
        "colab_type": "code",
        "colab": {}
      },
      "source": [
        "grid = GridSearchCV(SVC(),param_grid,verbose=3)"
      ],
      "execution_count": 0,
      "outputs": []
    },
    {
      "cell_type": "code",
      "metadata": {
        "id": "k_h0XMwYJska",
        "colab_type": "code",
        "outputId": "c9427583-bea4-43d8-9ec2-899a10c707a4",
        "colab": {
          "base_uri": "https://localhost:8080/",
          "height": 1000
        }
      },
      "source": [
        "grid.fit(X_train,y_train)"
      ],
      "execution_count": 79,
      "outputs": [
        {
          "output_type": "stream",
          "text": [
            "/usr/local/lib/python3.6/dist-packages/sklearn/model_selection/_split.py:1978: FutureWarning: The default value of cv will change from 3 to 5 in version 0.22. Specify it explicitly to silence this warning.\n",
            "  warnings.warn(CV_WARNING, FutureWarning)\n",
            "[Parallel(n_jobs=1)]: Using backend SequentialBackend with 1 concurrent workers.\n"
          ],
          "name": "stderr"
        },
        {
          "output_type": "stream",
          "text": [
            "Fitting 3 folds for each of 16 candidates, totalling 48 fits\n",
            "[CV] C=0.1, gamma=1 ..................................................\n",
            "[CV] ...................... C=0.1, gamma=1, score=0.754, total=  25.3s\n",
            "[CV] C=0.1, gamma=1 ..................................................\n"
          ],
          "name": "stdout"
        },
        {
          "output_type": "stream",
          "text": [
            "[Parallel(n_jobs=1)]: Done   1 out of   1 | elapsed:   25.3s remaining:    0.0s\n"
          ],
          "name": "stderr"
        },
        {
          "output_type": "stream",
          "text": [
            "[CV] ...................... C=0.1, gamma=1, score=0.754, total=  24.3s\n",
            "[CV] C=0.1, gamma=1 ..................................................\n"
          ],
          "name": "stdout"
        },
        {
          "output_type": "stream",
          "text": [
            "[Parallel(n_jobs=1)]: Done   2 out of   2 | elapsed:   49.6s remaining:    0.0s\n"
          ],
          "name": "stderr"
        },
        {
          "output_type": "stream",
          "text": [
            "[CV] ...................... C=0.1, gamma=1, score=0.754, total=  24.4s\n",
            "[CV] C=0.1, gamma=0.1 ................................................\n",
            "[CV] .................... C=0.1, gamma=0.1, score=0.754, total=  25.3s\n",
            "[CV] C=0.1, gamma=0.1 ................................................\n",
            "[CV] .................... C=0.1, gamma=0.1, score=0.754, total=  25.0s\n",
            "[CV] C=0.1, gamma=0.1 ................................................\n",
            "[CV] .................... C=0.1, gamma=0.1, score=0.754, total=  25.2s\n",
            "[CV] C=0.1, gamma=0.01 ...............................................\n",
            "[CV] ................... C=0.1, gamma=0.01, score=0.754, total=  19.7s\n",
            "[CV] C=0.1, gamma=0.01 ...............................................\n",
            "[CV] ................... C=0.1, gamma=0.01, score=0.754, total=  19.9s\n",
            "[CV] C=0.1, gamma=0.01 ...............................................\n",
            "[CV] ................... C=0.1, gamma=0.01, score=0.754, total=  19.9s\n",
            "[CV] C=0.1, gamma=0.001 ..............................................\n",
            "[CV] .................. C=0.1, gamma=0.001, score=0.754, total=  12.4s\n",
            "[CV] C=0.1, gamma=0.001 ..............................................\n",
            "[CV] .................. C=0.1, gamma=0.001, score=0.754, total=  11.9s\n",
            "[CV] C=0.1, gamma=0.001 ..............................................\n",
            "[CV] .................. C=0.1, gamma=0.001, score=0.754, total=  12.1s\n",
            "[CV] C=1, gamma=1 ....................................................\n",
            "[CV] ........................ C=1, gamma=1, score=0.754, total=  31.8s\n",
            "[CV] C=1, gamma=1 ....................................................\n",
            "[CV] ........................ C=1, gamma=1, score=0.754, total=  31.5s\n",
            "[CV] C=1, gamma=1 ....................................................\n",
            "[CV] ........................ C=1, gamma=1, score=0.754, total=  31.7s\n",
            "[CV] C=1, gamma=0.1 ..................................................\n",
            "[CV] ...................... C=1, gamma=0.1, score=0.754, total=  26.3s\n",
            "[CV] C=1, gamma=0.1 ..................................................\n",
            "[CV] ...................... C=1, gamma=0.1, score=0.753, total=  27.0s\n",
            "[CV] C=1, gamma=0.1 ..................................................\n",
            "[CV] ...................... C=1, gamma=0.1, score=0.753, total=  26.5s\n",
            "[CV] C=1, gamma=0.01 .................................................\n",
            "[CV] ..................... C=1, gamma=0.01, score=0.752, total=  23.7s\n",
            "[CV] C=1, gamma=0.01 .................................................\n",
            "[CV] ..................... C=1, gamma=0.01, score=0.753, total=  23.7s\n",
            "[CV] C=1, gamma=0.01 .................................................\n",
            "[CV] ..................... C=1, gamma=0.01, score=0.750, total=  24.0s\n",
            "[CV] C=1, gamma=0.001 ................................................\n",
            "[CV] .................... C=1, gamma=0.001, score=0.783, total=  14.4s\n",
            "[CV] C=1, gamma=0.001 ................................................\n",
            "[CV] .................... C=1, gamma=0.001, score=0.782, total=  14.1s\n",
            "[CV] C=1, gamma=0.001 ................................................\n",
            "[CV] .................... C=1, gamma=0.001, score=0.783, total=  14.3s\n",
            "[CV] C=10, gamma=1 ...................................................\n",
            "[CV] ....................... C=10, gamma=1, score=0.754, total=  31.8s\n",
            "[CV] C=10, gamma=1 ...................................................\n",
            "[CV] ....................... C=10, gamma=1, score=0.754, total=  29.4s\n",
            "[CV] C=10, gamma=1 ...................................................\n",
            "[CV] ....................... C=10, gamma=1, score=0.754, total=  30.0s\n",
            "[CV] C=10, gamma=0.1 .................................................\n",
            "[CV] ..................... C=10, gamma=0.1, score=0.753, total=  26.6s\n",
            "[CV] C=10, gamma=0.1 .................................................\n",
            "[CV] ..................... C=10, gamma=0.1, score=0.753, total=  28.2s\n",
            "[CV] C=10, gamma=0.1 .................................................\n",
            "[CV] ..................... C=10, gamma=0.1, score=0.752, total=  27.3s\n",
            "[CV] C=10, gamma=0.01 ................................................\n",
            "[CV] .................... C=10, gamma=0.01, score=0.736, total=  28.8s\n",
            "[CV] C=10, gamma=0.01 ................................................\n",
            "[CV] .................... C=10, gamma=0.01, score=0.736, total=  28.8s\n",
            "[CV] C=10, gamma=0.01 ................................................\n",
            "[CV] .................... C=10, gamma=0.01, score=0.734, total=  29.1s\n",
            "[CV] C=10, gamma=0.001 ...............................................\n",
            "[CV] ................... C=10, gamma=0.001, score=0.750, total=  19.8s\n",
            "[CV] C=10, gamma=0.001 ...............................................\n",
            "[CV] ................... C=10, gamma=0.001, score=0.749, total=  19.4s\n",
            "[CV] C=10, gamma=0.001 ...............................................\n",
            "[CV] ................... C=10, gamma=0.001, score=0.755, total=  20.0s\n",
            "[CV] C=100, gamma=1 ..................................................\n",
            "[CV] ...................... C=100, gamma=1, score=0.754, total=  31.9s\n",
            "[CV] C=100, gamma=1 ..................................................\n",
            "[CV] ...................... C=100, gamma=1, score=0.754, total=  29.4s\n",
            "[CV] C=100, gamma=1 ..................................................\n",
            "[CV] ...................... C=100, gamma=1, score=0.754, total=  30.1s\n",
            "[CV] C=100, gamma=0.1 ................................................\n",
            "[CV] .................... C=100, gamma=0.1, score=0.753, total=  26.6s\n",
            "[CV] C=100, gamma=0.1 ................................................\n",
            "[CV] .................... C=100, gamma=0.1, score=0.753, total=  28.3s\n",
            "[CV] C=100, gamma=0.1 ................................................\n",
            "[CV] .................... C=100, gamma=0.1, score=0.752, total=  27.4s\n",
            "[CV] C=100, gamma=0.01 ...............................................\n",
            "[CV] ................... C=100, gamma=0.01, score=0.735, total=  28.9s\n",
            "[CV] C=100, gamma=0.01 ...............................................\n",
            "[CV] ................... C=100, gamma=0.01, score=0.735, total=  29.0s\n",
            "[CV] C=100, gamma=0.01 ...............................................\n",
            "[CV] ................... C=100, gamma=0.01, score=0.734, total=  29.3s\n",
            "[CV] C=100, gamma=0.001 ..............................................\n",
            "[CV] .................. C=100, gamma=0.001, score=0.717, total=  22.2s\n",
            "[CV] C=100, gamma=0.001 ..............................................\n",
            "[CV] .................. C=100, gamma=0.001, score=0.709, total=  21.8s\n",
            "[CV] C=100, gamma=0.001 ..............................................\n",
            "[CV] .................. C=100, gamma=0.001, score=0.719, total=  22.0s\n"
          ],
          "name": "stdout"
        },
        {
          "output_type": "stream",
          "text": [
            "[Parallel(n_jobs=1)]: Done  48 out of  48 | elapsed: 19.7min finished\n"
          ],
          "name": "stderr"
        },
        {
          "output_type": "execute_result",
          "data": {
            "text/plain": [
              "GridSearchCV(cv='warn', error_score='raise-deprecating',\n",
              "             estimator=SVC(C=1.0, cache_size=200, class_weight=None, coef0=0.0,\n",
              "                           decision_function_shape='ovr', degree=3,\n",
              "                           gamma='auto_deprecated', kernel='rbf', max_iter=-1,\n",
              "                           probability=False, random_state=None, shrinking=True,\n",
              "                           tol=0.001, verbose=False),\n",
              "             iid='warn', n_jobs=None,\n",
              "             param_grid={'C': [0.1, 1, 10, 100],\n",
              "                         'gamma': [1, 0.1, 0.01, 0.001]},\n",
              "             pre_dispatch='2*n_jobs', refit=True, return_train_score=False,\n",
              "             scoring=None, verbose=3)"
            ]
          },
          "metadata": {
            "tags": []
          },
          "execution_count": 79
        }
      ]
    },
    {
      "cell_type": "code",
      "metadata": {
        "id": "NRn1tG7Xfq1g",
        "colab_type": "code",
        "colab": {
          "base_uri": "https://localhost:8080/",
          "height": 34
        },
        "outputId": "86da6f36-6cd1-487c-a676-486d4d02cc7f"
      },
      "source": [
        "grid.best_params_"
      ],
      "execution_count": 80,
      "outputs": [
        {
          "output_type": "execute_result",
          "data": {
            "text/plain": [
              "{'C': 1, 'gamma': 0.001}"
            ]
          },
          "metadata": {
            "tags": []
          },
          "execution_count": 80
        }
      ]
    },
    {
      "cell_type": "code",
      "metadata": {
        "id": "9nVzlH2YfveV",
        "colab_type": "code",
        "colab": {}
      },
      "source": [
        "grid_predictions = grid.predict(X_test)"
      ],
      "execution_count": 0,
      "outputs": []
    },
    {
      "cell_type": "code",
      "metadata": {
        "id": "UMWwu2o1fvk-",
        "colab_type": "code",
        "colab": {
          "base_uri": "https://localhost:8080/",
          "height": 204
        },
        "outputId": "df6a898e-caae-4270-cbb7-60b717448afd"
      },
      "source": [
        "print(classification_report(y_test, grid_predictions))\n",
        "print(confusion_matrix(y_test, grid_predictions))"
      ],
      "execution_count": 83,
      "outputs": [
        {
          "output_type": "stream",
          "text": [
            "              precision    recall  f1-score   support\n",
            "\n",
            "           0       0.75      0.20      0.32      2306\n",
            "           1       0.78      0.98      0.87      6743\n",
            "\n",
            "    accuracy                           0.78      9049\n",
            "   macro avg       0.76      0.59      0.59      9049\n",
            "weighted avg       0.77      0.78      0.73      9049\n",
            "\n",
            "[[ 468 1838]\n",
            " [ 158 6585]]\n"
          ],
          "name": "stdout"
        }
      ]
    },
    {
      "cell_type": "markdown",
      "metadata": {
        "id": "VsnXEoRFYiTg",
        "colab_type": "text"
      },
      "source": [
        "## 2.6 TF-Classification & DNN"
      ]
    },
    {
      "cell_type": "markdown",
      "metadata": {
        "id": "mA7NArHs28dB",
        "colab_type": "text"
      },
      "source": [
        "### 2.6.1 Normalization and Feature Columns"
      ]
    },
    {
      "cell_type": "code",
      "metadata": {
        "id": "TV33cs5lx0vP",
        "colab_type": "code",
        "colab": {
          "base_uri": "https://localhost:8080/",
          "height": 88
        },
        "outputId": "de4d23a9-c203-4ae7-c913-f477de7c9fe3"
      },
      "source": [
        "import tensorflow.compat.v1 as tf\n",
        "tf.disable_v2_behavior()"
      ],
      "execution_count": 84,
      "outputs": [
        {
          "output_type": "stream",
          "text": [
            "WARNING:tensorflow:From /usr/local/lib/python3.6/dist-packages/tensorflow_core/python/compat/v2_compat.py:68: disable_resource_variables (from tensorflow.python.ops.variable_scope) is deprecated and will be removed in a future version.\n",
            "Instructions for updating:\n",
            "non-resource variables are not supported in the long term\n"
          ],
          "name": "stdout"
        }
      ]
    },
    {
      "cell_type": "code",
      "metadata": {
        "id": "kdPD2ebYZCZm",
        "colab_type": "code",
        "colab": {
          "base_uri": "https://localhost:8080/",
          "height": 204
        },
        "outputId": "0bd3ba35-65d8-4376-cc8c-a648f64511bd"
      },
      "source": [
        "df_replace_le.head()"
      ],
      "execution_count": 85,
      "outputs": [
        {
          "output_type": "execute_result",
          "data": {
            "text/html": [
              "<div>\n",
              "<style scoped>\n",
              "    .dataframe tbody tr th:only-of-type {\n",
              "        vertical-align: middle;\n",
              "    }\n",
              "\n",
              "    .dataframe tbody tr th {\n",
              "        vertical-align: top;\n",
              "    }\n",
              "\n",
              "    .dataframe thead th {\n",
              "        text-align: right;\n",
              "    }\n",
              "</style>\n",
              "<table border=\"1\" class=\"dataframe\">\n",
              "  <thead>\n",
              "    <tr style=\"text-align: right;\">\n",
              "      <th></th>\n",
              "      <th>0</th>\n",
              "      <th>1</th>\n",
              "      <th>2</th>\n",
              "      <th>3</th>\n",
              "      <th>4</th>\n",
              "      <th>5</th>\n",
              "      <th>6</th>\n",
              "      <th>7</th>\n",
              "      <th>8</th>\n",
              "      <th>9</th>\n",
              "      <th>10</th>\n",
              "      <th>11</th>\n",
              "      <th>12</th>\n",
              "      <th>13</th>\n",
              "      <th>14</th>\n",
              "      <th>Cluster</th>\n",
              "    </tr>\n",
              "  </thead>\n",
              "  <tbody>\n",
              "    <tr>\n",
              "      <th>0</th>\n",
              "      <td>22</td>\n",
              "      <td>0</td>\n",
              "      <td>2491</td>\n",
              "      <td>0</td>\n",
              "      <td>12</td>\n",
              "      <td>0</td>\n",
              "      <td>0</td>\n",
              "      <td>0</td>\n",
              "      <td>0</td>\n",
              "      <td>0</td>\n",
              "      <td>24</td>\n",
              "      <td>0</td>\n",
              "      <td>39</td>\n",
              "      <td>0</td>\n",
              "      <td>1</td>\n",
              "      <td>1</td>\n",
              "    </tr>\n",
              "    <tr>\n",
              "      <th>1</th>\n",
              "      <td>33</td>\n",
              "      <td>1</td>\n",
              "      <td>2727</td>\n",
              "      <td>0</td>\n",
              "      <td>12</td>\n",
              "      <td>1</td>\n",
              "      <td>1</td>\n",
              "      <td>1</td>\n",
              "      <td>0</td>\n",
              "      <td>0</td>\n",
              "      <td>0</td>\n",
              "      <td>0</td>\n",
              "      <td>12</td>\n",
              "      <td>0</td>\n",
              "      <td>1</td>\n",
              "      <td>1</td>\n",
              "    </tr>\n",
              "    <tr>\n",
              "      <th>2</th>\n",
              "      <td>21</td>\n",
              "      <td>2</td>\n",
              "      <td>13188</td>\n",
              "      <td>1</td>\n",
              "      <td>8</td>\n",
              "      <td>2</td>\n",
              "      <td>6</td>\n",
              "      <td>0</td>\n",
              "      <td>0</td>\n",
              "      <td>0</td>\n",
              "      <td>0</td>\n",
              "      <td>0</td>\n",
              "      <td>39</td>\n",
              "      <td>0</td>\n",
              "      <td>1</td>\n",
              "      <td>1</td>\n",
              "    </tr>\n",
              "    <tr>\n",
              "      <th>3</th>\n",
              "      <td>36</td>\n",
              "      <td>2</td>\n",
              "      <td>14354</td>\n",
              "      <td>8</td>\n",
              "      <td>6</td>\n",
              "      <td>1</td>\n",
              "      <td>6</td>\n",
              "      <td>1</td>\n",
              "      <td>1</td>\n",
              "      <td>0</td>\n",
              "      <td>0</td>\n",
              "      <td>0</td>\n",
              "      <td>39</td>\n",
              "      <td>0</td>\n",
              "      <td>1</td>\n",
              "      <td>1</td>\n",
              "    </tr>\n",
              "    <tr>\n",
              "      <th>4</th>\n",
              "      <td>11</td>\n",
              "      <td>2</td>\n",
              "      <td>18120</td>\n",
              "      <td>0</td>\n",
              "      <td>12</td>\n",
              "      <td>1</td>\n",
              "      <td>7</td>\n",
              "      <td>2</td>\n",
              "      <td>1</td>\n",
              "      <td>1</td>\n",
              "      <td>0</td>\n",
              "      <td>0</td>\n",
              "      <td>39</td>\n",
              "      <td>1</td>\n",
              "      <td>1</td>\n",
              "      <td>1</td>\n",
              "    </tr>\n",
              "  </tbody>\n",
              "</table>\n",
              "</div>"
            ],
            "text/plain": [
              "    0  1      2  3   4  5  6  7  8  9  10  11  12  13  14  Cluster\n",
              "0  22  0   2491  0  12  0  0  0  0  0  24   0  39   0   1        1\n",
              "1  33  1   2727  0  12  1  1  1  0  0   0   0  12   0   1        1\n",
              "2  21  2  13188  1   8  2  6  0  0  0   0   0  39   0   1        1\n",
              "3  36  2  14354  8   6  1  6  1  1  0   0   0  39   0   1        1\n",
              "4  11  2  18120  0  12  1  7  2  1  1   0   0  39   1   1        1"
            ]
          },
          "metadata": {
            "tags": []
          },
          "execution_count": 85
        }
      ]
    },
    {
      "cell_type": "code",
      "metadata": {
        "id": "W4b5EfN8Yxkt",
        "colab_type": "code",
        "colab": {
          "base_uri": "https://localhost:8080/",
          "height": 68
        },
        "outputId": "f24e6078-14f3-467e-e106-6684e1176ac5"
      },
      "source": [
        "df_replace_le.columns"
      ],
      "execution_count": 86,
      "outputs": [
        {
          "output_type": "execute_result",
          "data": {
            "text/plain": [
              "Index(['0', '1', '2', '3', '4', '5', '6', '7', '8', '9', '10', '11', '12',\n",
              "       '13', '14', 'Cluster'],\n",
              "      dtype='object')"
            ]
          },
          "metadata": {
            "tags": []
          },
          "execution_count": 86
        }
      ]
    },
    {
      "cell_type": "code",
      "metadata": {
        "id": "bcRIh8B4Y0cc",
        "colab_type": "code",
        "colab": {}
      },
      "source": [
        "cols_to_norm = ['0', '1', '2', '3', '4', '5', '6', '7', '8', '9', '10', '11', '12',\n",
        "       '13']"
      ],
      "execution_count": 0,
      "outputs": []
    },
    {
      "cell_type": "code",
      "metadata": {
        "id": "kyq5ugf_ZKJJ",
        "colab_type": "code",
        "colab": {}
      },
      "source": [
        "df_replace_le[cols_to_norm] = df_replace_le[cols_to_norm].apply(lambda x: (x - x.min()) / (x.max() - x.min()))"
      ],
      "execution_count": 0,
      "outputs": []
    },
    {
      "cell_type": "code",
      "metadata": {
        "id": "SQmNp9MqbZXp",
        "colab_type": "code",
        "colab": {}
      },
      "source": [
        "A = tf.feature_column.numeric_column('0')\n",
        "B = tf.feature_column.numeric_column('1')\n",
        "C = tf.feature_column.numeric_column('2')\n",
        "D = tf.feature_column.numeric_column('3')\n",
        "E = tf.feature_column.numeric_column('4')\n",
        "F = tf.feature_column.numeric_column('5')\n",
        "G = tf.feature_column.numeric_column('6')\n",
        "H = tf.feature_column.numeric_column('7')\n",
        "I = tf.feature_column.numeric_column('8')\n",
        "J = tf.feature_column.numeric_column('9')\n",
        "K = tf.feature_column.numeric_column('10')\n",
        "L = tf.feature_column.numeric_column('11')\n",
        "M = tf.feature_column.numeric_column('12')\n",
        "N = tf.feature_column.numeric_column('13')"
      ],
      "execution_count": 0,
      "outputs": []
    },
    {
      "cell_type": "code",
      "metadata": {
        "id": "kQlXLH17z1Fw",
        "colab_type": "code",
        "colab": {}
      },
      "source": [
        "feat_cols = [A,B,C,D,E,F,G,H,I,J,K,L,M,N]"
      ],
      "execution_count": 0,
      "outputs": []
    },
    {
      "cell_type": "markdown",
      "metadata": {
        "id": "jD6JYxp43HQs",
        "colab_type": "text"
      },
      "source": [
        "### 2.6.2 Modeling"
      ]
    },
    {
      "cell_type": "code",
      "metadata": {
        "id": "KrmANhmCZV22",
        "colab_type": "code",
        "colab": {}
      },
      "source": [
        "X = df_replace_le.drop('14',axis=1)\n",
        "y = df_replace_le['14']"
      ],
      "execution_count": 0,
      "outputs": []
    },
    {
      "cell_type": "code",
      "metadata": {
        "id": "zBQKK5waZXEV",
        "colab_type": "code",
        "colab": {}
      },
      "source": [
        "X_train, X_test, y_train, y_test = train_test_split(X, y, test_size=0.40, random_state=42)"
      ],
      "execution_count": 0,
      "outputs": []
    },
    {
      "cell_type": "code",
      "metadata": {
        "id": "3e5GYZYLZ2JX",
        "colab_type": "code",
        "colab": {}
      },
      "source": [
        "input_func = tf.estimator.inputs.pandas_input_fn(x=X_train,y=y_train,batch_size=10,num_epochs=None,shuffle=True)"
      ],
      "execution_count": 0,
      "outputs": []
    },
    {
      "cell_type": "code",
      "metadata": {
        "id": "PIeRXKMEaB58",
        "colab_type": "code",
        "colab": {
          "base_uri": "https://localhost:8080/",
          "height": 190
        },
        "outputId": "44173e2b-5140-40ff-b2bb-d8e6cc405d08"
      },
      "source": [
        "model = tf.estimator.LinearClassifier(feature_columns=feat_cols,n_classes=2)"
      ],
      "execution_count": 96,
      "outputs": [
        {
          "output_type": "stream",
          "text": [
            "INFO:tensorflow:Using default config.\n",
            "WARNING:tensorflow:Using temporary folder as model directory: /tmp/tmpldpmeuyf\n",
            "INFO:tensorflow:Using config: {'_model_dir': '/tmp/tmpldpmeuyf', '_tf_random_seed': None, '_save_summary_steps': 100, '_save_checkpoints_steps': None, '_save_checkpoints_secs': 600, '_session_config': allow_soft_placement: true\n",
            "graph_options {\n",
            "  rewrite_options {\n",
            "    meta_optimizer_iterations: ONE\n",
            "  }\n",
            "}\n",
            ", '_keep_checkpoint_max': 5, '_keep_checkpoint_every_n_hours': 10000, '_log_step_count_steps': 100, '_train_distribute': None, '_device_fn': None, '_protocol': None, '_eval_distribute': None, '_experimental_distribute': None, '_experimental_max_worker_delay_secs': None, '_session_creation_timeout_secs': 7200, '_service': None, '_cluster_spec': <tensorflow.python.training.server_lib.ClusterSpec object at 0x7f0585bc1860>, '_task_type': 'worker', '_task_id': 0, '_global_id_in_cluster': 0, '_master': '', '_evaluation_master': '', '_is_chief': True, '_num_ps_replicas': 0, '_num_worker_replicas': 1}\n"
          ],
          "name": "stdout"
        }
      ]
    },
    {
      "cell_type": "code",
      "metadata": {
        "id": "zWR5ur6zaYn7",
        "colab_type": "code",
        "colab": {
          "base_uri": "https://localhost:8080/",
          "height": 1000
        },
        "outputId": "4ffc2514-2b6c-4a6d-f236-299ac3f96f12"
      },
      "source": [
        "model.train(input_fn=input_func,steps=5000)"
      ],
      "execution_count": 97,
      "outputs": [
        {
          "output_type": "stream",
          "text": [
            "WARNING:tensorflow:From /usr/local/lib/python3.6/dist-packages/tensorflow_core/python/training/training_util.py:236: Variable.initialized_value (from tensorflow.python.ops.variables) is deprecated and will be removed in a future version.\n",
            "Instructions for updating:\n",
            "Use Variable.read_value. Variables in 2.X are initialized automatically both in eager and graph (inside tf.defun) contexts.\n",
            "WARNING:tensorflow:From /usr/local/lib/python3.6/dist-packages/tensorflow_estimator/python/estimator/inputs/queues/feeding_queue_runner.py:62: QueueRunner.__init__ (from tensorflow.python.training.queue_runner_impl) is deprecated and will be removed in a future version.\n",
            "Instructions for updating:\n",
            "To construct input pipelines, use the `tf.data` module.\n",
            "WARNING:tensorflow:From /usr/local/lib/python3.6/dist-packages/tensorflow_estimator/python/estimator/inputs/queues/feeding_functions.py:500: add_queue_runner (from tensorflow.python.training.queue_runner_impl) is deprecated and will be removed in a future version.\n",
            "Instructions for updating:\n",
            "To construct input pipelines, use the `tf.data` module.\n",
            "INFO:tensorflow:Calling model_fn.\n",
            "WARNING:tensorflow:From /usr/local/lib/python3.6/dist-packages/tensorflow_core/python/feature_column/feature_column_v2.py:305: Layer.add_variable (from tensorflow.python.keras.engine.base_layer) is deprecated and will be removed in a future version.\n",
            "Instructions for updating:\n",
            "Please use `layer.add_weight` method instead.\n",
            "WARNING:tensorflow:From /usr/local/lib/python3.6/dist-packages/tensorflow_core/python/ops/resource_variable_ops.py:1630: calling BaseResourceVariable.__init__ (from tensorflow.python.ops.resource_variable_ops) with constraint is deprecated and will be removed in a future version.\n",
            "Instructions for updating:\n",
            "If using Keras pass *_constraint arguments to layers.\n",
            "WARNING:tensorflow:From /usr/local/lib/python3.6/dist-packages/tensorflow_estimator/python/estimator/canned/linear.py:308: to_float (from tensorflow.python.ops.math_ops) is deprecated and will be removed in a future version.\n",
            "Instructions for updating:\n",
            "Use `tf.cast` instead.\n",
            "WARNING:tensorflow:From /usr/local/lib/python3.6/dist-packages/tensorflow_core/python/ops/nn_impl.py:183: where (from tensorflow.python.ops.array_ops) is deprecated and will be removed in a future version.\n",
            "Instructions for updating:\n",
            "Use tf.where in 2.0, which has the same broadcast rule as np.where\n",
            "INFO:tensorflow:Done calling model_fn.\n",
            "INFO:tensorflow:Create CheckpointSaverHook.\n",
            "INFO:tensorflow:Graph was finalized.\n",
            "INFO:tensorflow:Running local_init_op.\n",
            "INFO:tensorflow:Done running local_init_op.\n",
            "WARNING:tensorflow:From /usr/local/lib/python3.6/dist-packages/tensorflow_core/python/training/monitored_session.py:882: start_queue_runners (from tensorflow.python.training.queue_runner_impl) is deprecated and will be removed in a future version.\n",
            "Instructions for updating:\n",
            "To construct input pipelines, use the `tf.data` module.\n",
            "INFO:tensorflow:Saving checkpoints for 0 into /tmp/tmpldpmeuyf/model.ckpt.\n",
            "INFO:tensorflow:loss = 6.931472, step = 0\n",
            "INFO:tensorflow:global_step/sec: 233.432\n",
            "INFO:tensorflow:loss = 3.7063274, step = 100 (0.430 sec)\n",
            "INFO:tensorflow:global_step/sec: 293.661\n",
            "INFO:tensorflow:loss = 6.5106707, step = 200 (0.340 sec)\n",
            "INFO:tensorflow:global_step/sec: 290.356\n",
            "INFO:tensorflow:loss = 2.7924743, step = 300 (0.346 sec)\n",
            "INFO:tensorflow:global_step/sec: 247.652\n",
            "INFO:tensorflow:loss = 4.171708, step = 400 (0.402 sec)\n",
            "INFO:tensorflow:global_step/sec: 270.146\n",
            "INFO:tensorflow:loss = 6.6105447, step = 500 (0.372 sec)\n",
            "INFO:tensorflow:global_step/sec: 267.02\n",
            "INFO:tensorflow:loss = 6.214098, step = 600 (0.373 sec)\n",
            "INFO:tensorflow:global_step/sec: 304.579\n",
            "INFO:tensorflow:loss = 4.575607, step = 700 (0.330 sec)\n",
            "INFO:tensorflow:global_step/sec: 296.225\n",
            "INFO:tensorflow:loss = 3.7248647, step = 800 (0.336 sec)\n",
            "INFO:tensorflow:global_step/sec: 304.698\n",
            "INFO:tensorflow:loss = 3.6017737, step = 900 (0.328 sec)\n",
            "INFO:tensorflow:global_step/sec: 294.269\n",
            "INFO:tensorflow:loss = 4.0230618, step = 1000 (0.340 sec)\n",
            "INFO:tensorflow:global_step/sec: 303.021\n",
            "INFO:tensorflow:loss = 2.631576, step = 1100 (0.330 sec)\n",
            "INFO:tensorflow:global_step/sec: 263.266\n",
            "INFO:tensorflow:loss = 3.8961349, step = 1200 (0.381 sec)\n",
            "INFO:tensorflow:global_step/sec: 309.537\n",
            "INFO:tensorflow:loss = 4.0180974, step = 1300 (0.322 sec)\n",
            "INFO:tensorflow:global_step/sec: 304.982\n",
            "INFO:tensorflow:loss = 3.9299893, step = 1400 (0.328 sec)\n",
            "INFO:tensorflow:global_step/sec: 317.317\n",
            "INFO:tensorflow:loss = 2.6749778, step = 1500 (0.315 sec)\n",
            "INFO:tensorflow:global_step/sec: 309.453\n",
            "INFO:tensorflow:loss = 1.5266712, step = 1600 (0.323 sec)\n",
            "INFO:tensorflow:global_step/sec: 338.341\n",
            "INFO:tensorflow:loss = 5.342446, step = 1700 (0.297 sec)\n",
            "INFO:tensorflow:global_step/sec: 312.852\n",
            "INFO:tensorflow:loss = 5.6084776, step = 1800 (0.319 sec)\n",
            "INFO:tensorflow:global_step/sec: 297.729\n",
            "INFO:tensorflow:loss = 8.915552, step = 1900 (0.334 sec)\n",
            "INFO:tensorflow:global_step/sec: 306.909\n",
            "INFO:tensorflow:loss = 7.8284373, step = 2000 (0.326 sec)\n",
            "INFO:tensorflow:global_step/sec: 303.954\n",
            "INFO:tensorflow:loss = 4.904065, step = 2100 (0.330 sec)\n",
            "INFO:tensorflow:global_step/sec: 308.469\n",
            "INFO:tensorflow:loss = 2.503539, step = 2200 (0.324 sec)\n",
            "INFO:tensorflow:global_step/sec: 333.816\n",
            "INFO:tensorflow:loss = 7.240297, step = 2300 (0.299 sec)\n",
            "INFO:tensorflow:global_step/sec: 310.588\n",
            "INFO:tensorflow:loss = 5.378369, step = 2400 (0.322 sec)\n",
            "INFO:tensorflow:global_step/sec: 293.541\n",
            "INFO:tensorflow:loss = 5.584534, step = 2500 (0.342 sec)\n",
            "INFO:tensorflow:global_step/sec: 294.674\n",
            "INFO:tensorflow:loss = 5.902663, step = 2600 (0.338 sec)\n",
            "INFO:tensorflow:global_step/sec: 299.498\n",
            "INFO:tensorflow:loss = 5.0899487, step = 2700 (0.335 sec)\n",
            "INFO:tensorflow:global_step/sec: 299.629\n",
            "INFO:tensorflow:loss = 3.5445235, step = 2800 (0.335 sec)\n",
            "INFO:tensorflow:global_step/sec: 323.549\n",
            "INFO:tensorflow:loss = 5.949318, step = 2900 (0.307 sec)\n",
            "INFO:tensorflow:global_step/sec: 321.513\n",
            "INFO:tensorflow:loss = 4.1796303, step = 3000 (0.311 sec)\n",
            "INFO:tensorflow:global_step/sec: 300.346\n",
            "INFO:tensorflow:loss = 7.1875496, step = 3100 (0.335 sec)\n",
            "INFO:tensorflow:global_step/sec: 292.348\n",
            "INFO:tensorflow:loss = 4.035447, step = 3200 (0.343 sec)\n",
            "INFO:tensorflow:global_step/sec: 312.592\n",
            "INFO:tensorflow:loss = 5.761489, step = 3300 (0.317 sec)\n",
            "INFO:tensorflow:global_step/sec: 297.888\n",
            "INFO:tensorflow:loss = 4.0760355, step = 3400 (0.337 sec)\n",
            "INFO:tensorflow:global_step/sec: 313.666\n",
            "INFO:tensorflow:loss = 2.967801, step = 3500 (0.318 sec)\n",
            "INFO:tensorflow:global_step/sec: 281.193\n",
            "INFO:tensorflow:loss = 2.6165032, step = 3600 (0.355 sec)\n",
            "INFO:tensorflow:global_step/sec: 328.426\n",
            "INFO:tensorflow:loss = 2.6646066, step = 3700 (0.304 sec)\n",
            "INFO:tensorflow:global_step/sec: 315.031\n",
            "INFO:tensorflow:loss = 2.539858, step = 3800 (0.317 sec)\n",
            "INFO:tensorflow:global_step/sec: 323.091\n",
            "INFO:tensorflow:loss = 4.3616166, step = 3900 (0.312 sec)\n",
            "INFO:tensorflow:global_step/sec: 302.478\n",
            "INFO:tensorflow:loss = 4.1341696, step = 4000 (0.330 sec)\n",
            "INFO:tensorflow:global_step/sec: 289.837\n",
            "INFO:tensorflow:loss = 6.547816, step = 4100 (0.344 sec)\n",
            "INFO:tensorflow:global_step/sec: 330.736\n",
            "INFO:tensorflow:loss = 4.204953, step = 4200 (0.303 sec)\n",
            "INFO:tensorflow:global_step/sec: 321.783\n",
            "INFO:tensorflow:loss = 3.3713305, step = 4300 (0.312 sec)\n",
            "INFO:tensorflow:global_step/sec: 321.891\n",
            "INFO:tensorflow:loss = 4.4455457, step = 4400 (0.311 sec)\n",
            "INFO:tensorflow:global_step/sec: 290.842\n",
            "INFO:tensorflow:loss = 3.8486757, step = 4500 (0.342 sec)\n",
            "INFO:tensorflow:global_step/sec: 313.861\n",
            "INFO:tensorflow:loss = 2.551374, step = 4600 (0.320 sec)\n",
            "INFO:tensorflow:global_step/sec: 309.541\n",
            "INFO:tensorflow:loss = 2.3820477, step = 4700 (0.321 sec)\n",
            "WARNING:tensorflow:It seems that global step (tf.train.get_global_step) has not been increased. Current value (could be stable): 4737 vs previous value: 4737. You could increase the global step by passing tf.train.get_global_step() to Optimizer.apply_gradients or Optimizer.minimize.\n",
            "INFO:tensorflow:global_step/sec: 309.012\n",
            "INFO:tensorflow:loss = 3.1963303, step = 4800 (0.323 sec)\n",
            "INFO:tensorflow:global_step/sec: 310.316\n",
            "INFO:tensorflow:loss = 2.2447338, step = 4900 (0.324 sec)\n",
            "INFO:tensorflow:Saving checkpoints for 5000 into /tmp/tmpldpmeuyf/model.ckpt.\n",
            "INFO:tensorflow:Loss for final step: 2.36614.\n"
          ],
          "name": "stdout"
        },
        {
          "output_type": "execute_result",
          "data": {
            "text/plain": [
              "<tensorflow_estimator.python.estimator.canned.linear.LinearClassifier at 0x7f0585bc19e8>"
            ]
          },
          "metadata": {
            "tags": []
          },
          "execution_count": 97
        }
      ]
    },
    {
      "cell_type": "markdown",
      "metadata": {
        "id": "k1JvhL9e3Tjt",
        "colab_type": "text"
      },
      "source": [
        "### 2.6.3 Evaluation"
      ]
    },
    {
      "cell_type": "code",
      "metadata": {
        "id": "dGiuTrWH0HOz",
        "colab_type": "code",
        "colab": {}
      },
      "source": [
        "eval_input_func = tf.estimator.inputs.pandas_input_fn(\n",
        "      x=X_test,\n",
        "      y=y_test,\n",
        "      batch_size=10,\n",
        "      num_epochs=1,\n",
        "      shuffle=False)"
      ],
      "execution_count": 0,
      "outputs": []
    },
    {
      "cell_type": "code",
      "metadata": {
        "id": "_i5-Axjs0VPN",
        "colab_type": "code",
        "colab": {
          "base_uri": "https://localhost:8080/",
          "height": 292
        },
        "outputId": "931b994f-c552-46db-9e35-876a463bca87"
      },
      "source": [
        "results = model.evaluate(eval_input_func)"
      ],
      "execution_count": 99,
      "outputs": [
        {
          "output_type": "stream",
          "text": [
            "INFO:tensorflow:Calling model_fn.\n",
            "WARNING:tensorflow:From /usr/local/lib/python3.6/dist-packages/tensorflow_core/python/ops/metrics_impl.py:2026: div (from tensorflow.python.ops.math_ops) is deprecated and will be removed in a future version.\n",
            "Instructions for updating:\n",
            "Deprecated in favor of operator or tf.math.divide.\n",
            "WARNING:tensorflow:Trapezoidal rule is known to produce incorrect PR-AUCs; please switch to \"careful_interpolation\" instead.\n",
            "WARNING:tensorflow:Trapezoidal rule is known to produce incorrect PR-AUCs; please switch to \"careful_interpolation\" instead.\n",
            "INFO:tensorflow:Done calling model_fn.\n",
            "INFO:tensorflow:Starting evaluation at 2019-12-12T22:04:38Z\n",
            "INFO:tensorflow:Graph was finalized.\n",
            "INFO:tensorflow:Restoring parameters from /tmp/tmpldpmeuyf/model.ckpt-5000\n",
            "INFO:tensorflow:Running local_init_op.\n",
            "INFO:tensorflow:Done running local_init_op.\n",
            "INFO:tensorflow:Finished evaluation at 2019-12-12-22:04:44\n",
            "INFO:tensorflow:Saving dict for global step 5000: accuracy = 0.80605054, accuracy_baseline = 0.74828017, auc = 0.825727, auc_precision_recall = 0.9277233, average_loss = 0.42039278, global_step = 5000, label/mean = 0.74828017, loss = 4.2021866, precision = 0.82079816, prediction/mean = 0.74307233, recall = 0.9477182\n",
            "INFO:tensorflow:Saving 'checkpoint_path' summary for global step 5000: /tmp/tmpldpmeuyf/model.ckpt-5000\n"
          ],
          "name": "stdout"
        }
      ]
    },
    {
      "cell_type": "code",
      "metadata": {
        "id": "MMrNKXP_0Wzu",
        "colab_type": "code",
        "colab": {
          "base_uri": "https://localhost:8080/",
          "height": 204
        },
        "outputId": "7241a5be-4488-46fa-9f42-56d3dea3ed01"
      },
      "source": [
        "results"
      ],
      "execution_count": 100,
      "outputs": [
        {
          "output_type": "execute_result",
          "data": {
            "text/plain": [
              "{'accuracy': 0.80605054,\n",
              " 'accuracy_baseline': 0.74828017,\n",
              " 'auc': 0.825727,\n",
              " 'auc_precision_recall': 0.9277233,\n",
              " 'average_loss': 0.42039278,\n",
              " 'global_step': 5000,\n",
              " 'label/mean': 0.74828017,\n",
              " 'loss': 4.2021866,\n",
              " 'precision': 0.82079816,\n",
              " 'prediction/mean': 0.74307233,\n",
              " 'recall': 0.9477182}"
            ]
          },
          "metadata": {
            "tags": []
          },
          "execution_count": 100
        }
      ]
    },
    {
      "cell_type": "code",
      "metadata": {
        "id": "r4Bj4T6J0aQD",
        "colab_type": "code",
        "colab": {}
      },
      "source": [
        "pred_input_func = tf.estimator.inputs.pandas_input_fn(\n",
        "      x=X_test,\n",
        "      batch_size=10,\n",
        "      num_epochs=1,\n",
        "      shuffle=False)"
      ],
      "execution_count": 0,
      "outputs": []
    },
    {
      "cell_type": "code",
      "metadata": {
        "id": "drDwLNgm0cab",
        "colab_type": "code",
        "colab": {}
      },
      "source": [
        "predictions = model.predict(pred_input_func)"
      ],
      "execution_count": 0,
      "outputs": []
    },
    {
      "cell_type": "markdown",
      "metadata": {
        "id": "FIsXa3cU3dI8",
        "colab_type": "text"
      },
      "source": [
        "### 2.6.4 DNN Classifier\n"
      ]
    },
    {
      "cell_type": "code",
      "metadata": {
        "id": "KCk4RUzU0hZO",
        "colab_type": "code",
        "colab": {
          "base_uri": "https://localhost:8080/",
          "height": 190
        },
        "outputId": "b1748e10-7490-4051-d49c-5deaab006f0f"
      },
      "source": [
        "dnn_model = tf.estimator.DNNClassifier(hidden_units=[10,10,10],feature_columns=feat_cols,n_classes=2)"
      ],
      "execution_count": 103,
      "outputs": [
        {
          "output_type": "stream",
          "text": [
            "INFO:tensorflow:Using default config.\n",
            "WARNING:tensorflow:Using temporary folder as model directory: /tmp/tmpi97v71_g\n",
            "INFO:tensorflow:Using config: {'_model_dir': '/tmp/tmpi97v71_g', '_tf_random_seed': None, '_save_summary_steps': 100, '_save_checkpoints_steps': None, '_save_checkpoints_secs': 600, '_session_config': allow_soft_placement: true\n",
            "graph_options {\n",
            "  rewrite_options {\n",
            "    meta_optimizer_iterations: ONE\n",
            "  }\n",
            "}\n",
            ", '_keep_checkpoint_max': 5, '_keep_checkpoint_every_n_hours': 10000, '_log_step_count_steps': 100, '_train_distribute': None, '_device_fn': None, '_protocol': None, '_eval_distribute': None, '_experimental_distribute': None, '_experimental_max_worker_delay_secs': None, '_session_creation_timeout_secs': 7200, '_service': None, '_cluster_spec': <tensorflow.python.training.server_lib.ClusterSpec object at 0x7f0585bc13c8>, '_task_type': 'worker', '_task_id': 0, '_global_id_in_cluster': 0, '_master': '', '_evaluation_master': '', '_is_chief': True, '_num_ps_replicas': 0, '_num_worker_replicas': 1}\n"
          ],
          "name": "stdout"
        }
      ]
    },
    {
      "cell_type": "code",
      "metadata": {
        "id": "KIwxF_T80ie3",
        "colab_type": "code",
        "colab": {
          "base_uri": "https://localhost:8080/",
          "height": 581
        },
        "outputId": "7e713695-f8d9-447b-e835-86ac0ac9a158"
      },
      "source": [
        "dnn_model.train(input_fn=input_func,steps=1000)"
      ],
      "execution_count": 104,
      "outputs": [
        {
          "output_type": "stream",
          "text": [
            "INFO:tensorflow:Calling model_fn.\n",
            "WARNING:tensorflow:From /usr/local/lib/python3.6/dist-packages/tensorflow_core/python/training/adagrad.py:76: calling Constant.__init__ (from tensorflow.python.ops.init_ops) with dtype is deprecated and will be removed in a future version.\n",
            "Instructions for updating:\n",
            "Call initializer instance with the dtype argument instead of passing it to the constructor\n",
            "INFO:tensorflow:Done calling model_fn.\n",
            "INFO:tensorflow:Create CheckpointSaverHook.\n",
            "INFO:tensorflow:Graph was finalized.\n",
            "INFO:tensorflow:Running local_init_op.\n",
            "INFO:tensorflow:Done running local_init_op.\n",
            "INFO:tensorflow:Saving checkpoints for 0 into /tmp/tmpi97v71_g/model.ckpt.\n",
            "INFO:tensorflow:loss = 7.6832743, step = 0\n",
            "INFO:tensorflow:global_step/sec: 249.1\n",
            "INFO:tensorflow:loss = 4.3502626, step = 100 (0.403 sec)\n",
            "INFO:tensorflow:global_step/sec: 325.751\n",
            "INFO:tensorflow:loss = 6.4094553, step = 200 (0.307 sec)\n",
            "INFO:tensorflow:global_step/sec: 341.05\n",
            "INFO:tensorflow:loss = 3.048503, step = 300 (0.293 sec)\n",
            "INFO:tensorflow:global_step/sec: 335.898\n",
            "INFO:tensorflow:loss = 2.3793557, step = 400 (0.298 sec)\n",
            "INFO:tensorflow:global_step/sec: 320.277\n",
            "INFO:tensorflow:loss = 2.597722, step = 500 (0.312 sec)\n",
            "INFO:tensorflow:global_step/sec: 343.951\n",
            "INFO:tensorflow:loss = 3.327888, step = 600 (0.291 sec)\n",
            "INFO:tensorflow:global_step/sec: 338.241\n",
            "INFO:tensorflow:loss = 3.9190712, step = 700 (0.295 sec)\n",
            "INFO:tensorflow:global_step/sec: 344.939\n",
            "INFO:tensorflow:loss = 4.353445, step = 800 (0.290 sec)\n",
            "INFO:tensorflow:global_step/sec: 342.929\n",
            "INFO:tensorflow:loss = 2.8163967, step = 900 (0.294 sec)\n",
            "INFO:tensorflow:Saving checkpoints for 1000 into /tmp/tmpi97v71_g/model.ckpt.\n",
            "INFO:tensorflow:Loss for final step: 4.5435195.\n"
          ],
          "name": "stdout"
        },
        {
          "output_type": "execute_result",
          "data": {
            "text/plain": [
              "<tensorflow_estimator.python.estimator.canned.dnn.DNNClassifier at 0x7f0584685f28>"
            ]
          },
          "metadata": {
            "tags": []
          },
          "execution_count": 104
        }
      ]
    },
    {
      "cell_type": "markdown",
      "metadata": {
        "id": "8TFBMsCe3nuL",
        "colab_type": "text"
      },
      "source": [
        "### 2.6.5 Evaluation"
      ]
    },
    {
      "cell_type": "code",
      "metadata": {
        "id": "VCUJYaOJ15uG",
        "colab_type": "code",
        "colab": {}
      },
      "source": [
        "eval_input_func = tf.estimator.inputs.pandas_input_fn(\n",
        "      x=X_test,\n",
        "      y=y_test,\n",
        "      batch_size=10,\n",
        "      num_epochs=1,\n",
        "      shuffle=False)"
      ],
      "execution_count": 0,
      "outputs": []
    },
    {
      "cell_type": "code",
      "metadata": {
        "id": "vS925FBI2BA3",
        "colab_type": "code",
        "colab": {
          "base_uri": "https://localhost:8080/",
          "height": 428
        },
        "outputId": "5f56f474-bf80-4d8c-d190-1c0222708466"
      },
      "source": [
        "dnn_model.evaluate(eval_input_func)"
      ],
      "execution_count": 106,
      "outputs": [
        {
          "output_type": "stream",
          "text": [
            "INFO:tensorflow:Calling model_fn.\n",
            "WARNING:tensorflow:Trapezoidal rule is known to produce incorrect PR-AUCs; please switch to \"careful_interpolation\" instead.\n",
            "WARNING:tensorflow:Trapezoidal rule is known to produce incorrect PR-AUCs; please switch to \"careful_interpolation\" instead.\n",
            "INFO:tensorflow:Done calling model_fn.\n",
            "INFO:tensorflow:Starting evaluation at 2019-12-12T22:05:08Z\n",
            "INFO:tensorflow:Graph was finalized.\n",
            "INFO:tensorflow:Restoring parameters from /tmp/tmpi97v71_g/model.ckpt-1000\n",
            "INFO:tensorflow:Running local_init_op.\n",
            "INFO:tensorflow:Done running local_init_op.\n",
            "INFO:tensorflow:Finished evaluation at 2019-12-12-22:05:13\n",
            "INFO:tensorflow:Saving dict for global step 1000: accuracy = 0.82370496, accuracy_baseline = 0.74828017, auc = 0.8698382, auc_precision_recall = 0.9497107, average_loss = 0.38251767, global_step = 1000, label/mean = 0.74828017, loss = 3.8235922, precision = 0.8309832, prediction/mean = 0.783911, recall = 0.9595702\n",
            "INFO:tensorflow:Saving 'checkpoint_path' summary for global step 1000: /tmp/tmpi97v71_g/model.ckpt-1000\n"
          ],
          "name": "stdout"
        },
        {
          "output_type": "execute_result",
          "data": {
            "text/plain": [
              "{'accuracy': 0.82370496,\n",
              " 'accuracy_baseline': 0.74828017,\n",
              " 'auc': 0.8698382,\n",
              " 'auc_precision_recall': 0.9497107,\n",
              " 'average_loss': 0.38251767,\n",
              " 'global_step': 1000,\n",
              " 'label/mean': 0.74828017,\n",
              " 'loss': 3.8235922,\n",
              " 'precision': 0.8309832,\n",
              " 'prediction/mean': 0.783911,\n",
              " 'recall': 0.9595702}"
            ]
          },
          "metadata": {
            "tags": []
          },
          "execution_count": 106
        }
      ]
    }
  ]
}